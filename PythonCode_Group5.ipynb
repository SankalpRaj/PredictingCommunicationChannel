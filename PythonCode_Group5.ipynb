{
 "cells": [
  {
   "cell_type": "code",
   "execution_count": 1,
   "metadata": {},
   "outputs": [],
   "source": [
    "import pandas as pd\n",
    "import numpy as np\n",
    "\n",
    "from sklearn.cluster import KMeans\n",
    "from sklearn.linear_model import LogisticRegression\n",
    "from sklearn.model_selection import train_test_split\n",
    "from sklearn.metrics import confusion_matrix, roc_curve, roc_auc_score, accuracy_score, plot_confusion_matrix\n",
    "from sklearn.neighbors import KNeighborsClassifier\n",
    "from sklearn.preprocessing import StandardScaler\n",
    "from sklearn.metrics import classification_report, confusion_matrix\n",
    "from pandas import ExcelWriter\n",
    "from sklearn.metrics import plot_confusion_matrix \n",
    "from sklearn.ensemble import RandomForestClassifier\n",
    "from sklearn.tree import DecisionTreeClassifier\n",
    "from sklearn.naive_bayes import GaussianNB\n",
    "\n",
    "import matplotlib.pyplot as plt\n",
    "import seaborn as sns\n",
    "sns.set_style('whitegrid')\n"
   ]
  },
  {
   "cell_type": "code",
   "execution_count": 2,
   "metadata": {},
   "outputs": [],
   "source": [
    "trainingData = pd.read_csv(r'E:\\University College Dublin\\Business Analytics\\Data Management and Mining\\MIS41270-Data Management and Mining-202021 Spring - 3152021 - 1150 PM/QUB_Insurance_Data_Assignment_Training.csv')\n",
    "ScoringData = pd.read_csv(r'E:\\University College Dublin\\Business Analytics\\Data Management and Mining\\MIS41270-Data Management and Mining-202021 Spring - 3152021 - 1150 PM/QUB_Insurance_Data_Assignment_Scoring.csv')"
   ]
  },
  {
   "cell_type": "code",
   "execution_count": 3,
   "metadata": {},
   "outputs": [
    {
     "data": {
      "text/html": [
       "<div>\n",
       "<style scoped>\n",
       "    .dataframe tbody tr th:only-of-type {\n",
       "        vertical-align: middle;\n",
       "    }\n",
       "\n",
       "    .dataframe tbody tr th {\n",
       "        vertical-align: top;\n",
       "    }\n",
       "\n",
       "    .dataframe thead th {\n",
       "        text-align: right;\n",
       "    }\n",
       "</style>\n",
       "<table border=\"1\" class=\"dataframe\">\n",
       "  <thead>\n",
       "    <tr style=\"text-align: right;\">\n",
       "      <th></th>\n",
       "      <th>CustomerID</th>\n",
       "      <th>Title</th>\n",
       "      <th>GivenName</th>\n",
       "      <th>MiddleInitial</th>\n",
       "      <th>Surname</th>\n",
       "      <th>CreditCardType</th>\n",
       "      <th>Occupation</th>\n",
       "      <th>Gender</th>\n",
       "      <th>Age</th>\n",
       "      <th>Location</th>\n",
       "      <th>MotorInsurance</th>\n",
       "      <th>MotorValue</th>\n",
       "      <th>MotorType</th>\n",
       "      <th>HealthInsurance</th>\n",
       "      <th>HealthType</th>\n",
       "      <th>HealthDependentsAdults</th>\n",
       "      <th>HealthDependentsKids</th>\n",
       "      <th>TravelInsurance</th>\n",
       "      <th>TravelType</th>\n",
       "      <th>PrefChannel</th>\n",
       "    </tr>\n",
       "  </thead>\n",
       "  <tbody>\n",
       "    <tr>\n",
       "      <th>0</th>\n",
       "      <td>1</td>\n",
       "      <td>Mrs.</td>\n",
       "      <td>Macy</td>\n",
       "      <td>A</td>\n",
       "      <td>Boyle</td>\n",
       "      <td>AMEX</td>\n",
       "      <td>Clinical laboratory technologist</td>\n",
       "      <td>female</td>\n",
       "      <td>23</td>\n",
       "      <td>Urban</td>\n",
       "      <td>No</td>\n",
       "      <td>NaN</td>\n",
       "      <td>NaN</td>\n",
       "      <td>No</td>\n",
       "      <td>NaN</td>\n",
       "      <td>NaN</td>\n",
       "      <td>NaN</td>\n",
       "      <td>Yes</td>\n",
       "      <td>Premium</td>\n",
       "      <td>SMS</td>\n",
       "    </tr>\n",
       "    <tr>\n",
       "      <th>1</th>\n",
       "      <td>2</td>\n",
       "      <td>Ms.</td>\n",
       "      <td>Thea</td>\n",
       "      <td>L</td>\n",
       "      <td>McIntosh</td>\n",
       "      <td>AMEX</td>\n",
       "      <td>NaN</td>\n",
       "      <td>female</td>\n",
       "      <td>44</td>\n",
       "      <td>Urban</td>\n",
       "      <td>No</td>\n",
       "      <td>NaN</td>\n",
       "      <td>NaN</td>\n",
       "      <td>Yes</td>\n",
       "      <td>Level1</td>\n",
       "      <td>2.0</td>\n",
       "      <td>3.0</td>\n",
       "      <td>No</td>\n",
       "      <td>NaN</td>\n",
       "      <td>Phone</td>\n",
       "    </tr>\n",
       "    <tr>\n",
       "      <th>2</th>\n",
       "      <td>4</td>\n",
       "      <td>Ms.</td>\n",
       "      <td>Murron</td>\n",
       "      <td>P</td>\n",
       "      <td>Miller</td>\n",
       "      <td>AMEX</td>\n",
       "      <td>Sheriff</td>\n",
       "      <td>female</td>\n",
       "      <td>19</td>\n",
       "      <td>Urban</td>\n",
       "      <td>Yes</td>\n",
       "      <td>4920.0</td>\n",
       "      <td>Bundle</td>\n",
       "      <td>No</td>\n",
       "      <td>NaN</td>\n",
       "      <td>NaN</td>\n",
       "      <td>NaN</td>\n",
       "      <td>No</td>\n",
       "      <td>NaN</td>\n",
       "      <td>SMS</td>\n",
       "    </tr>\n",
       "    <tr>\n",
       "      <th>3</th>\n",
       "      <td>5</td>\n",
       "      <td>Mr.</td>\n",
       "      <td>Kai</td>\n",
       "      <td>A</td>\n",
       "      <td>Henderson</td>\n",
       "      <td>Visa</td>\n",
       "      <td>Automotive painter</td>\n",
       "      <td>male</td>\n",
       "      <td>47</td>\n",
       "      <td>Rural</td>\n",
       "      <td>Yes</td>\n",
       "      <td>14994.0</td>\n",
       "      <td>Single</td>\n",
       "      <td>Yes</td>\n",
       "      <td>Level1</td>\n",
       "      <td>1.0</td>\n",
       "      <td>2.0</td>\n",
       "      <td>Yes</td>\n",
       "      <td>Business</td>\n",
       "      <td>Phone</td>\n",
       "    </tr>\n",
       "    <tr>\n",
       "      <th>4</th>\n",
       "      <td>11</td>\n",
       "      <td>Mrs.</td>\n",
       "      <td>Kayla</td>\n",
       "      <td>A</td>\n",
       "      <td>Brown</td>\n",
       "      <td>Visa</td>\n",
       "      <td>Risk manager</td>\n",
       "      <td>female</td>\n",
       "      <td>54</td>\n",
       "      <td>Rural</td>\n",
       "      <td>Yes</td>\n",
       "      <td>14605.0</td>\n",
       "      <td>Single</td>\n",
       "      <td>Yes</td>\n",
       "      <td>Level2</td>\n",
       "      <td>2.0</td>\n",
       "      <td>3.0</td>\n",
       "      <td>No</td>\n",
       "      <td>NaN</td>\n",
       "      <td>Email</td>\n",
       "    </tr>\n",
       "  </tbody>\n",
       "</table>\n",
       "</div>"
      ],
      "text/plain": [
       "   CustomerID Title GivenName MiddleInitial    Surname CreditCardType  \\\n",
       "0           1  Mrs.      Macy             A      Boyle           AMEX   \n",
       "1           2   Ms.      Thea             L   McIntosh           AMEX   \n",
       "2           4   Ms.    Murron             P     Miller           AMEX   \n",
       "3           5   Mr.       Kai             A  Henderson           Visa   \n",
       "4          11  Mrs.     Kayla             A      Brown           Visa   \n",
       "\n",
       "                         Occupation  Gender  Age Location MotorInsurance  \\\n",
       "0  Clinical laboratory technologist  female   23    Urban             No   \n",
       "1                               NaN  female   44    Urban             No   \n",
       "2                           Sheriff  female   19    Urban            Yes   \n",
       "3                Automotive painter    male   47    Rural            Yes   \n",
       "4                      Risk manager  female   54    Rural            Yes   \n",
       "\n",
       "   MotorValue MotorType HealthInsurance HealthType  HealthDependentsAdults  \\\n",
       "0         NaN       NaN              No        NaN                     NaN   \n",
       "1         NaN       NaN             Yes     Level1                     2.0   \n",
       "2      4920.0    Bundle              No        NaN                     NaN   \n",
       "3     14994.0    Single             Yes     Level1                     1.0   \n",
       "4     14605.0    Single             Yes     Level2                     2.0   \n",
       "\n",
       "   HealthDependentsKids TravelInsurance TravelType PrefChannel  \n",
       "0                   NaN             Yes    Premium         SMS  \n",
       "1                   3.0              No        NaN       Phone  \n",
       "2                   NaN              No        NaN         SMS  \n",
       "3                   2.0             Yes   Business       Phone  \n",
       "4                   3.0              No        NaN       Email  "
      ]
     },
     "execution_count": 3,
     "metadata": {},
     "output_type": "execute_result"
    }
   ],
   "source": [
    "trainingData.head()"
   ]
  },
  {
   "cell_type": "code",
   "execution_count": 4,
   "metadata": {
    "scrolled": true
   },
   "outputs": [
    {
     "data": {
      "text/plain": [
       "CustomerID                   0\n",
       "Title                        0\n",
       "GivenName                    0\n",
       "MiddleInitial                0\n",
       "Surname                      0\n",
       "CreditCardType             722\n",
       "Occupation                1556\n",
       "Gender                       0\n",
       "Age                          0\n",
       "Location                     0\n",
       "MotorInsurance               0\n",
       "MotorValue                 729\n",
       "MotorType                  729\n",
       "HealthInsurance              0\n",
       "HealthType                1547\n",
       "HealthDependentsAdults    1547\n",
       "HealthDependentsKids      1547\n",
       "TravelInsurance              0\n",
       "TravelType                1982\n",
       "PrefChannel                  0\n",
       "dtype: int64"
      ]
     },
     "execution_count": 4,
     "metadata": {},
     "output_type": "execute_result"
    }
   ],
   "source": [
    "trainingData.isna().sum()"
   ]
  },
  {
   "cell_type": "code",
   "execution_count": 5,
   "metadata": {},
   "outputs": [
    {
     "name": "stderr",
     "output_type": "stream",
     "text": [
      "C:\\Users\\ADMIN\\anaconda3\\lib\\site-packages\\seaborn\\_decorators.py:36: FutureWarning: Pass the following variable as a keyword arg: x. From version 0.12, the only valid positional argument will be `data`, and passing other arguments without an explicit keyword will result in an error or misinterpretation.\n",
      "  warnings.warn(\n"
     ]
    },
    {
     "data": {
      "text/plain": [
       "<AxesSubplot:xlabel='Age'>"
      ]
     },
     "execution_count": 5,
     "metadata": {},
     "output_type": "execute_result"
    },
    {
     "data": {
      "image/png": "[encoded data removed]",
      "text/plain": [
       "<Figure size 432x288 with 1 Axes>"
      ]
     },
     "metadata": {},
     "output_type": "display_data"
    }
   ],
   "source": [
    "sns.boxplot(trainingData['Age'])"
   ]
  },
  {
   "cell_type": "code",
   "execution_count": 6,
   "metadata": {},
   "outputs": [
    {
     "data": {
      "text/plain": [
       "<AxesSubplot:>"
      ]
     },
     "execution_count": 6,
     "metadata": {},
     "output_type": "execute_result"
    },
    {
     "data": {
      "image/png": "[encoded data removed]",
      "text/plain": [
       "<Figure size 1152x576 with 1 Axes>"
      ]
     },
     "metadata": {},
     "output_type": "display_data"
    }
   ],
   "source": [
    "plt.figure(figsize = (16,8) )\n",
    "sns.heatmap(trainingData.isnull(), yticklabels=False, cbar= False, cmap='viridis')"
   ]
  },
  {
   "cell_type": "code",
   "execution_count": 7,
   "metadata": {},
   "outputs": [
    {
     "data": {
      "text/plain": [
       "<AxesSubplot:xlabel='PrefChannel', ylabel='count'>"
      ]
     },
     "execution_count": 7,
     "metadata": {},
     "output_type": "execute_result"
    },
    {
     "data": {
      "image/png": "[encoded data removed]",
      "text/plain": [
       "<Figure size 1152x576 with 1 Axes>"
      ]
     },
     "metadata": {},
     "output_type": "display_data"
    }
   ],
   "source": [
    "plt.figure(figsize = (16,8) )\n",
    "sns.countplot(x='PrefChannel', data = trainingData)"
   ]
  },
  {
   "cell_type": "code",
   "execution_count": 8,
   "metadata": {},
   "outputs": [
    {
     "data": {
      "text/plain": [
       "<AxesSubplot:xlabel='PrefChannel', ylabel='count'>"
      ]
     },
     "execution_count": 8,
     "metadata": {},
     "output_type": "execute_result"
    },
    {
     "data": {
      "image/png": "[encoded data removed]",
      "text/plain": [
       "<Figure size 1152x576 with 1 Axes>"
      ]
     },
     "metadata": {},
     "output_type": "display_data"
    }
   ],
   "source": [
    "plt.figure(figsize = (16,8) )\n",
    "sns.countplot(x='PrefChannel', hue ='CreditCardType' ,data = trainingData)"
   ]
  },
  {
   "cell_type": "code",
   "execution_count": 9,
   "metadata": {},
   "outputs": [
    {
     "data": {
      "text/plain": [
       "<AxesSubplot:xlabel='PrefChannel', ylabel='count'>"
      ]
     },
     "execution_count": 9,
     "metadata": {},
     "output_type": "execute_result"
    },
    {
     "data": {
      "image/png": "[encoded data removed]",
      "text/plain": [
       "<Figure size 1152x576 with 1 Axes>"
      ]
     },
     "metadata": {},
     "output_type": "display_data"
    }
   ],
   "source": [
    "plt.figure(figsize = (16,8) )\n",
    "sns.countplot(x='PrefChannel', hue ='Location' ,data = trainingData)"
   ]
  },
  {
   "cell_type": "code",
   "execution_count": 10,
   "metadata": {},
   "outputs": [
    {
     "data": {
      "text/plain": [
       "<seaborn.axisgrid.PairGrid at 0x2f9284f76a0>"
      ]
     },
     "execution_count": 10,
     "metadata": {},
     "output_type": "execute_result"
    },
    {
     "data": {
      "image/png": "[encoded data removed]",
      "text/plain": [
       "<Figure size 900x900 with 30 Axes>"
      ]
     },
     "metadata": {},
     "output_type": "display_data"
    }
   ],
   "source": [
    "sns.pairplot(trainingData)"
   ]
  },
  {
   "cell_type": "code",
   "execution_count": 11,
   "metadata": {},
   "outputs": [],
   "source": [
    "#rename\n",
    "def perfChannel(x):\n",
    "    if x == 'E' or x == 'Email':\n",
    "        return 'Email'\n",
    "    elif x == 'P' or x == 'Phone' :\n",
    "        return 'Phone'\n",
    "    elif x == 'S' or x == 'SMS':\n",
    "        return 'SMS'\n",
    "    else:\n",
    "        pass"
   ]
  },
  {
   "cell_type": "code",
   "execution_count": 12,
   "metadata": {},
   "outputs": [
    {
     "data": {
      "text/plain": [
       "array(['SMS', 'Phone', 'Email', 'E', 'P', 'S'], dtype=object)"
      ]
     },
     "execution_count": 12,
     "metadata": {},
     "output_type": "execute_result"
    }
   ],
   "source": [
    "trainingData['PrefChannel'].unique()"
   ]
  },
  {
   "cell_type": "code",
   "execution_count": 13,
   "metadata": {},
   "outputs": [],
   "source": [
    "trainingData[\"PrefChannel\"] = trainingData[\"PrefChannel\"].apply(perfChannel)"
   ]
  },
  {
   "cell_type": "code",
   "execution_count": 14,
   "metadata": {},
   "outputs": [
    {
     "data": {
      "text/plain": [
       "array(['SMS', 'Phone', 'Email'], dtype=object)"
      ]
     },
     "execution_count": 14,
     "metadata": {},
     "output_type": "execute_result"
    }
   ],
   "source": [
    "trainingData['PrefChannel'].unique()"
   ]
  },
  {
   "cell_type": "code",
   "execution_count": 15,
   "metadata": {},
   "outputs": [
    {
     "data": {
      "text/html": [
       "<div>\n",
       "<style scoped>\n",
       "    .dataframe tbody tr th:only-of-type {\n",
       "        vertical-align: middle;\n",
       "    }\n",
       "\n",
       "    .dataframe tbody tr th {\n",
       "        vertical-align: top;\n",
       "    }\n",
       "\n",
       "    .dataframe thead th {\n",
       "        text-align: right;\n",
       "    }\n",
       "</style>\n",
       "<table border=\"1\" class=\"dataframe\">\n",
       "  <thead>\n",
       "    <tr style=\"text-align: right;\">\n",
       "      <th></th>\n",
       "      <th>AMEX</th>\n",
       "      <th>Visa</th>\n",
       "    </tr>\n",
       "  </thead>\n",
       "  <tbody>\n",
       "    <tr>\n",
       "      <th>0</th>\n",
       "      <td>1</td>\n",
       "      <td>0</td>\n",
       "    </tr>\n",
       "    <tr>\n",
       "      <th>1</th>\n",
       "      <td>1</td>\n",
       "      <td>0</td>\n",
       "    </tr>\n",
       "    <tr>\n",
       "      <th>2</th>\n",
       "      <td>1</td>\n",
       "      <td>0</td>\n",
       "    </tr>\n",
       "    <tr>\n",
       "      <th>3</th>\n",
       "      <td>0</td>\n",
       "      <td>1</td>\n",
       "    </tr>\n",
       "    <tr>\n",
       "      <th>4</th>\n",
       "      <td>0</td>\n",
       "      <td>1</td>\n",
       "    </tr>\n",
       "    <tr>\n",
       "      <th>...</th>\n",
       "      <td>...</td>\n",
       "      <td>...</td>\n",
       "    </tr>\n",
       "    <tr>\n",
       "      <th>4085</th>\n",
       "      <td>0</td>\n",
       "      <td>1</td>\n",
       "    </tr>\n",
       "    <tr>\n",
       "      <th>4086</th>\n",
       "      <td>0</td>\n",
       "      <td>1</td>\n",
       "    </tr>\n",
       "    <tr>\n",
       "      <th>4087</th>\n",
       "      <td>0</td>\n",
       "      <td>1</td>\n",
       "    </tr>\n",
       "    <tr>\n",
       "      <th>4088</th>\n",
       "      <td>0</td>\n",
       "      <td>1</td>\n",
       "    </tr>\n",
       "    <tr>\n",
       "      <th>4089</th>\n",
       "      <td>0</td>\n",
       "      <td>1</td>\n",
       "    </tr>\n",
       "  </tbody>\n",
       "</table>\n",
       "<p>4090 rows × 2 columns</p>\n",
       "</div>"
      ],
      "text/plain": [
       "      AMEX  Visa\n",
       "0        1     0\n",
       "1        1     0\n",
       "2        1     0\n",
       "3        0     1\n",
       "4        0     1\n",
       "...    ...   ...\n",
       "4085     0     1\n",
       "4086     0     1\n",
       "4087     0     1\n",
       "4088     0     1\n",
       "4089     0     1\n",
       "\n",
       "[4090 rows x 2 columns]"
      ]
     },
     "execution_count": 15,
     "metadata": {},
     "output_type": "execute_result"
    }
   ],
   "source": [
    "dummy_creditCard = pd.get_dummies(trainingData['CreditCardType'])\n",
    "dummy_creditCard.columns = ['AMEX','Visa']\n",
    "dummy_creditCard"
   ]
  },
  {
   "cell_type": "code",
   "execution_count": 16,
   "metadata": {},
   "outputs": [],
   "source": [
    "trainingData.drop(['CreditCardType'],axis = 1, inplace = True)"
   ]
  },
  {
   "cell_type": "code",
   "execution_count": 17,
   "metadata": {},
   "outputs": [],
   "source": [
    "trainingData =pd.concat([trainingData,dummy_creditCard],axis = 1)"
   ]
  },
  {
   "cell_type": "code",
   "execution_count": 18,
   "metadata": {},
   "outputs": [
    {
     "data": {
      "text/html": [
       "<div>\n",
       "<style scoped>\n",
       "    .dataframe tbody tr th:only-of-type {\n",
       "        vertical-align: middle;\n",
       "    }\n",
       "\n",
       "    .dataframe tbody tr th {\n",
       "        vertical-align: top;\n",
       "    }\n",
       "\n",
       "    .dataframe thead th {\n",
       "        text-align: right;\n",
       "    }\n",
       "</style>\n",
       "<table border=\"1\" class=\"dataframe\">\n",
       "  <thead>\n",
       "    <tr style=\"text-align: right;\">\n",
       "      <th></th>\n",
       "      <th>CustomerID</th>\n",
       "      <th>Title</th>\n",
       "      <th>GivenName</th>\n",
       "      <th>MiddleInitial</th>\n",
       "      <th>Surname</th>\n",
       "      <th>Occupation</th>\n",
       "      <th>Gender</th>\n",
       "      <th>Age</th>\n",
       "      <th>Location</th>\n",
       "      <th>MotorInsurance</th>\n",
       "      <th>...</th>\n",
       "      <th>MotorType</th>\n",
       "      <th>HealthInsurance</th>\n",
       "      <th>HealthType</th>\n",
       "      <th>HealthDependentsAdults</th>\n",
       "      <th>HealthDependentsKids</th>\n",
       "      <th>TravelInsurance</th>\n",
       "      <th>TravelType</th>\n",
       "      <th>PrefChannel</th>\n",
       "      <th>AMEX</th>\n",
       "      <th>Visa</th>\n",
       "    </tr>\n",
       "  </thead>\n",
       "  <tbody>\n",
       "    <tr>\n",
       "      <th>0</th>\n",
       "      <td>1</td>\n",
       "      <td>Mrs.</td>\n",
       "      <td>Macy</td>\n",
       "      <td>A</td>\n",
       "      <td>Boyle</td>\n",
       "      <td>Clinical laboratory technologist</td>\n",
       "      <td>female</td>\n",
       "      <td>23</td>\n",
       "      <td>Urban</td>\n",
       "      <td>No</td>\n",
       "      <td>...</td>\n",
       "      <td>NaN</td>\n",
       "      <td>No</td>\n",
       "      <td>NaN</td>\n",
       "      <td>NaN</td>\n",
       "      <td>NaN</td>\n",
       "      <td>Yes</td>\n",
       "      <td>Premium</td>\n",
       "      <td>SMS</td>\n",
       "      <td>1</td>\n",
       "      <td>0</td>\n",
       "    </tr>\n",
       "    <tr>\n",
       "      <th>1</th>\n",
       "      <td>2</td>\n",
       "      <td>Ms.</td>\n",
       "      <td>Thea</td>\n",
       "      <td>L</td>\n",
       "      <td>McIntosh</td>\n",
       "      <td>NaN</td>\n",
       "      <td>female</td>\n",
       "      <td>44</td>\n",
       "      <td>Urban</td>\n",
       "      <td>No</td>\n",
       "      <td>...</td>\n",
       "      <td>NaN</td>\n",
       "      <td>Yes</td>\n",
       "      <td>Level1</td>\n",
       "      <td>2.0</td>\n",
       "      <td>3.0</td>\n",
       "      <td>No</td>\n",
       "      <td>NaN</td>\n",
       "      <td>Phone</td>\n",
       "      <td>1</td>\n",
       "      <td>0</td>\n",
       "    </tr>\n",
       "    <tr>\n",
       "      <th>2</th>\n",
       "      <td>4</td>\n",
       "      <td>Ms.</td>\n",
       "      <td>Murron</td>\n",
       "      <td>P</td>\n",
       "      <td>Miller</td>\n",
       "      <td>Sheriff</td>\n",
       "      <td>female</td>\n",
       "      <td>19</td>\n",
       "      <td>Urban</td>\n",
       "      <td>Yes</td>\n",
       "      <td>...</td>\n",
       "      <td>Bundle</td>\n",
       "      <td>No</td>\n",
       "      <td>NaN</td>\n",
       "      <td>NaN</td>\n",
       "      <td>NaN</td>\n",
       "      <td>No</td>\n",
       "      <td>NaN</td>\n",
       "      <td>SMS</td>\n",
       "      <td>1</td>\n",
       "      <td>0</td>\n",
       "    </tr>\n",
       "    <tr>\n",
       "      <th>3</th>\n",
       "      <td>5</td>\n",
       "      <td>Mr.</td>\n",
       "      <td>Kai</td>\n",
       "      <td>A</td>\n",
       "      <td>Henderson</td>\n",
       "      <td>Automotive painter</td>\n",
       "      <td>male</td>\n",
       "      <td>47</td>\n",
       "      <td>Rural</td>\n",
       "      <td>Yes</td>\n",
       "      <td>...</td>\n",
       "      <td>Single</td>\n",
       "      <td>Yes</td>\n",
       "      <td>Level1</td>\n",
       "      <td>1.0</td>\n",
       "      <td>2.0</td>\n",
       "      <td>Yes</td>\n",
       "      <td>Business</td>\n",
       "      <td>Phone</td>\n",
       "      <td>0</td>\n",
       "      <td>1</td>\n",
       "    </tr>\n",
       "    <tr>\n",
       "      <th>4</th>\n",
       "      <td>11</td>\n",
       "      <td>Mrs.</td>\n",
       "      <td>Kayla</td>\n",
       "      <td>A</td>\n",
       "      <td>Brown</td>\n",
       "      <td>Risk manager</td>\n",
       "      <td>female</td>\n",
       "      <td>54</td>\n",
       "      <td>Rural</td>\n",
       "      <td>Yes</td>\n",
       "      <td>...</td>\n",
       "      <td>Single</td>\n",
       "      <td>Yes</td>\n",
       "      <td>Level2</td>\n",
       "      <td>2.0</td>\n",
       "      <td>3.0</td>\n",
       "      <td>No</td>\n",
       "      <td>NaN</td>\n",
       "      <td>Email</td>\n",
       "      <td>0</td>\n",
       "      <td>1</td>\n",
       "    </tr>\n",
       "  </tbody>\n",
       "</table>\n",
       "<p>5 rows × 21 columns</p>\n",
       "</div>"
      ],
      "text/plain": [
       "   CustomerID Title GivenName MiddleInitial    Surname  \\\n",
       "0           1  Mrs.      Macy             A      Boyle   \n",
       "1           2   Ms.      Thea             L   McIntosh   \n",
       "2           4   Ms.    Murron             P     Miller   \n",
       "3           5   Mr.       Kai             A  Henderson   \n",
       "4          11  Mrs.     Kayla             A      Brown   \n",
       "\n",
       "                         Occupation  Gender  Age Location MotorInsurance  ...  \\\n",
       "0  Clinical laboratory technologist  female   23    Urban             No  ...   \n",
       "1                               NaN  female   44    Urban             No  ...   \n",
       "2                           Sheriff  female   19    Urban            Yes  ...   \n",
       "3                Automotive painter    male   47    Rural            Yes  ...   \n",
       "4                      Risk manager  female   54    Rural            Yes  ...   \n",
       "\n",
       "   MotorType HealthInsurance HealthType HealthDependentsAdults  \\\n",
       "0        NaN              No        NaN                    NaN   \n",
       "1        NaN             Yes     Level1                    2.0   \n",
       "2     Bundle              No        NaN                    NaN   \n",
       "3     Single             Yes     Level1                    1.0   \n",
       "4     Single             Yes     Level2                    2.0   \n",
       "\n",
       "   HealthDependentsKids  TravelInsurance TravelType PrefChannel AMEX  Visa  \n",
       "0                   NaN              Yes    Premium         SMS    1     0  \n",
       "1                   3.0               No        NaN       Phone    1     0  \n",
       "2                   NaN               No        NaN         SMS    1     0  \n",
       "3                   2.0              Yes   Business       Phone    0     1  \n",
       "4                   3.0               No        NaN       Email    0     1  \n",
       "\n",
       "[5 rows x 21 columns]"
      ]
     },
     "execution_count": 18,
     "metadata": {},
     "output_type": "execute_result"
    }
   ],
   "source": [
    "trainingData.head()"
   ]
  },
  {
   "cell_type": "code",
   "execution_count": 19,
   "metadata": {},
   "outputs": [
    {
     "data": {
      "text/plain": [
       "array(['female', 'male', 'f', 'm'], dtype=object)"
      ]
     },
     "execution_count": 19,
     "metadata": {},
     "output_type": "execute_result"
    }
   ],
   "source": [
    "trainingData.Gender.unique()"
   ]
  },
  {
   "cell_type": "code",
   "execution_count": 20,
   "metadata": {},
   "outputs": [],
   "source": [
    "#rename\n",
    "def gender(x):\n",
    "    if x == 'm' or x == 'male':\n",
    "        return 'Male'\n",
    "    elif x == 'f' or x == 'female' :\n",
    "        return 'female'\n",
    "    else:\n",
    "        pass"
   ]
  },
  {
   "cell_type": "code",
   "execution_count": 21,
   "metadata": {},
   "outputs": [],
   "source": [
    "trainingData[\"Gender\"] =trainingData[\"Gender\"].apply(gender)"
   ]
  },
  {
   "cell_type": "code",
   "execution_count": 22,
   "metadata": {},
   "outputs": [],
   "source": [
    "trainingData['Gender'] = trainingData['Gender'].replace(['Male'],1)\n",
    "trainingData['Gender'] = trainingData['Gender'].replace(['female'],0)"
   ]
  },
  {
   "cell_type": "code",
   "execution_count": 23,
   "metadata": {},
   "outputs": [
    {
     "data": {
      "text/html": [
       "<div>\n",
       "<style scoped>\n",
       "    .dataframe tbody tr th:only-of-type {\n",
       "        vertical-align: middle;\n",
       "    }\n",
       "\n",
       "    .dataframe tbody tr th {\n",
       "        vertical-align: top;\n",
       "    }\n",
       "\n",
       "    .dataframe thead th {\n",
       "        text-align: right;\n",
       "    }\n",
       "</style>\n",
       "<table border=\"1\" class=\"dataframe\">\n",
       "  <thead>\n",
       "    <tr style=\"text-align: right;\">\n",
       "      <th></th>\n",
       "      <th>CustomerID</th>\n",
       "      <th>Title</th>\n",
       "      <th>GivenName</th>\n",
       "      <th>MiddleInitial</th>\n",
       "      <th>Surname</th>\n",
       "      <th>Occupation</th>\n",
       "      <th>Gender</th>\n",
       "      <th>Age</th>\n",
       "      <th>Location</th>\n",
       "      <th>MotorInsurance</th>\n",
       "      <th>...</th>\n",
       "      <th>MotorType</th>\n",
       "      <th>HealthInsurance</th>\n",
       "      <th>HealthType</th>\n",
       "      <th>HealthDependentsAdults</th>\n",
       "      <th>HealthDependentsKids</th>\n",
       "      <th>TravelInsurance</th>\n",
       "      <th>TravelType</th>\n",
       "      <th>PrefChannel</th>\n",
       "      <th>AMEX</th>\n",
       "      <th>Visa</th>\n",
       "    </tr>\n",
       "  </thead>\n",
       "  <tbody>\n",
       "    <tr>\n",
       "      <th>0</th>\n",
       "      <td>1</td>\n",
       "      <td>Mrs.</td>\n",
       "      <td>Macy</td>\n",
       "      <td>A</td>\n",
       "      <td>Boyle</td>\n",
       "      <td>Clinical laboratory technologist</td>\n",
       "      <td>0</td>\n",
       "      <td>23</td>\n",
       "      <td>Urban</td>\n",
       "      <td>No</td>\n",
       "      <td>...</td>\n",
       "      <td>NaN</td>\n",
       "      <td>No</td>\n",
       "      <td>NaN</td>\n",
       "      <td>NaN</td>\n",
       "      <td>NaN</td>\n",
       "      <td>Yes</td>\n",
       "      <td>Premium</td>\n",
       "      <td>SMS</td>\n",
       "      <td>1</td>\n",
       "      <td>0</td>\n",
       "    </tr>\n",
       "    <tr>\n",
       "      <th>1</th>\n",
       "      <td>2</td>\n",
       "      <td>Ms.</td>\n",
       "      <td>Thea</td>\n",
       "      <td>L</td>\n",
       "      <td>McIntosh</td>\n",
       "      <td>NaN</td>\n",
       "      <td>0</td>\n",
       "      <td>44</td>\n",
       "      <td>Urban</td>\n",
       "      <td>No</td>\n",
       "      <td>...</td>\n",
       "      <td>NaN</td>\n",
       "      <td>Yes</td>\n",
       "      <td>Level1</td>\n",
       "      <td>2.0</td>\n",
       "      <td>3.0</td>\n",
       "      <td>No</td>\n",
       "      <td>NaN</td>\n",
       "      <td>Phone</td>\n",
       "      <td>1</td>\n",
       "      <td>0</td>\n",
       "    </tr>\n",
       "    <tr>\n",
       "      <th>2</th>\n",
       "      <td>4</td>\n",
       "      <td>Ms.</td>\n",
       "      <td>Murron</td>\n",
       "      <td>P</td>\n",
       "      <td>Miller</td>\n",
       "      <td>Sheriff</td>\n",
       "      <td>0</td>\n",
       "      <td>19</td>\n",
       "      <td>Urban</td>\n",
       "      <td>Yes</td>\n",
       "      <td>...</td>\n",
       "      <td>Bundle</td>\n",
       "      <td>No</td>\n",
       "      <td>NaN</td>\n",
       "      <td>NaN</td>\n",
       "      <td>NaN</td>\n",
       "      <td>No</td>\n",
       "      <td>NaN</td>\n",
       "      <td>SMS</td>\n",
       "      <td>1</td>\n",
       "      <td>0</td>\n",
       "    </tr>\n",
       "    <tr>\n",
       "      <th>3</th>\n",
       "      <td>5</td>\n",
       "      <td>Mr.</td>\n",
       "      <td>Kai</td>\n",
       "      <td>A</td>\n",
       "      <td>Henderson</td>\n",
       "      <td>Automotive painter</td>\n",
       "      <td>1</td>\n",
       "      <td>47</td>\n",
       "      <td>Rural</td>\n",
       "      <td>Yes</td>\n",
       "      <td>...</td>\n",
       "      <td>Single</td>\n",
       "      <td>Yes</td>\n",
       "      <td>Level1</td>\n",
       "      <td>1.0</td>\n",
       "      <td>2.0</td>\n",
       "      <td>Yes</td>\n",
       "      <td>Business</td>\n",
       "      <td>Phone</td>\n",
       "      <td>0</td>\n",
       "      <td>1</td>\n",
       "    </tr>\n",
       "    <tr>\n",
       "      <th>4</th>\n",
       "      <td>11</td>\n",
       "      <td>Mrs.</td>\n",
       "      <td>Kayla</td>\n",
       "      <td>A</td>\n",
       "      <td>Brown</td>\n",
       "      <td>Risk manager</td>\n",
       "      <td>0</td>\n",
       "      <td>54</td>\n",
       "      <td>Rural</td>\n",
       "      <td>Yes</td>\n",
       "      <td>...</td>\n",
       "      <td>Single</td>\n",
       "      <td>Yes</td>\n",
       "      <td>Level2</td>\n",
       "      <td>2.0</td>\n",
       "      <td>3.0</td>\n",
       "      <td>No</td>\n",
       "      <td>NaN</td>\n",
       "      <td>Email</td>\n",
       "      <td>0</td>\n",
       "      <td>1</td>\n",
       "    </tr>\n",
       "  </tbody>\n",
       "</table>\n",
       "<p>5 rows × 21 columns</p>\n",
       "</div>"
      ],
      "text/plain": [
       "   CustomerID Title GivenName MiddleInitial    Surname  \\\n",
       "0           1  Mrs.      Macy             A      Boyle   \n",
       "1           2   Ms.      Thea             L   McIntosh   \n",
       "2           4   Ms.    Murron             P     Miller   \n",
       "3           5   Mr.       Kai             A  Henderson   \n",
       "4          11  Mrs.     Kayla             A      Brown   \n",
       "\n",
       "                         Occupation  Gender  Age Location MotorInsurance  ...  \\\n",
       "0  Clinical laboratory technologist       0   23    Urban             No  ...   \n",
       "1                               NaN       0   44    Urban             No  ...   \n",
       "2                           Sheriff       0   19    Urban            Yes  ...   \n",
       "3                Automotive painter       1   47    Rural            Yes  ...   \n",
       "4                      Risk manager       0   54    Rural            Yes  ...   \n",
       "\n",
       "   MotorType HealthInsurance HealthType HealthDependentsAdults  \\\n",
       "0        NaN              No        NaN                    NaN   \n",
       "1        NaN             Yes     Level1                    2.0   \n",
       "2     Bundle              No        NaN                    NaN   \n",
       "3     Single             Yes     Level1                    1.0   \n",
       "4     Single             Yes     Level2                    2.0   \n",
       "\n",
       "   HealthDependentsKids  TravelInsurance TravelType PrefChannel AMEX  Visa  \n",
       "0                   NaN              Yes    Premium         SMS    1     0  \n",
       "1                   3.0               No        NaN       Phone    1     0  \n",
       "2                   NaN               No        NaN         SMS    1     0  \n",
       "3                   2.0              Yes   Business       Phone    0     1  \n",
       "4                   3.0               No        NaN       Email    0     1  \n",
       "\n",
       "[5 rows x 21 columns]"
      ]
     },
     "execution_count": 23,
     "metadata": {},
     "output_type": "execute_result"
    }
   ],
   "source": [
    "trainingData.head()"
   ]
  },
  {
   "cell_type": "code",
   "execution_count": 24,
   "metadata": {},
   "outputs": [],
   "source": [
    "del(trainingData['Occupation'])"
   ]
  },
  {
   "cell_type": "code",
   "execution_count": 25,
   "metadata": {},
   "outputs": [],
   "source": [
    "# trainingData.Location.unique()\n",
    "trainingData['Location'] = trainingData['Location'].replace(['Urban'],0)\n",
    "trainingData['Location'] = trainingData['Location'].replace(['Rural'],1)"
   ]
  },
  {
   "cell_type": "code",
   "execution_count": 26,
   "metadata": {},
   "outputs": [
    {
     "data": {
      "text/html": [
       "<div>\n",
       "<style scoped>\n",
       "    .dataframe tbody tr th:only-of-type {\n",
       "        vertical-align: middle;\n",
       "    }\n",
       "\n",
       "    .dataframe tbody tr th {\n",
       "        vertical-align: top;\n",
       "    }\n",
       "\n",
       "    .dataframe thead th {\n",
       "        text-align: right;\n",
       "    }\n",
       "</style>\n",
       "<table border=\"1\" class=\"dataframe\">\n",
       "  <thead>\n",
       "    <tr style=\"text-align: right;\">\n",
       "      <th></th>\n",
       "      <th>CustomerID</th>\n",
       "      <th>Title</th>\n",
       "      <th>GivenName</th>\n",
       "      <th>MiddleInitial</th>\n",
       "      <th>Surname</th>\n",
       "      <th>Gender</th>\n",
       "      <th>Age</th>\n",
       "      <th>Location</th>\n",
       "      <th>MotorInsurance</th>\n",
       "      <th>MotorValue</th>\n",
       "      <th>MotorType</th>\n",
       "      <th>HealthInsurance</th>\n",
       "      <th>HealthType</th>\n",
       "      <th>HealthDependentsAdults</th>\n",
       "      <th>HealthDependentsKids</th>\n",
       "      <th>TravelInsurance</th>\n",
       "      <th>TravelType</th>\n",
       "      <th>PrefChannel</th>\n",
       "      <th>AMEX</th>\n",
       "      <th>Visa</th>\n",
       "    </tr>\n",
       "  </thead>\n",
       "  <tbody>\n",
       "    <tr>\n",
       "      <th>0</th>\n",
       "      <td>1</td>\n",
       "      <td>Mrs.</td>\n",
       "      <td>Macy</td>\n",
       "      <td>A</td>\n",
       "      <td>Boyle</td>\n",
       "      <td>0</td>\n",
       "      <td>23</td>\n",
       "      <td>0</td>\n",
       "      <td>No</td>\n",
       "      <td>NaN</td>\n",
       "      <td>NaN</td>\n",
       "      <td>No</td>\n",
       "      <td>NaN</td>\n",
       "      <td>NaN</td>\n",
       "      <td>NaN</td>\n",
       "      <td>Yes</td>\n",
       "      <td>Premium</td>\n",
       "      <td>SMS</td>\n",
       "      <td>1</td>\n",
       "      <td>0</td>\n",
       "    </tr>\n",
       "    <tr>\n",
       "      <th>1</th>\n",
       "      <td>2</td>\n",
       "      <td>Ms.</td>\n",
       "      <td>Thea</td>\n",
       "      <td>L</td>\n",
       "      <td>McIntosh</td>\n",
       "      <td>0</td>\n",
       "      <td>44</td>\n",
       "      <td>0</td>\n",
       "      <td>No</td>\n",
       "      <td>NaN</td>\n",
       "      <td>NaN</td>\n",
       "      <td>Yes</td>\n",
       "      <td>Level1</td>\n",
       "      <td>2.0</td>\n",
       "      <td>3.0</td>\n",
       "      <td>No</td>\n",
       "      <td>NaN</td>\n",
       "      <td>Phone</td>\n",
       "      <td>1</td>\n",
       "      <td>0</td>\n",
       "    </tr>\n",
       "    <tr>\n",
       "      <th>2</th>\n",
       "      <td>4</td>\n",
       "      <td>Ms.</td>\n",
       "      <td>Murron</td>\n",
       "      <td>P</td>\n",
       "      <td>Miller</td>\n",
       "      <td>0</td>\n",
       "      <td>19</td>\n",
       "      <td>0</td>\n",
       "      <td>Yes</td>\n",
       "      <td>4920.0</td>\n",
       "      <td>Bundle</td>\n",
       "      <td>No</td>\n",
       "      <td>NaN</td>\n",
       "      <td>NaN</td>\n",
       "      <td>NaN</td>\n",
       "      <td>No</td>\n",
       "      <td>NaN</td>\n",
       "      <td>SMS</td>\n",
       "      <td>1</td>\n",
       "      <td>0</td>\n",
       "    </tr>\n",
       "    <tr>\n",
       "      <th>3</th>\n",
       "      <td>5</td>\n",
       "      <td>Mr.</td>\n",
       "      <td>Kai</td>\n",
       "      <td>A</td>\n",
       "      <td>Henderson</td>\n",
       "      <td>1</td>\n",
       "      <td>47</td>\n",
       "      <td>1</td>\n",
       "      <td>Yes</td>\n",
       "      <td>14994.0</td>\n",
       "      <td>Single</td>\n",
       "      <td>Yes</td>\n",
       "      <td>Level1</td>\n",
       "      <td>1.0</td>\n",
       "      <td>2.0</td>\n",
       "      <td>Yes</td>\n",
       "      <td>Business</td>\n",
       "      <td>Phone</td>\n",
       "      <td>0</td>\n",
       "      <td>1</td>\n",
       "    </tr>\n",
       "    <tr>\n",
       "      <th>4</th>\n",
       "      <td>11</td>\n",
       "      <td>Mrs.</td>\n",
       "      <td>Kayla</td>\n",
       "      <td>A</td>\n",
       "      <td>Brown</td>\n",
       "      <td>0</td>\n",
       "      <td>54</td>\n",
       "      <td>1</td>\n",
       "      <td>Yes</td>\n",
       "      <td>14605.0</td>\n",
       "      <td>Single</td>\n",
       "      <td>Yes</td>\n",
       "      <td>Level2</td>\n",
       "      <td>2.0</td>\n",
       "      <td>3.0</td>\n",
       "      <td>No</td>\n",
       "      <td>NaN</td>\n",
       "      <td>Email</td>\n",
       "      <td>0</td>\n",
       "      <td>1</td>\n",
       "    </tr>\n",
       "  </tbody>\n",
       "</table>\n",
       "</div>"
      ],
      "text/plain": [
       "   CustomerID Title GivenName MiddleInitial    Surname  Gender  Age  Location  \\\n",
       "0           1  Mrs.      Macy             A      Boyle       0   23         0   \n",
       "1           2   Ms.      Thea             L   McIntosh       0   44         0   \n",
       "2           4   Ms.    Murron             P     Miller       0   19         0   \n",
       "3           5   Mr.       Kai             A  Henderson       1   47         1   \n",
       "4          11  Mrs.     Kayla             A      Brown       0   54         1   \n",
       "\n",
       "  MotorInsurance  MotorValue MotorType HealthInsurance HealthType  \\\n",
       "0             No         NaN       NaN              No        NaN   \n",
       "1             No         NaN       NaN             Yes     Level1   \n",
       "2            Yes      4920.0    Bundle              No        NaN   \n",
       "3            Yes     14994.0    Single             Yes     Level1   \n",
       "4            Yes     14605.0    Single             Yes     Level2   \n",
       "\n",
       "   HealthDependentsAdults  HealthDependentsKids TravelInsurance TravelType  \\\n",
       "0                     NaN                   NaN             Yes    Premium   \n",
       "1                     2.0                   3.0              No        NaN   \n",
       "2                     NaN                   NaN              No        NaN   \n",
       "3                     1.0                   2.0             Yes   Business   \n",
       "4                     2.0                   3.0              No        NaN   \n",
       "\n",
       "  PrefChannel  AMEX  Visa  \n",
       "0         SMS     1     0  \n",
       "1       Phone     1     0  \n",
       "2         SMS     1     0  \n",
       "3       Phone     0     1  \n",
       "4       Email     0     1  "
      ]
     },
     "execution_count": 26,
     "metadata": {},
     "output_type": "execute_result"
    }
   ],
   "source": [
    "trainingData.head()"
   ]
  },
  {
   "cell_type": "code",
   "execution_count": 27,
   "metadata": {},
   "outputs": [],
   "source": [
    "def yesNo(x):\n",
    "    if x == 'No':\n",
    "        return 0\n",
    "    else:\n",
    "        return 1"
   ]
  },
  {
   "cell_type": "code",
   "execution_count": 28,
   "metadata": {},
   "outputs": [],
   "source": [
    "trainingData['MotorInsurance'] = trainingData['MotorInsurance'].apply(yesNo)"
   ]
  },
  {
   "cell_type": "code",
   "execution_count": 29,
   "metadata": {},
   "outputs": [
    {
     "data": {
      "text/html": [
       "<div>\n",
       "<style scoped>\n",
       "    .dataframe tbody tr th:only-of-type {\n",
       "        vertical-align: middle;\n",
       "    }\n",
       "\n",
       "    .dataframe tbody tr th {\n",
       "        vertical-align: top;\n",
       "    }\n",
       "\n",
       "    .dataframe thead th {\n",
       "        text-align: right;\n",
       "    }\n",
       "</style>\n",
       "<table border=\"1\" class=\"dataframe\">\n",
       "  <thead>\n",
       "    <tr style=\"text-align: right;\">\n",
       "      <th></th>\n",
       "      <th>CustomerID</th>\n",
       "      <th>Title</th>\n",
       "      <th>GivenName</th>\n",
       "      <th>MiddleInitial</th>\n",
       "      <th>Surname</th>\n",
       "      <th>Gender</th>\n",
       "      <th>Age</th>\n",
       "      <th>Location</th>\n",
       "      <th>MotorInsurance</th>\n",
       "      <th>MotorValue</th>\n",
       "      <th>MotorType</th>\n",
       "      <th>HealthInsurance</th>\n",
       "      <th>HealthType</th>\n",
       "      <th>HealthDependentsAdults</th>\n",
       "      <th>HealthDependentsKids</th>\n",
       "      <th>TravelInsurance</th>\n",
       "      <th>TravelType</th>\n",
       "      <th>PrefChannel</th>\n",
       "      <th>AMEX</th>\n",
       "      <th>Visa</th>\n",
       "    </tr>\n",
       "  </thead>\n",
       "  <tbody>\n",
       "    <tr>\n",
       "      <th>0</th>\n",
       "      <td>1</td>\n",
       "      <td>Mrs.</td>\n",
       "      <td>Macy</td>\n",
       "      <td>A</td>\n",
       "      <td>Boyle</td>\n",
       "      <td>0</td>\n",
       "      <td>23</td>\n",
       "      <td>0</td>\n",
       "      <td>0</td>\n",
       "      <td>NaN</td>\n",
       "      <td>NaN</td>\n",
       "      <td>No</td>\n",
       "      <td>NaN</td>\n",
       "      <td>NaN</td>\n",
       "      <td>NaN</td>\n",
       "      <td>Yes</td>\n",
       "      <td>Premium</td>\n",
       "      <td>SMS</td>\n",
       "      <td>1</td>\n",
       "      <td>0</td>\n",
       "    </tr>\n",
       "    <tr>\n",
       "      <th>1</th>\n",
       "      <td>2</td>\n",
       "      <td>Ms.</td>\n",
       "      <td>Thea</td>\n",
       "      <td>L</td>\n",
       "      <td>McIntosh</td>\n",
       "      <td>0</td>\n",
       "      <td>44</td>\n",
       "      <td>0</td>\n",
       "      <td>0</td>\n",
       "      <td>NaN</td>\n",
       "      <td>NaN</td>\n",
       "      <td>Yes</td>\n",
       "      <td>Level1</td>\n",
       "      <td>2.0</td>\n",
       "      <td>3.0</td>\n",
       "      <td>No</td>\n",
       "      <td>NaN</td>\n",
       "      <td>Phone</td>\n",
       "      <td>1</td>\n",
       "      <td>0</td>\n",
       "    </tr>\n",
       "    <tr>\n",
       "      <th>2</th>\n",
       "      <td>4</td>\n",
       "      <td>Ms.</td>\n",
       "      <td>Murron</td>\n",
       "      <td>P</td>\n",
       "      <td>Miller</td>\n",
       "      <td>0</td>\n",
       "      <td>19</td>\n",
       "      <td>0</td>\n",
       "      <td>1</td>\n",
       "      <td>4920.0</td>\n",
       "      <td>Bundle</td>\n",
       "      <td>No</td>\n",
       "      <td>NaN</td>\n",
       "      <td>NaN</td>\n",
       "      <td>NaN</td>\n",
       "      <td>No</td>\n",
       "      <td>NaN</td>\n",
       "      <td>SMS</td>\n",
       "      <td>1</td>\n",
       "      <td>0</td>\n",
       "    </tr>\n",
       "    <tr>\n",
       "      <th>3</th>\n",
       "      <td>5</td>\n",
       "      <td>Mr.</td>\n",
       "      <td>Kai</td>\n",
       "      <td>A</td>\n",
       "      <td>Henderson</td>\n",
       "      <td>1</td>\n",
       "      <td>47</td>\n",
       "      <td>1</td>\n",
       "      <td>1</td>\n",
       "      <td>14994.0</td>\n",
       "      <td>Single</td>\n",
       "      <td>Yes</td>\n",
       "      <td>Level1</td>\n",
       "      <td>1.0</td>\n",
       "      <td>2.0</td>\n",
       "      <td>Yes</td>\n",
       "      <td>Business</td>\n",
       "      <td>Phone</td>\n",
       "      <td>0</td>\n",
       "      <td>1</td>\n",
       "    </tr>\n",
       "    <tr>\n",
       "      <th>4</th>\n",
       "      <td>11</td>\n",
       "      <td>Mrs.</td>\n",
       "      <td>Kayla</td>\n",
       "      <td>A</td>\n",
       "      <td>Brown</td>\n",
       "      <td>0</td>\n",
       "      <td>54</td>\n",
       "      <td>1</td>\n",
       "      <td>1</td>\n",
       "      <td>14605.0</td>\n",
       "      <td>Single</td>\n",
       "      <td>Yes</td>\n",
       "      <td>Level2</td>\n",
       "      <td>2.0</td>\n",
       "      <td>3.0</td>\n",
       "      <td>No</td>\n",
       "      <td>NaN</td>\n",
       "      <td>Email</td>\n",
       "      <td>0</td>\n",
       "      <td>1</td>\n",
       "    </tr>\n",
       "  </tbody>\n",
       "</table>\n",
       "</div>"
      ],
      "text/plain": [
       "   CustomerID Title GivenName MiddleInitial    Surname  Gender  Age  Location  \\\n",
       "0           1  Mrs.      Macy             A      Boyle       0   23         0   \n",
       "1           2   Ms.      Thea             L   McIntosh       0   44         0   \n",
       "2           4   Ms.    Murron             P     Miller       0   19         0   \n",
       "3           5   Mr.       Kai             A  Henderson       1   47         1   \n",
       "4          11  Mrs.     Kayla             A      Brown       0   54         1   \n",
       "\n",
       "   MotorInsurance  MotorValue MotorType HealthInsurance HealthType  \\\n",
       "0               0         NaN       NaN              No        NaN   \n",
       "1               0         NaN       NaN             Yes     Level1   \n",
       "2               1      4920.0    Bundle              No        NaN   \n",
       "3               1     14994.0    Single             Yes     Level1   \n",
       "4               1     14605.0    Single             Yes     Level2   \n",
       "\n",
       "   HealthDependentsAdults  HealthDependentsKids TravelInsurance TravelType  \\\n",
       "0                     NaN                   NaN             Yes    Premium   \n",
       "1                     2.0                   3.0              No        NaN   \n",
       "2                     NaN                   NaN              No        NaN   \n",
       "3                     1.0                   2.0             Yes   Business   \n",
       "4                     2.0                   3.0              No        NaN   \n",
       "\n",
       "  PrefChannel  AMEX  Visa  \n",
       "0         SMS     1     0  \n",
       "1       Phone     1     0  \n",
       "2         SMS     1     0  \n",
       "3       Phone     0     1  \n",
       "4       Email     0     1  "
      ]
     },
     "execution_count": 29,
     "metadata": {},
     "output_type": "execute_result"
    }
   ],
   "source": [
    "trainingData.head()"
   ]
  },
  {
   "cell_type": "code",
   "execution_count": 30,
   "metadata": {},
   "outputs": [],
   "source": [
    "trainingData['MotorValue'] = trainingData['MotorValue'].fillna(0)\n",
    "trainingData['MotorValue'] = trainingData['MotorValue'].astype(int)"
   ]
  },
  {
   "cell_type": "code",
   "execution_count": 31,
   "metadata": {},
   "outputs": [
    {
     "data": {
      "text/html": [
       "<div>\n",
       "<style scoped>\n",
       "    .dataframe tbody tr th:only-of-type {\n",
       "        vertical-align: middle;\n",
       "    }\n",
       "\n",
       "    .dataframe tbody tr th {\n",
       "        vertical-align: top;\n",
       "    }\n",
       "\n",
       "    .dataframe thead th {\n",
       "        text-align: right;\n",
       "    }\n",
       "</style>\n",
       "<table border=\"1\" class=\"dataframe\">\n",
       "  <thead>\n",
       "    <tr style=\"text-align: right;\">\n",
       "      <th></th>\n",
       "      <th>CustomerID</th>\n",
       "      <th>Title</th>\n",
       "      <th>GivenName</th>\n",
       "      <th>MiddleInitial</th>\n",
       "      <th>Surname</th>\n",
       "      <th>Gender</th>\n",
       "      <th>Age</th>\n",
       "      <th>Location</th>\n",
       "      <th>MotorInsurance</th>\n",
       "      <th>MotorValue</th>\n",
       "      <th>MotorType</th>\n",
       "      <th>HealthInsurance</th>\n",
       "      <th>HealthType</th>\n",
       "      <th>HealthDependentsAdults</th>\n",
       "      <th>HealthDependentsKids</th>\n",
       "      <th>TravelInsurance</th>\n",
       "      <th>TravelType</th>\n",
       "      <th>PrefChannel</th>\n",
       "      <th>AMEX</th>\n",
       "      <th>Visa</th>\n",
       "    </tr>\n",
       "  </thead>\n",
       "  <tbody>\n",
       "    <tr>\n",
       "      <th>0</th>\n",
       "      <td>1</td>\n",
       "      <td>Mrs.</td>\n",
       "      <td>Macy</td>\n",
       "      <td>A</td>\n",
       "      <td>Boyle</td>\n",
       "      <td>0</td>\n",
       "      <td>23</td>\n",
       "      <td>0</td>\n",
       "      <td>0</td>\n",
       "      <td>0</td>\n",
       "      <td>NaN</td>\n",
       "      <td>No</td>\n",
       "      <td>NaN</td>\n",
       "      <td>NaN</td>\n",
       "      <td>NaN</td>\n",
       "      <td>Yes</td>\n",
       "      <td>Premium</td>\n",
       "      <td>SMS</td>\n",
       "      <td>1</td>\n",
       "      <td>0</td>\n",
       "    </tr>\n",
       "    <tr>\n",
       "      <th>1</th>\n",
       "      <td>2</td>\n",
       "      <td>Ms.</td>\n",
       "      <td>Thea</td>\n",
       "      <td>L</td>\n",
       "      <td>McIntosh</td>\n",
       "      <td>0</td>\n",
       "      <td>44</td>\n",
       "      <td>0</td>\n",
       "      <td>0</td>\n",
       "      <td>0</td>\n",
       "      <td>NaN</td>\n",
       "      <td>Yes</td>\n",
       "      <td>Level1</td>\n",
       "      <td>2.0</td>\n",
       "      <td>3.0</td>\n",
       "      <td>No</td>\n",
       "      <td>NaN</td>\n",
       "      <td>Phone</td>\n",
       "      <td>1</td>\n",
       "      <td>0</td>\n",
       "    </tr>\n",
       "    <tr>\n",
       "      <th>2</th>\n",
       "      <td>4</td>\n",
       "      <td>Ms.</td>\n",
       "      <td>Murron</td>\n",
       "      <td>P</td>\n",
       "      <td>Miller</td>\n",
       "      <td>0</td>\n",
       "      <td>19</td>\n",
       "      <td>0</td>\n",
       "      <td>1</td>\n",
       "      <td>4920</td>\n",
       "      <td>Bundle</td>\n",
       "      <td>No</td>\n",
       "      <td>NaN</td>\n",
       "      <td>NaN</td>\n",
       "      <td>NaN</td>\n",
       "      <td>No</td>\n",
       "      <td>NaN</td>\n",
       "      <td>SMS</td>\n",
       "      <td>1</td>\n",
       "      <td>0</td>\n",
       "    </tr>\n",
       "    <tr>\n",
       "      <th>3</th>\n",
       "      <td>5</td>\n",
       "      <td>Mr.</td>\n",
       "      <td>Kai</td>\n",
       "      <td>A</td>\n",
       "      <td>Henderson</td>\n",
       "      <td>1</td>\n",
       "      <td>47</td>\n",
       "      <td>1</td>\n",
       "      <td>1</td>\n",
       "      <td>14994</td>\n",
       "      <td>Single</td>\n",
       "      <td>Yes</td>\n",
       "      <td>Level1</td>\n",
       "      <td>1.0</td>\n",
       "      <td>2.0</td>\n",
       "      <td>Yes</td>\n",
       "      <td>Business</td>\n",
       "      <td>Phone</td>\n",
       "      <td>0</td>\n",
       "      <td>1</td>\n",
       "    </tr>\n",
       "    <tr>\n",
       "      <th>4</th>\n",
       "      <td>11</td>\n",
       "      <td>Mrs.</td>\n",
       "      <td>Kayla</td>\n",
       "      <td>A</td>\n",
       "      <td>Brown</td>\n",
       "      <td>0</td>\n",
       "      <td>54</td>\n",
       "      <td>1</td>\n",
       "      <td>1</td>\n",
       "      <td>14605</td>\n",
       "      <td>Single</td>\n",
       "      <td>Yes</td>\n",
       "      <td>Level2</td>\n",
       "      <td>2.0</td>\n",
       "      <td>3.0</td>\n",
       "      <td>No</td>\n",
       "      <td>NaN</td>\n",
       "      <td>Email</td>\n",
       "      <td>0</td>\n",
       "      <td>1</td>\n",
       "    </tr>\n",
       "  </tbody>\n",
       "</table>\n",
       "</div>"
      ],
      "text/plain": [
       "   CustomerID Title GivenName MiddleInitial    Surname  Gender  Age  Location  \\\n",
       "0           1  Mrs.      Macy             A      Boyle       0   23         0   \n",
       "1           2   Ms.      Thea             L   McIntosh       0   44         0   \n",
       "2           4   Ms.    Murron             P     Miller       0   19         0   \n",
       "3           5   Mr.       Kai             A  Henderson       1   47         1   \n",
       "4          11  Mrs.     Kayla             A      Brown       0   54         1   \n",
       "\n",
       "   MotorInsurance  MotorValue MotorType HealthInsurance HealthType  \\\n",
       "0               0           0       NaN              No        NaN   \n",
       "1               0           0       NaN             Yes     Level1   \n",
       "2               1        4920    Bundle              No        NaN   \n",
       "3               1       14994    Single             Yes     Level1   \n",
       "4               1       14605    Single             Yes     Level2   \n",
       "\n",
       "   HealthDependentsAdults  HealthDependentsKids TravelInsurance TravelType  \\\n",
       "0                     NaN                   NaN             Yes    Premium   \n",
       "1                     2.0                   3.0              No        NaN   \n",
       "2                     NaN                   NaN              No        NaN   \n",
       "3                     1.0                   2.0             Yes   Business   \n",
       "4                     2.0                   3.0              No        NaN   \n",
       "\n",
       "  PrefChannel  AMEX  Visa  \n",
       "0         SMS     1     0  \n",
       "1       Phone     1     0  \n",
       "2         SMS     1     0  \n",
       "3       Phone     0     1  \n",
       "4       Email     0     1  "
      ]
     },
     "execution_count": 31,
     "metadata": {},
     "output_type": "execute_result"
    }
   ],
   "source": [
    "trainingData.head()"
   ]
  },
  {
   "cell_type": "code",
   "execution_count": 32,
   "metadata": {},
   "outputs": [
    {
     "data": {
      "text/html": [
       "<div>\n",
       "<style scoped>\n",
       "    .dataframe tbody tr th:only-of-type {\n",
       "        vertical-align: middle;\n",
       "    }\n",
       "\n",
       "    .dataframe tbody tr th {\n",
       "        vertical-align: top;\n",
       "    }\n",
       "\n",
       "    .dataframe thead th {\n",
       "        text-align: right;\n",
       "    }\n",
       "</style>\n",
       "<table border=\"1\" class=\"dataframe\">\n",
       "  <thead>\n",
       "    <tr style=\"text-align: right;\">\n",
       "      <th></th>\n",
       "      <th>Bundle_Motor_Type</th>\n",
       "      <th>Single_Motor_Type</th>\n",
       "    </tr>\n",
       "  </thead>\n",
       "  <tbody>\n",
       "    <tr>\n",
       "      <th>0</th>\n",
       "      <td>0</td>\n",
       "      <td>0</td>\n",
       "    </tr>\n",
       "    <tr>\n",
       "      <th>1</th>\n",
       "      <td>0</td>\n",
       "      <td>0</td>\n",
       "    </tr>\n",
       "    <tr>\n",
       "      <th>2</th>\n",
       "      <td>1</td>\n",
       "      <td>0</td>\n",
       "    </tr>\n",
       "    <tr>\n",
       "      <th>3</th>\n",
       "      <td>0</td>\n",
       "      <td>1</td>\n",
       "    </tr>\n",
       "    <tr>\n",
       "      <th>4</th>\n",
       "      <td>0</td>\n",
       "      <td>1</td>\n",
       "    </tr>\n",
       "    <tr>\n",
       "      <th>...</th>\n",
       "      <td>...</td>\n",
       "      <td>...</td>\n",
       "    </tr>\n",
       "    <tr>\n",
       "      <th>4085</th>\n",
       "      <td>0</td>\n",
       "      <td>0</td>\n",
       "    </tr>\n",
       "    <tr>\n",
       "      <th>4086</th>\n",
       "      <td>0</td>\n",
       "      <td>1</td>\n",
       "    </tr>\n",
       "    <tr>\n",
       "      <th>4087</th>\n",
       "      <td>0</td>\n",
       "      <td>1</td>\n",
       "    </tr>\n",
       "    <tr>\n",
       "      <th>4088</th>\n",
       "      <td>0</td>\n",
       "      <td>1</td>\n",
       "    </tr>\n",
       "    <tr>\n",
       "      <th>4089</th>\n",
       "      <td>0</td>\n",
       "      <td>1</td>\n",
       "    </tr>\n",
       "  </tbody>\n",
       "</table>\n",
       "<p>4090 rows × 2 columns</p>\n",
       "</div>"
      ],
      "text/plain": [
       "      Bundle_Motor_Type  Single_Motor_Type\n",
       "0                     0                  0\n",
       "1                     0                  0\n",
       "2                     1                  0\n",
       "3                     0                  1\n",
       "4                     0                  1\n",
       "...                 ...                ...\n",
       "4085                  0                  0\n",
       "4086                  0                  1\n",
       "4087                  0                  1\n",
       "4088                  0                  1\n",
       "4089                  0                  1\n",
       "\n",
       "[4090 rows x 2 columns]"
      ]
     },
     "execution_count": 32,
     "metadata": {},
     "output_type": "execute_result"
    }
   ],
   "source": [
    "dummy_motorType = pd.get_dummies(trainingData['MotorType'])\n",
    "dummy_motorType.columns = ['Bundle_Motor_Type','Single_Motor_Type']\n",
    "dummy_motorType"
   ]
  },
  {
   "cell_type": "code",
   "execution_count": 33,
   "metadata": {},
   "outputs": [],
   "source": [
    "trainingData.drop(['MotorType'],axis = 1, inplace = True)"
   ]
  },
  {
   "cell_type": "code",
   "execution_count": 34,
   "metadata": {},
   "outputs": [],
   "source": [
    "trainingData =pd.concat([trainingData,dummy_motorType],axis = 1)"
   ]
  },
  {
   "cell_type": "code",
   "execution_count": 35,
   "metadata": {},
   "outputs": [
    {
     "data": {
      "text/html": [
       "<div>\n",
       "<style scoped>\n",
       "    .dataframe tbody tr th:only-of-type {\n",
       "        vertical-align: middle;\n",
       "    }\n",
       "\n",
       "    .dataframe tbody tr th {\n",
       "        vertical-align: top;\n",
       "    }\n",
       "\n",
       "    .dataframe thead th {\n",
       "        text-align: right;\n",
       "    }\n",
       "</style>\n",
       "<table border=\"1\" class=\"dataframe\">\n",
       "  <thead>\n",
       "    <tr style=\"text-align: right;\">\n",
       "      <th></th>\n",
       "      <th>CustomerID</th>\n",
       "      <th>Title</th>\n",
       "      <th>GivenName</th>\n",
       "      <th>MiddleInitial</th>\n",
       "      <th>Surname</th>\n",
       "      <th>Gender</th>\n",
       "      <th>Age</th>\n",
       "      <th>Location</th>\n",
       "      <th>MotorInsurance</th>\n",
       "      <th>MotorValue</th>\n",
       "      <th>...</th>\n",
       "      <th>HealthType</th>\n",
       "      <th>HealthDependentsAdults</th>\n",
       "      <th>HealthDependentsKids</th>\n",
       "      <th>TravelInsurance</th>\n",
       "      <th>TravelType</th>\n",
       "      <th>PrefChannel</th>\n",
       "      <th>AMEX</th>\n",
       "      <th>Visa</th>\n",
       "      <th>Bundle_Motor_Type</th>\n",
       "      <th>Single_Motor_Type</th>\n",
       "    </tr>\n",
       "  </thead>\n",
       "  <tbody>\n",
       "    <tr>\n",
       "      <th>0</th>\n",
       "      <td>1</td>\n",
       "      <td>Mrs.</td>\n",
       "      <td>Macy</td>\n",
       "      <td>A</td>\n",
       "      <td>Boyle</td>\n",
       "      <td>0</td>\n",
       "      <td>23</td>\n",
       "      <td>0</td>\n",
       "      <td>0</td>\n",
       "      <td>0</td>\n",
       "      <td>...</td>\n",
       "      <td>NaN</td>\n",
       "      <td>NaN</td>\n",
       "      <td>NaN</td>\n",
       "      <td>Yes</td>\n",
       "      <td>Premium</td>\n",
       "      <td>SMS</td>\n",
       "      <td>1</td>\n",
       "      <td>0</td>\n",
       "      <td>0</td>\n",
       "      <td>0</td>\n",
       "    </tr>\n",
       "    <tr>\n",
       "      <th>1</th>\n",
       "      <td>2</td>\n",
       "      <td>Ms.</td>\n",
       "      <td>Thea</td>\n",
       "      <td>L</td>\n",
       "      <td>McIntosh</td>\n",
       "      <td>0</td>\n",
       "      <td>44</td>\n",
       "      <td>0</td>\n",
       "      <td>0</td>\n",
       "      <td>0</td>\n",
       "      <td>...</td>\n",
       "      <td>Level1</td>\n",
       "      <td>2.0</td>\n",
       "      <td>3.0</td>\n",
       "      <td>No</td>\n",
       "      <td>NaN</td>\n",
       "      <td>Phone</td>\n",
       "      <td>1</td>\n",
       "      <td>0</td>\n",
       "      <td>0</td>\n",
       "      <td>0</td>\n",
       "    </tr>\n",
       "    <tr>\n",
       "      <th>2</th>\n",
       "      <td>4</td>\n",
       "      <td>Ms.</td>\n",
       "      <td>Murron</td>\n",
       "      <td>P</td>\n",
       "      <td>Miller</td>\n",
       "      <td>0</td>\n",
       "      <td>19</td>\n",
       "      <td>0</td>\n",
       "      <td>1</td>\n",
       "      <td>4920</td>\n",
       "      <td>...</td>\n",
       "      <td>NaN</td>\n",
       "      <td>NaN</td>\n",
       "      <td>NaN</td>\n",
       "      <td>No</td>\n",
       "      <td>NaN</td>\n",
       "      <td>SMS</td>\n",
       "      <td>1</td>\n",
       "      <td>0</td>\n",
       "      <td>1</td>\n",
       "      <td>0</td>\n",
       "    </tr>\n",
       "    <tr>\n",
       "      <th>3</th>\n",
       "      <td>5</td>\n",
       "      <td>Mr.</td>\n",
       "      <td>Kai</td>\n",
       "      <td>A</td>\n",
       "      <td>Henderson</td>\n",
       "      <td>1</td>\n",
       "      <td>47</td>\n",
       "      <td>1</td>\n",
       "      <td>1</td>\n",
       "      <td>14994</td>\n",
       "      <td>...</td>\n",
       "      <td>Level1</td>\n",
       "      <td>1.0</td>\n",
       "      <td>2.0</td>\n",
       "      <td>Yes</td>\n",
       "      <td>Business</td>\n",
       "      <td>Phone</td>\n",
       "      <td>0</td>\n",
       "      <td>1</td>\n",
       "      <td>0</td>\n",
       "      <td>1</td>\n",
       "    </tr>\n",
       "    <tr>\n",
       "      <th>4</th>\n",
       "      <td>11</td>\n",
       "      <td>Mrs.</td>\n",
       "      <td>Kayla</td>\n",
       "      <td>A</td>\n",
       "      <td>Brown</td>\n",
       "      <td>0</td>\n",
       "      <td>54</td>\n",
       "      <td>1</td>\n",
       "      <td>1</td>\n",
       "      <td>14605</td>\n",
       "      <td>...</td>\n",
       "      <td>Level2</td>\n",
       "      <td>2.0</td>\n",
       "      <td>3.0</td>\n",
       "      <td>No</td>\n",
       "      <td>NaN</td>\n",
       "      <td>Email</td>\n",
       "      <td>0</td>\n",
       "      <td>1</td>\n",
       "      <td>0</td>\n",
       "      <td>1</td>\n",
       "    </tr>\n",
       "  </tbody>\n",
       "</table>\n",
       "<p>5 rows × 21 columns</p>\n",
       "</div>"
      ],
      "text/plain": [
       "   CustomerID Title GivenName MiddleInitial    Surname  Gender  Age  Location  \\\n",
       "0           1  Mrs.      Macy             A      Boyle       0   23         0   \n",
       "1           2   Ms.      Thea             L   McIntosh       0   44         0   \n",
       "2           4   Ms.    Murron             P     Miller       0   19         0   \n",
       "3           5   Mr.       Kai             A  Henderson       1   47         1   \n",
       "4          11  Mrs.     Kayla             A      Brown       0   54         1   \n",
       "\n",
       "   MotorInsurance  MotorValue  ... HealthType HealthDependentsAdults  \\\n",
       "0               0           0  ...        NaN                    NaN   \n",
       "1               0           0  ...     Level1                    2.0   \n",
       "2               1        4920  ...        NaN                    NaN   \n",
       "3               1       14994  ...     Level1                    1.0   \n",
       "4               1       14605  ...     Level2                    2.0   \n",
       "\n",
       "   HealthDependentsKids  TravelInsurance TravelType PrefChannel AMEX  Visa  \\\n",
       "0                   NaN              Yes    Premium         SMS    1     0   \n",
       "1                   3.0               No        NaN       Phone    1     0   \n",
       "2                   NaN               No        NaN         SMS    1     0   \n",
       "3                   2.0              Yes   Business       Phone    0     1   \n",
       "4                   3.0               No        NaN       Email    0     1   \n",
       "\n",
       "   Bundle_Motor_Type  Single_Motor_Type  \n",
       "0                  0                  0  \n",
       "1                  0                  0  \n",
       "2                  1                  0  \n",
       "3                  0                  1  \n",
       "4                  0                  1  \n",
       "\n",
       "[5 rows x 21 columns]"
      ]
     },
     "execution_count": 35,
     "metadata": {},
     "output_type": "execute_result"
    }
   ],
   "source": [
    "trainingData.head()"
   ]
  },
  {
   "cell_type": "code",
   "execution_count": 36,
   "metadata": {},
   "outputs": [],
   "source": [
    "trainingData['HealthInsurance'] = trainingData['HealthInsurance'].apply(yesNo)"
   ]
  },
  {
   "cell_type": "code",
   "execution_count": 37,
   "metadata": {},
   "outputs": [
    {
     "data": {
      "text/html": [
       "<div>\n",
       "<style scoped>\n",
       "    .dataframe tbody tr th:only-of-type {\n",
       "        vertical-align: middle;\n",
       "    }\n",
       "\n",
       "    .dataframe tbody tr th {\n",
       "        vertical-align: top;\n",
       "    }\n",
       "\n",
       "    .dataframe thead th {\n",
       "        text-align: right;\n",
       "    }\n",
       "</style>\n",
       "<table border=\"1\" class=\"dataframe\">\n",
       "  <thead>\n",
       "    <tr style=\"text-align: right;\">\n",
       "      <th></th>\n",
       "      <th>CustomerID</th>\n",
       "      <th>Title</th>\n",
       "      <th>GivenName</th>\n",
       "      <th>MiddleInitial</th>\n",
       "      <th>Surname</th>\n",
       "      <th>Gender</th>\n",
       "      <th>Age</th>\n",
       "      <th>Location</th>\n",
       "      <th>MotorInsurance</th>\n",
       "      <th>MotorValue</th>\n",
       "      <th>...</th>\n",
       "      <th>HealthType</th>\n",
       "      <th>HealthDependentsAdults</th>\n",
       "      <th>HealthDependentsKids</th>\n",
       "      <th>TravelInsurance</th>\n",
       "      <th>TravelType</th>\n",
       "      <th>PrefChannel</th>\n",
       "      <th>AMEX</th>\n",
       "      <th>Visa</th>\n",
       "      <th>Bundle_Motor_Type</th>\n",
       "      <th>Single_Motor_Type</th>\n",
       "    </tr>\n",
       "  </thead>\n",
       "  <tbody>\n",
       "    <tr>\n",
       "      <th>0</th>\n",
       "      <td>1</td>\n",
       "      <td>Mrs.</td>\n",
       "      <td>Macy</td>\n",
       "      <td>A</td>\n",
       "      <td>Boyle</td>\n",
       "      <td>0</td>\n",
       "      <td>23</td>\n",
       "      <td>0</td>\n",
       "      <td>0</td>\n",
       "      <td>0</td>\n",
       "      <td>...</td>\n",
       "      <td>NaN</td>\n",
       "      <td>NaN</td>\n",
       "      <td>NaN</td>\n",
       "      <td>Yes</td>\n",
       "      <td>Premium</td>\n",
       "      <td>SMS</td>\n",
       "      <td>1</td>\n",
       "      <td>0</td>\n",
       "      <td>0</td>\n",
       "      <td>0</td>\n",
       "    </tr>\n",
       "    <tr>\n",
       "      <th>1</th>\n",
       "      <td>2</td>\n",
       "      <td>Ms.</td>\n",
       "      <td>Thea</td>\n",
       "      <td>L</td>\n",
       "      <td>McIntosh</td>\n",
       "      <td>0</td>\n",
       "      <td>44</td>\n",
       "      <td>0</td>\n",
       "      <td>0</td>\n",
       "      <td>0</td>\n",
       "      <td>...</td>\n",
       "      <td>Level1</td>\n",
       "      <td>2.0</td>\n",
       "      <td>3.0</td>\n",
       "      <td>No</td>\n",
       "      <td>NaN</td>\n",
       "      <td>Phone</td>\n",
       "      <td>1</td>\n",
       "      <td>0</td>\n",
       "      <td>0</td>\n",
       "      <td>0</td>\n",
       "    </tr>\n",
       "    <tr>\n",
       "      <th>2</th>\n",
       "      <td>4</td>\n",
       "      <td>Ms.</td>\n",
       "      <td>Murron</td>\n",
       "      <td>P</td>\n",
       "      <td>Miller</td>\n",
       "      <td>0</td>\n",
       "      <td>19</td>\n",
       "      <td>0</td>\n",
       "      <td>1</td>\n",
       "      <td>4920</td>\n",
       "      <td>...</td>\n",
       "      <td>NaN</td>\n",
       "      <td>NaN</td>\n",
       "      <td>NaN</td>\n",
       "      <td>No</td>\n",
       "      <td>NaN</td>\n",
       "      <td>SMS</td>\n",
       "      <td>1</td>\n",
       "      <td>0</td>\n",
       "      <td>1</td>\n",
       "      <td>0</td>\n",
       "    </tr>\n",
       "    <tr>\n",
       "      <th>3</th>\n",
       "      <td>5</td>\n",
       "      <td>Mr.</td>\n",
       "      <td>Kai</td>\n",
       "      <td>A</td>\n",
       "      <td>Henderson</td>\n",
       "      <td>1</td>\n",
       "      <td>47</td>\n",
       "      <td>1</td>\n",
       "      <td>1</td>\n",
       "      <td>14994</td>\n",
       "      <td>...</td>\n",
       "      <td>Level1</td>\n",
       "      <td>1.0</td>\n",
       "      <td>2.0</td>\n",
       "      <td>Yes</td>\n",
       "      <td>Business</td>\n",
       "      <td>Phone</td>\n",
       "      <td>0</td>\n",
       "      <td>1</td>\n",
       "      <td>0</td>\n",
       "      <td>1</td>\n",
       "    </tr>\n",
       "    <tr>\n",
       "      <th>4</th>\n",
       "      <td>11</td>\n",
       "      <td>Mrs.</td>\n",
       "      <td>Kayla</td>\n",
       "      <td>A</td>\n",
       "      <td>Brown</td>\n",
       "      <td>0</td>\n",
       "      <td>54</td>\n",
       "      <td>1</td>\n",
       "      <td>1</td>\n",
       "      <td>14605</td>\n",
       "      <td>...</td>\n",
       "      <td>Level2</td>\n",
       "      <td>2.0</td>\n",
       "      <td>3.0</td>\n",
       "      <td>No</td>\n",
       "      <td>NaN</td>\n",
       "      <td>Email</td>\n",
       "      <td>0</td>\n",
       "      <td>1</td>\n",
       "      <td>0</td>\n",
       "      <td>1</td>\n",
       "    </tr>\n",
       "  </tbody>\n",
       "</table>\n",
       "<p>5 rows × 21 columns</p>\n",
       "</div>"
      ],
      "text/plain": [
       "   CustomerID Title GivenName MiddleInitial    Surname  Gender  Age  Location  \\\n",
       "0           1  Mrs.      Macy             A      Boyle       0   23         0   \n",
       "1           2   Ms.      Thea             L   McIntosh       0   44         0   \n",
       "2           4   Ms.    Murron             P     Miller       0   19         0   \n",
       "3           5   Mr.       Kai             A  Henderson       1   47         1   \n",
       "4          11  Mrs.     Kayla             A      Brown       0   54         1   \n",
       "\n",
       "   MotorInsurance  MotorValue  ...  HealthType HealthDependentsAdults  \\\n",
       "0               0           0  ...         NaN                    NaN   \n",
       "1               0           0  ...      Level1                    2.0   \n",
       "2               1        4920  ...         NaN                    NaN   \n",
       "3               1       14994  ...      Level1                    1.0   \n",
       "4               1       14605  ...      Level2                    2.0   \n",
       "\n",
       "   HealthDependentsKids  TravelInsurance TravelType PrefChannel AMEX  Visa  \\\n",
       "0                   NaN              Yes    Premium         SMS    1     0   \n",
       "1                   3.0               No        NaN       Phone    1     0   \n",
       "2                   NaN               No        NaN         SMS    1     0   \n",
       "3                   2.0              Yes   Business       Phone    0     1   \n",
       "4                   3.0               No        NaN       Email    0     1   \n",
       "\n",
       "   Bundle_Motor_Type  Single_Motor_Type  \n",
       "0                  0                  0  \n",
       "1                  0                  0  \n",
       "2                  1                  0  \n",
       "3                  0                  1  \n",
       "4                  0                  1  \n",
       "\n",
       "[5 rows x 21 columns]"
      ]
     },
     "execution_count": 37,
     "metadata": {},
     "output_type": "execute_result"
    }
   ],
   "source": [
    "trainingData.head()"
   ]
  },
  {
   "cell_type": "code",
   "execution_count": 38,
   "metadata": {},
   "outputs": [],
   "source": [
    "trainingData['TravelInsurance'] = trainingData['TravelInsurance'].apply(yesNo)"
   ]
  },
  {
   "cell_type": "code",
   "execution_count": 39,
   "metadata": {},
   "outputs": [
    {
     "data": {
      "text/html": [
       "<div>\n",
       "<style scoped>\n",
       "    .dataframe tbody tr th:only-of-type {\n",
       "        vertical-align: middle;\n",
       "    }\n",
       "\n",
       "    .dataframe tbody tr th {\n",
       "        vertical-align: top;\n",
       "    }\n",
       "\n",
       "    .dataframe thead th {\n",
       "        text-align: right;\n",
       "    }\n",
       "</style>\n",
       "<table border=\"1\" class=\"dataframe\">\n",
       "  <thead>\n",
       "    <tr style=\"text-align: right;\">\n",
       "      <th></th>\n",
       "      <th>Health_Type_Level1</th>\n",
       "      <th>Health_Type_Level2</th>\n",
       "      <th>Health_Type_Level3</th>\n",
       "    </tr>\n",
       "  </thead>\n",
       "  <tbody>\n",
       "    <tr>\n",
       "      <th>0</th>\n",
       "      <td>0</td>\n",
       "      <td>0</td>\n",
       "      <td>0</td>\n",
       "    </tr>\n",
       "    <tr>\n",
       "      <th>1</th>\n",
       "      <td>1</td>\n",
       "      <td>0</td>\n",
       "      <td>0</td>\n",
       "    </tr>\n",
       "    <tr>\n",
       "      <th>2</th>\n",
       "      <td>0</td>\n",
       "      <td>0</td>\n",
       "      <td>0</td>\n",
       "    </tr>\n",
       "    <tr>\n",
       "      <th>3</th>\n",
       "      <td>1</td>\n",
       "      <td>0</td>\n",
       "      <td>0</td>\n",
       "    </tr>\n",
       "    <tr>\n",
       "      <th>4</th>\n",
       "      <td>0</td>\n",
       "      <td>1</td>\n",
       "      <td>0</td>\n",
       "    </tr>\n",
       "    <tr>\n",
       "      <th>...</th>\n",
       "      <td>...</td>\n",
       "      <td>...</td>\n",
       "      <td>...</td>\n",
       "    </tr>\n",
       "    <tr>\n",
       "      <th>4085</th>\n",
       "      <td>0</td>\n",
       "      <td>0</td>\n",
       "      <td>1</td>\n",
       "    </tr>\n",
       "    <tr>\n",
       "      <th>4086</th>\n",
       "      <td>0</td>\n",
       "      <td>0</td>\n",
       "      <td>0</td>\n",
       "    </tr>\n",
       "    <tr>\n",
       "      <th>4087</th>\n",
       "      <td>0</td>\n",
       "      <td>1</td>\n",
       "      <td>0</td>\n",
       "    </tr>\n",
       "    <tr>\n",
       "      <th>4088</th>\n",
       "      <td>0</td>\n",
       "      <td>1</td>\n",
       "      <td>0</td>\n",
       "    </tr>\n",
       "    <tr>\n",
       "      <th>4089</th>\n",
       "      <td>0</td>\n",
       "      <td>1</td>\n",
       "      <td>0</td>\n",
       "    </tr>\n",
       "  </tbody>\n",
       "</table>\n",
       "<p>4090 rows × 3 columns</p>\n",
       "</div>"
      ],
      "text/plain": [
       "      Health_Type_Level1  Health_Type_Level2  Health_Type_Level3\n",
       "0                      0                   0                   0\n",
       "1                      1                   0                   0\n",
       "2                      0                   0                   0\n",
       "3                      1                   0                   0\n",
       "4                      0                   1                   0\n",
       "...                  ...                 ...                 ...\n",
       "4085                   0                   0                   1\n",
       "4086                   0                   0                   0\n",
       "4087                   0                   1                   0\n",
       "4088                   0                   1                   0\n",
       "4089                   0                   1                   0\n",
       "\n",
       "[4090 rows x 3 columns]"
      ]
     },
     "execution_count": 39,
     "metadata": {},
     "output_type": "execute_result"
    }
   ],
   "source": [
    "dummy_healthType = pd.get_dummies(trainingData['HealthType'])\n",
    "dummy_healthType.columns = ['Health_Type_Level1','Health_Type_Level2','Health_Type_Level3']\n",
    "dummy_healthType"
   ]
  },
  {
   "cell_type": "code",
   "execution_count": 40,
   "metadata": {},
   "outputs": [],
   "source": [
    "trainingData.drop(['HealthType'],axis = 1, inplace = True)"
   ]
  },
  {
   "cell_type": "code",
   "execution_count": 41,
   "metadata": {},
   "outputs": [],
   "source": [
    "trainingData =pd.concat([trainingData,dummy_healthType],axis = 1)"
   ]
  },
  {
   "cell_type": "code",
   "execution_count": 42,
   "metadata": {},
   "outputs": [],
   "source": [
    "trainingData['HealthDependentsKids'] = trainingData['HealthDependentsKids'].fillna(0)"
   ]
  },
  {
   "cell_type": "code",
   "execution_count": 43,
   "metadata": {},
   "outputs": [],
   "source": [
    "trainingData['HealthDependentsAdults'] = trainingData['HealthDependentsAdults'].fillna(0)"
   ]
  },
  {
   "cell_type": "code",
   "execution_count": 44,
   "metadata": {},
   "outputs": [
    {
     "data": {
      "text/html": [
       "<div>\n",
       "<style scoped>\n",
       "    .dataframe tbody tr th:only-of-type {\n",
       "        vertical-align: middle;\n",
       "    }\n",
       "\n",
       "    .dataframe tbody tr th {\n",
       "        vertical-align: top;\n",
       "    }\n",
       "\n",
       "    .dataframe thead th {\n",
       "        text-align: right;\n",
       "    }\n",
       "</style>\n",
       "<table border=\"1\" class=\"dataframe\">\n",
       "  <thead>\n",
       "    <tr style=\"text-align: right;\">\n",
       "      <th></th>\n",
       "      <th>Travel_Type_Backpacker</th>\n",
       "      <th>Travel_Type_Business</th>\n",
       "      <th>Travel_Type_Premium</th>\n",
       "      <th>Travel_Type_Senior</th>\n",
       "      <th>Travel_Type_Standard</th>\n",
       "    </tr>\n",
       "  </thead>\n",
       "  <tbody>\n",
       "    <tr>\n",
       "      <th>0</th>\n",
       "      <td>0</td>\n",
       "      <td>0</td>\n",
       "      <td>1</td>\n",
       "      <td>0</td>\n",
       "      <td>0</td>\n",
       "    </tr>\n",
       "    <tr>\n",
       "      <th>1</th>\n",
       "      <td>0</td>\n",
       "      <td>0</td>\n",
       "      <td>0</td>\n",
       "      <td>0</td>\n",
       "      <td>0</td>\n",
       "    </tr>\n",
       "    <tr>\n",
       "      <th>2</th>\n",
       "      <td>0</td>\n",
       "      <td>0</td>\n",
       "      <td>0</td>\n",
       "      <td>0</td>\n",
       "      <td>0</td>\n",
       "    </tr>\n",
       "    <tr>\n",
       "      <th>3</th>\n",
       "      <td>0</td>\n",
       "      <td>1</td>\n",
       "      <td>0</td>\n",
       "      <td>0</td>\n",
       "      <td>0</td>\n",
       "    </tr>\n",
       "    <tr>\n",
       "      <th>4</th>\n",
       "      <td>0</td>\n",
       "      <td>0</td>\n",
       "      <td>0</td>\n",
       "      <td>0</td>\n",
       "      <td>0</td>\n",
       "    </tr>\n",
       "    <tr>\n",
       "      <th>...</th>\n",
       "      <td>...</td>\n",
       "      <td>...</td>\n",
       "      <td>...</td>\n",
       "      <td>...</td>\n",
       "      <td>...</td>\n",
       "    </tr>\n",
       "    <tr>\n",
       "      <th>4085</th>\n",
       "      <td>0</td>\n",
       "      <td>0</td>\n",
       "      <td>0</td>\n",
       "      <td>0</td>\n",
       "      <td>0</td>\n",
       "    </tr>\n",
       "    <tr>\n",
       "      <th>4086</th>\n",
       "      <td>0</td>\n",
       "      <td>0</td>\n",
       "      <td>0</td>\n",
       "      <td>0</td>\n",
       "      <td>0</td>\n",
       "    </tr>\n",
       "    <tr>\n",
       "      <th>4087</th>\n",
       "      <td>0</td>\n",
       "      <td>0</td>\n",
       "      <td>0</td>\n",
       "      <td>0</td>\n",
       "      <td>0</td>\n",
       "    </tr>\n",
       "    <tr>\n",
       "      <th>4088</th>\n",
       "      <td>0</td>\n",
       "      <td>0</td>\n",
       "      <td>0</td>\n",
       "      <td>0</td>\n",
       "      <td>0</td>\n",
       "    </tr>\n",
       "    <tr>\n",
       "      <th>4089</th>\n",
       "      <td>0</td>\n",
       "      <td>0</td>\n",
       "      <td>0</td>\n",
       "      <td>0</td>\n",
       "      <td>0</td>\n",
       "    </tr>\n",
       "  </tbody>\n",
       "</table>\n",
       "<p>4090 rows × 5 columns</p>\n",
       "</div>"
      ],
      "text/plain": [
       "      Travel_Type_Backpacker  Travel_Type_Business  Travel_Type_Premium  \\\n",
       "0                          0                     0                    1   \n",
       "1                          0                     0                    0   \n",
       "2                          0                     0                    0   \n",
       "3                          0                     1                    0   \n",
       "4                          0                     0                    0   \n",
       "...                      ...                   ...                  ...   \n",
       "4085                       0                     0                    0   \n",
       "4086                       0                     0                    0   \n",
       "4087                       0                     0                    0   \n",
       "4088                       0                     0                    0   \n",
       "4089                       0                     0                    0   \n",
       "\n",
       "      Travel_Type_Senior  Travel_Type_Standard  \n",
       "0                      0                     0  \n",
       "1                      0                     0  \n",
       "2                      0                     0  \n",
       "3                      0                     0  \n",
       "4                      0                     0  \n",
       "...                  ...                   ...  \n",
       "4085                   0                     0  \n",
       "4086                   0                     0  \n",
       "4087                   0                     0  \n",
       "4088                   0                     0  \n",
       "4089                   0                     0  \n",
       "\n",
       "[4090 rows x 5 columns]"
      ]
     },
     "execution_count": 44,
     "metadata": {},
     "output_type": "execute_result"
    }
   ],
   "source": [
    "dummy_travelType = pd.get_dummies(trainingData['TravelType'])\n",
    "dummy_travelType.columns = ['Travel_Type_Backpacker','Travel_Type_Business','Travel_Type_Premium','Travel_Type_Senior','Travel_Type_Standard']\n",
    "dummy_travelType"
   ]
  },
  {
   "cell_type": "code",
   "execution_count": 45,
   "metadata": {},
   "outputs": [],
   "source": [
    "trainingData.drop(['TravelType'],axis = 1, inplace = True)"
   ]
  },
  {
   "cell_type": "code",
   "execution_count": 46,
   "metadata": {},
   "outputs": [],
   "source": [
    "trainingData =pd.concat([trainingData,dummy_travelType],axis = 1)"
   ]
  },
  {
   "cell_type": "code",
   "execution_count": 47,
   "metadata": {},
   "outputs": [],
   "source": [
    "trainingData['PrefChannel'] = trainingData['PrefChannel'].replace(['Email'],1)\n",
    "trainingData['PrefChannel'] = trainingData['PrefChannel'].replace(['Phone'],2)\n",
    "trainingData['PrefChannel'] = trainingData['PrefChannel'].replace(['SMS'],3)"
   ]
  },
  {
   "cell_type": "code",
   "execution_count": 48,
   "metadata": {
    "scrolled": true
   },
   "outputs": [
    {
     "data": {
      "text/plain": [
       "0    3\n",
       "1    2\n",
       "2    3\n",
       "3    2\n",
       "4    1\n",
       "Name: PrefChannel, dtype: int64"
      ]
     },
     "execution_count": 48,
     "metadata": {},
     "output_type": "execute_result"
    }
   ],
   "source": [
    "trainingData['PrefChannel'].head()"
   ]
  },
  {
   "cell_type": "markdown",
   "metadata": {},
   "source": [
    "# VALIDATION"
   ]
  },
  {
   "cell_type": "code",
   "execution_count": 49,
   "metadata": {},
   "outputs": [],
   "source": [
    "data = trainingData"
   ]
  },
  {
   "cell_type": "code",
   "execution_count": 50,
   "metadata": {},
   "outputs": [
    {
     "data": {
      "text/html": [
       "<div>\n",
       "<style scoped>\n",
       "    .dataframe tbody tr th:only-of-type {\n",
       "        vertical-align: middle;\n",
       "    }\n",
       "\n",
       "    .dataframe tbody tr th {\n",
       "        vertical-align: top;\n",
       "    }\n",
       "\n",
       "    .dataframe thead th {\n",
       "        text-align: right;\n",
       "    }\n",
       "</style>\n",
       "<table border=\"1\" class=\"dataframe\">\n",
       "  <thead>\n",
       "    <tr style=\"text-align: right;\">\n",
       "      <th></th>\n",
       "      <th>CustomerID</th>\n",
       "      <th>Title</th>\n",
       "      <th>GivenName</th>\n",
       "      <th>MiddleInitial</th>\n",
       "      <th>Surname</th>\n",
       "      <th>Gender</th>\n",
       "      <th>Age</th>\n",
       "      <th>Location</th>\n",
       "      <th>MotorInsurance</th>\n",
       "      <th>MotorValue</th>\n",
       "      <th>...</th>\n",
       "      <th>Bundle_Motor_Type</th>\n",
       "      <th>Single_Motor_Type</th>\n",
       "      <th>Health_Type_Level1</th>\n",
       "      <th>Health_Type_Level2</th>\n",
       "      <th>Health_Type_Level3</th>\n",
       "      <th>Travel_Type_Backpacker</th>\n",
       "      <th>Travel_Type_Business</th>\n",
       "      <th>Travel_Type_Premium</th>\n",
       "      <th>Travel_Type_Senior</th>\n",
       "      <th>Travel_Type_Standard</th>\n",
       "    </tr>\n",
       "  </thead>\n",
       "  <tbody>\n",
       "    <tr>\n",
       "      <th>0</th>\n",
       "      <td>1</td>\n",
       "      <td>Mrs.</td>\n",
       "      <td>Macy</td>\n",
       "      <td>A</td>\n",
       "      <td>Boyle</td>\n",
       "      <td>0</td>\n",
       "      <td>23</td>\n",
       "      <td>0</td>\n",
       "      <td>0</td>\n",
       "      <td>0</td>\n",
       "      <td>...</td>\n",
       "      <td>0</td>\n",
       "      <td>0</td>\n",
       "      <td>0</td>\n",
       "      <td>0</td>\n",
       "      <td>0</td>\n",
       "      <td>0</td>\n",
       "      <td>0</td>\n",
       "      <td>1</td>\n",
       "      <td>0</td>\n",
       "      <td>0</td>\n",
       "    </tr>\n",
       "    <tr>\n",
       "      <th>1</th>\n",
       "      <td>2</td>\n",
       "      <td>Ms.</td>\n",
       "      <td>Thea</td>\n",
       "      <td>L</td>\n",
       "      <td>McIntosh</td>\n",
       "      <td>0</td>\n",
       "      <td>44</td>\n",
       "      <td>0</td>\n",
       "      <td>0</td>\n",
       "      <td>0</td>\n",
       "      <td>...</td>\n",
       "      <td>0</td>\n",
       "      <td>0</td>\n",
       "      <td>1</td>\n",
       "      <td>0</td>\n",
       "      <td>0</td>\n",
       "      <td>0</td>\n",
       "      <td>0</td>\n",
       "      <td>0</td>\n",
       "      <td>0</td>\n",
       "      <td>0</td>\n",
       "    </tr>\n",
       "    <tr>\n",
       "      <th>2</th>\n",
       "      <td>4</td>\n",
       "      <td>Ms.</td>\n",
       "      <td>Murron</td>\n",
       "      <td>P</td>\n",
       "      <td>Miller</td>\n",
       "      <td>0</td>\n",
       "      <td>19</td>\n",
       "      <td>0</td>\n",
       "      <td>1</td>\n",
       "      <td>4920</td>\n",
       "      <td>...</td>\n",
       "      <td>1</td>\n",
       "      <td>0</td>\n",
       "      <td>0</td>\n",
       "      <td>0</td>\n",
       "      <td>0</td>\n",
       "      <td>0</td>\n",
       "      <td>0</td>\n",
       "      <td>0</td>\n",
       "      <td>0</td>\n",
       "      <td>0</td>\n",
       "    </tr>\n",
       "    <tr>\n",
       "      <th>3</th>\n",
       "      <td>5</td>\n",
       "      <td>Mr.</td>\n",
       "      <td>Kai</td>\n",
       "      <td>A</td>\n",
       "      <td>Henderson</td>\n",
       "      <td>1</td>\n",
       "      <td>47</td>\n",
       "      <td>1</td>\n",
       "      <td>1</td>\n",
       "      <td>14994</td>\n",
       "      <td>...</td>\n",
       "      <td>0</td>\n",
       "      <td>1</td>\n",
       "      <td>1</td>\n",
       "      <td>0</td>\n",
       "      <td>0</td>\n",
       "      <td>0</td>\n",
       "      <td>1</td>\n",
       "      <td>0</td>\n",
       "      <td>0</td>\n",
       "      <td>0</td>\n",
       "    </tr>\n",
       "    <tr>\n",
       "      <th>4</th>\n",
       "      <td>11</td>\n",
       "      <td>Mrs.</td>\n",
       "      <td>Kayla</td>\n",
       "      <td>A</td>\n",
       "      <td>Brown</td>\n",
       "      <td>0</td>\n",
       "      <td>54</td>\n",
       "      <td>1</td>\n",
       "      <td>1</td>\n",
       "      <td>14605</td>\n",
       "      <td>...</td>\n",
       "      <td>0</td>\n",
       "      <td>1</td>\n",
       "      <td>0</td>\n",
       "      <td>1</td>\n",
       "      <td>0</td>\n",
       "      <td>0</td>\n",
       "      <td>0</td>\n",
       "      <td>0</td>\n",
       "      <td>0</td>\n",
       "      <td>0</td>\n",
       "    </tr>\n",
       "  </tbody>\n",
       "</table>\n",
       "<p>5 rows × 27 columns</p>\n",
       "</div>"
      ],
      "text/plain": [
       "   CustomerID Title GivenName MiddleInitial    Surname  Gender  Age  Location  \\\n",
       "0           1  Mrs.      Macy             A      Boyle       0   23         0   \n",
       "1           2   Ms.      Thea             L   McIntosh       0   44         0   \n",
       "2           4   Ms.    Murron             P     Miller       0   19         0   \n",
       "3           5   Mr.       Kai             A  Henderson       1   47         1   \n",
       "4          11  Mrs.     Kayla             A      Brown       0   54         1   \n",
       "\n",
       "   MotorInsurance  MotorValue  ...  Bundle_Motor_Type  Single_Motor_Type  \\\n",
       "0               0           0  ...                  0                  0   \n",
       "1               0           0  ...                  0                  0   \n",
       "2               1        4920  ...                  1                  0   \n",
       "3               1       14994  ...                  0                  1   \n",
       "4               1       14605  ...                  0                  1   \n",
       "\n",
       "   Health_Type_Level1  Health_Type_Level2  Health_Type_Level3  \\\n",
       "0                   0                   0                   0   \n",
       "1                   1                   0                   0   \n",
       "2                   0                   0                   0   \n",
       "3                   1                   0                   0   \n",
       "4                   0                   1                   0   \n",
       "\n",
       "   Travel_Type_Backpacker  Travel_Type_Business  Travel_Type_Premium  \\\n",
       "0                       0                     0                    1   \n",
       "1                       0                     0                    0   \n",
       "2                       0                     0                    0   \n",
       "3                       0                     1                    0   \n",
       "4                       0                     0                    0   \n",
       "\n",
       "   Travel_Type_Senior  Travel_Type_Standard  \n",
       "0                   0                     0  \n",
       "1                   0                     0  \n",
       "2                   0                     0  \n",
       "3                   0                     0  \n",
       "4                   0                     0  \n",
       "\n",
       "[5 rows x 27 columns]"
      ]
     },
     "execution_count": 50,
     "metadata": {},
     "output_type": "execute_result"
    }
   ],
   "source": [
    "data.head()"
   ]
  },
  {
   "cell_type": "code",
   "execution_count": 51,
   "metadata": {},
   "outputs": [],
   "source": [
    "X = trainingData.drop(['CustomerID','Title','GivenName','MiddleInitial','Surname','PrefChannel'],axis = 1) \n",
    "Y = trainingData['PrefChannel']"
   ]
  },
  {
   "cell_type": "code",
   "execution_count": 52,
   "metadata": {},
   "outputs": [],
   "source": [
    "X_train, X_test, Y_train, Y_test = train_test_split(X,Y,test_size = 0.3)"
   ]
  },
  {
   "cell_type": "code",
   "execution_count": 53,
   "metadata": {},
   "outputs": [
    {
     "data": {
      "text/plain": [
       "((2863, 21), (1227, 21), (2863,), (1227,))"
      ]
     },
     "execution_count": 53,
     "metadata": {},
     "output_type": "execute_result"
    }
   ],
   "source": [
    "X_train.shape , X_test.shape , Y_train.shape , Y_test.shape"
   ]
  },
  {
   "cell_type": "markdown",
   "metadata": {},
   "source": [
    "LOGISTIC REGRESSION"
   ]
  },
  {
   "cell_type": "code",
   "execution_count": 54,
   "metadata": {},
   "outputs": [],
   "source": [
    "LogM = LogisticRegression()"
   ]
  },
  {
   "cell_type": "code",
   "execution_count": 55,
   "metadata": {},
   "outputs": [
    {
     "data": {
      "text/plain": [
       "LogisticRegression()"
      ]
     },
     "execution_count": 55,
     "metadata": {},
     "output_type": "execute_result"
    }
   ],
   "source": [
    "LogM.fit(X_train,Y_train)"
   ]
  },
  {
   "cell_type": "code",
   "execution_count": 56,
   "metadata": {},
   "outputs": [],
   "source": [
    "y_pred = LogM.predict(X_test)"
   ]
  },
  {
   "cell_type": "code",
   "execution_count": 57,
   "metadata": {},
   "outputs": [
    {
     "data": {
      "text/plain": [
       "0.5835370823145885"
      ]
     },
     "execution_count": 57,
     "metadata": {},
     "output_type": "execute_result"
    }
   ],
   "source": [
    "accuracy_score(y_pred,Y_test)"
   ]
  },
  {
   "cell_type": "code",
   "execution_count": 58,
   "metadata": {},
   "outputs": [],
   "source": [
    "# #SVM\n",
    "# from sklearn.svm import SVC\n",
    "\n",
    "# model_ = SVC(kernel = 'linear')\n",
    "\n",
    "# model_.fit(X_train,Y_train)\n",
    "\n",
    "# predicted = model_.predict(X_test)\n",
    "\n",
    "# accuracy_score(Y_test,predicted)"
   ]
  },
  {
   "cell_type": "code",
   "execution_count": 59,
   "metadata": {},
   "outputs": [
    {
     "data": {
      "text/plain": [
       "0.6634066829665851"
      ]
     },
     "execution_count": 59,
     "metadata": {},
     "output_type": "execute_result"
    }
   ],
   "source": [
    "\n",
    "clf = DecisionTreeClassifier(criterion = 'gini', random_state = 100, max_depth=3,min_samples_leaf=5)\n",
    "clf.fit(X_train,Y_train)\n",
    "predict_df = clf.predict(X_test)\n",
    "accuracy_score(Y_test, predict_df)"
   ]
  },
  {
   "cell_type": "code",
   "execution_count": 60,
   "metadata": {},
   "outputs": [
    {
     "data": {
      "text/plain": [
       "<sklearn.metrics._plot.confusion_matrix.ConfusionMatrixDisplay at 0x2f92b016220>"
      ]
     },
     "execution_count": 60,
     "metadata": {},
     "output_type": "execute_result"
    },
    {
     "data": {
      "image/png": "[encoded data removed]",
      "text/plain": [
       "<Figure size 432x288 with 2 Axes>"
      ]
     },
     "metadata": {},
     "output_type": "display_data"
    }
   ],
   "source": [
    "\n",
    "plot_confusion_matrix(clf, X_test, Y_test)"
   ]
  },
  {
   "cell_type": "code",
   "execution_count": 61,
   "metadata": {},
   "outputs": [
    {
     "data": {
      "text/plain": [
       "0.6634066829665851"
      ]
     },
     "execution_count": 61,
     "metadata": {},
     "output_type": "execute_result"
    }
   ],
   "source": [
    "clf1 = DecisionTreeClassifier(criterion = 'entropy', random_state = 100, max_depth=3,min_samples_leaf=5)\n",
    "clf1.fit(X_train,Y_train)\n",
    "predict_df = clf1.predict(X_test)\n",
    "accuracy_score(Y_test, predict_df)\n"
   ]
  },
  {
   "cell_type": "code",
   "execution_count": 62,
   "metadata": {},
   "outputs": [
    {
     "data": {
      "text/plain": [
       "array([1, 2, 2, ..., 3, 2, 2], dtype=int64)"
      ]
     },
     "execution_count": 62,
     "metadata": {},
     "output_type": "execute_result"
    }
   ],
   "source": [
    "#RANDOM FOREST\n",
    "X_train4, X_test4, Y_train4, Y_test4 = train_test_split(X,Y,test_size = 0.3)\n",
    "\n",
    "\n",
    "classifierRf= RandomForestClassifier(n_estimators= 10, criterion=\"entropy\") \n",
    "\n",
    "classifierRf.fit(X_train4, Y_train4)\n",
    "\n",
    "#Predicting the test set result\n",
    "y_predRF= classifierRf.predict(X_test4) \n",
    "\n",
    "y_predRF\n"
   ]
  },
  {
   "cell_type": "code",
   "execution_count": 63,
   "metadata": {},
   "outputs": [
    {
     "data": {
      "text/plain": [
       "array([[350, 115,  66],\n",
       "       [140, 291,  17],\n",
       "       [134,  44,  70]], dtype=int64)"
      ]
     },
     "execution_count": 63,
     "metadata": {},
     "output_type": "execute_result"
    }
   ],
   "source": [
    "#Creating the Confusion matrix\n",
    "\n",
    "cm= confusion_matrix(Y_test4, y_predRF)\n",
    "cm"
   ]
  },
  {
   "cell_type": "code",
   "execution_count": 64,
   "metadata": {},
   "outputs": [
    {
     "data": {
      "text/plain": [
       "0.5794621026894865"
      ]
     },
     "execution_count": 64,
     "metadata": {},
     "output_type": "execute_result"
    },
    {
     "data": {
      "image/png": "[encoded data removed]",
      "text/plain": [
       "<Figure size 432x288 with 2 Axes>"
      ]
     },
     "metadata": {},
     "output_type": "display_data"
    }
   ],
   "source": [
    "\n",
    "plot_confusion_matrix(classifierRf, X_test4, Y_test4)\n",
    "\n",
    "accuracy_score(Y_test4, y_predRF)"
   ]
  },
  {
   "cell_type": "code",
   "execution_count": 65,
   "metadata": {},
   "outputs": [
    {
     "data": {
      "text/plain": [
       "0.5571847507331378"
      ]
     },
     "execution_count": 65,
     "metadata": {},
     "output_type": "execute_result"
    },
    {
     "data": {
      "image/png": "[encoded data removed]",
      "text/plain": [
       "<Figure size 432x288 with 2 Axes>"
      ]
     },
     "metadata": {},
     "output_type": "display_data"
    }
   ],
   "source": [
    "#NAIVE BAYES\n",
    "\n",
    "modelNB = GaussianNB()\n",
    "\n",
    "X_train5, X_test5, Y_train5, Y_test5 = train_test_split(X,Y,test_size = 0.25)\n",
    "\n",
    "modelNB.fit(X_train5,Y_train5)\n",
    "\n",
    "pred_NB = modelNB.predict(X_test5)\n",
    "\n",
    "pred_NB\n",
    "\n",
    "#Creating the Confusion matrix\n",
    "from sklearn.metrics import confusion_matrix\n",
    "cm= confusion_matrix(Y_test5, pred_NB)\n",
    "cm\n",
    "\n",
    "from sklearn.metrics import plot_confusion_matrix \n",
    "plot_confusion_matrix(modelNB, X_test5, Y_test5)\n",
    "\n",
    "accuracy_score(Y_test5, pred_NB)"
   ]
  },
  {
   "cell_type": "markdown",
   "metadata": {},
   "source": [
    "# Feature Scaling"
   ]
  },
  {
   "cell_type": "code",
   "execution_count": 66,
   "metadata": {},
   "outputs": [
    {
     "data": {
      "text/plain": [
       "StandardScaler()"
      ]
     },
     "execution_count": 66,
     "metadata": {},
     "output_type": "execute_result"
    }
   ],
   "source": [
    "scaler = StandardScaler()\n",
    "\n",
    "X_trainFS, X_testFS, Y_trainFS, Y_testFS = train_test_split(X,Y,test_size = 0.3)\n",
    "\n",
    "scaler.fit(X_trainFS)"
   ]
  },
  {
   "cell_type": "code",
   "execution_count": 67,
   "metadata": {},
   "outputs": [
    {
     "data": {
      "text/plain": [
       "array([[ 1.01230059,  0.48527638, -0.86417407, ..., -0.35473318,\n",
       "        -0.21455956, -0.35846649],\n",
       "       [-0.98784888,  0.29896201, -0.86417407, ..., -0.35473318,\n",
       "        -0.21455956, -0.35846649],\n",
       "       [ 1.01230059,  0.42317159, -0.86417407, ...,  2.81902022,\n",
       "        -0.21455956, -0.35846649],\n",
       "       ...,\n",
       "       [-0.98784888,  0.48527638,  1.15717427, ..., -0.35473318,\n",
       "        -0.21455956, -0.35846649],\n",
       "       [ 1.01230059,  0.54738117,  1.15717427, ..., -0.35473318,\n",
       "        -0.21455956,  2.78966102],\n",
       "       [-0.98784888, -1.43997214, -0.86417407, ..., -0.35473318,\n",
       "        -0.21455956, -0.35846649]])"
      ]
     },
     "execution_count": 67,
     "metadata": {},
     "output_type": "execute_result"
    }
   ],
   "source": [
    "X_trainFS = scaler.transform(X_trainFS) \n",
    "X_testFS = scaler.transform(X_testFS) \n",
    "X_trainFS"
   ]
  },
  {
   "cell_type": "code",
   "execution_count": 68,
   "metadata": {},
   "outputs": [
    {
     "data": {
      "text/plain": [
       "0.6625916870415648"
      ]
     },
     "execution_count": 68,
     "metadata": {},
     "output_type": "execute_result"
    }
   ],
   "source": [
    "#LOGISTIC REGRESSION \n",
    "LR = LogisticRegression() \n",
    "LR.fit(X_trainFS, Y_trainFS) \n",
    "Y_predLR = LR.predict(X_testFS) \n",
    "accuracy_score(Y_predLR,Y_testFS)"
   ]
  },
  {
   "cell_type": "code",
   "execution_count": 69,
   "metadata": {},
   "outputs": [],
   "source": [
    "# #SVM \n",
    "# SVM = SVC(kernel = 'linear') \n",
    "# SVM.fit(X_trainFS,Y_trainFS) \n",
    "# y_predSVM = SVM.predict(X_testFS) \n",
    "# accuracy_score(Y_testFS,y_predSVM)"
   ]
  },
  {
   "cell_type": "code",
   "execution_count": 70,
   "metadata": {},
   "outputs": [
    {
     "data": {
      "text/plain": [
       "0.6560717196414018"
      ]
     },
     "execution_count": 70,
     "metadata": {},
     "output_type": "execute_result"
    }
   ],
   "source": [
    "#DECISION TREE \n",
    "DT = DecisionTreeClassifier(criterion = \"gini\", random_state = 100,max_depth=3, min_samples_leaf=5) \n",
    "DT.fit(X_trainFS,Y_trainFS) \n",
    "y_predDF = DT.predict(X_testFS) \n",
    "accuracy_score(Y_testFS,y_predDF)"
   ]
  },
  {
   "cell_type": "code",
   "execution_count": 71,
   "metadata": {},
   "outputs": [
    {
     "data": {
      "text/plain": [
       "0.6560717196414018"
      ]
     },
     "execution_count": 71,
     "metadata": {},
     "output_type": "execute_result"
    }
   ],
   "source": [
    "DTE = DecisionTreeClassifier(criterion = \"entropy\", random_state = 100,max_depth=3, min_samples_leaf=5) \n",
    "DTE.fit(X_trainFS,Y_trainFS) \n",
    "y_predDF = DTE.predict(X_testFS) \n",
    "accuracy_score(Y_testFS,y_predDF)"
   ]
  },
  {
   "cell_type": "code",
   "execution_count": 72,
   "metadata": {},
   "outputs": [
    {
     "data": {
      "text/plain": [
       "0.5990220048899756"
      ]
     },
     "execution_count": 72,
     "metadata": {},
     "output_type": "execute_result"
    }
   ],
   "source": [
    "#RANDOM FOREST \n",
    "Rf= RandomForestClassifier(n_estimators= 10, criterion=\"entropy\") \n",
    "Rf.fit(X_trainFS, Y_trainFS) \n",
    "y_pred_RF= Rf.predict(X_testFS) \n",
    "accuracy_score(Y_testFS, y_pred_RF)"
   ]
  },
  {
   "cell_type": "code",
   "execution_count": 73,
   "metadata": {},
   "outputs": [
    {
     "data": {
      "text/plain": [
       "0.5819070904645477"
      ]
     },
     "execution_count": 73,
     "metadata": {},
     "output_type": "execute_result"
    }
   ],
   "source": [
    "#RANDOM FOREST \n",
    "Rf= RandomForestClassifier(n_estimators= 10, criterion=\"gini\") \n",
    "Rf.fit(X_trainFS, Y_trainFS) \n",
    "y_pred_RF= Rf.predict(X_testFS) \n",
    "accuracy_score(Y_testFS, y_pred_RF)"
   ]
  },
  {
   "cell_type": "code",
   "execution_count": 74,
   "metadata": {},
   "outputs": [
    {
     "data": {
      "text/plain": [
       "0.5232273838630807"
      ]
     },
     "execution_count": 74,
     "metadata": {},
     "output_type": "execute_result"
    }
   ],
   "source": [
    "#NAIVE BAYES \n",
    "NB = GaussianNB() \n",
    "NB.fit(X_trainFS,Y_trainFS) \n",
    "y_pred_NB = NB.predict(X_testFS) \n",
    "accuracy_score(Y_testFS, y_pred_NB)"
   ]
  },
  {
   "cell_type": "code",
   "execution_count": 75,
   "metadata": {},
   "outputs": [
    {
     "data": {
      "text/plain": [
       "0.5802770986145069"
      ]
     },
     "execution_count": 75,
     "metadata": {},
     "output_type": "execute_result"
    }
   ],
   "source": [
    "#KNN \n",
    "KNNmodel = KNeighborsClassifier(n_neighbors=11) \n",
    "KNNmodel.fit(X_trainFS, Y_trainFS) \n",
    "Y_predKNN = KNNmodel.predict(X_testFS) \n",
    "accuracy_score(Y_testFS,Y_predKNN)"
   ]
  },
  {
   "cell_type": "code",
   "execution_count": 76,
   "metadata": {},
   "outputs": [
    {
     "data": {
      "text/plain": [
       "CustomerID                0.023424\n",
       "Gender                   -0.020596\n",
       "Age                      -0.093756\n",
       "Location                  0.081917\n",
       "MotorInsurance           -0.088398\n",
       "MotorValue               -0.251958\n",
       "HealthInsurance          -0.111134\n",
       "HealthDependentsAdults   -0.074150\n",
       "HealthDependentsKids     -0.136241\n",
       "TravelInsurance          -0.019631\n",
       "PrefChannel               1.000000\n",
       "AMEX                      0.008721\n",
       "Visa                      0.002267\n",
       "Bundle_Motor_Type         0.078581\n",
       "Single_Motor_Type        -0.137788\n",
       "Health_Type_Level1       -0.020793\n",
       "Health_Type_Level2       -0.049787\n",
       "Health_Type_Level3       -0.064616\n",
       "Travel_Type_Backpacker    0.063339\n",
       "Travel_Type_Business     -0.103368\n",
       "Travel_Type_Premium       0.025613\n",
       "Travel_Type_Senior        0.019742\n",
       "Travel_Type_Standard     -0.003157\n",
       "dtype: float64"
      ]
     },
     "execution_count": 76,
     "metadata": {},
     "output_type": "execute_result"
    }
   ],
   "source": [
    "trainingData.corrwith(trainingData['PrefChannel'])"
   ]
  },
  {
   "cell_type": "code",
   "execution_count": 77,
   "metadata": {},
   "outputs": [
    {
     "data": {
      "text/plain": [
       "array([0, 1], dtype=int64)"
      ]
     },
     "execution_count": 77,
     "metadata": {},
     "output_type": "execute_result"
    }
   ],
   "source": [
    "trainingData.MotorInsurance.unique()"
   ]
  },
  {
   "cell_type": "code",
   "execution_count": null,
   "metadata": {},
   "outputs": [],
   "source": []
  },
  {
   "cell_type": "code",
   "execution_count": 78,
   "metadata": {},
   "outputs": [],
   "source": [
    "X_drop = data.drop(['Age','MotorInsurance','MotorValue','HealthInsurance','HealthDependentsAdults' ,'HealthDependentsKids','TravelInsurance','Single_Motor_Type','Health_Type_Level2', 'Health_Type_Level3'],axis = 1) \n",
    "X_drop.head()\n",
    "\n",
    "X_new = trainingData.drop(X_drop, axis = 1)"
   ]
  },
  {
   "cell_type": "code",
   "execution_count": 79,
   "metadata": {},
   "outputs": [
    {
     "data": {
      "text/plain": [
       "Index(['CustomerID', 'Title', 'GivenName', 'MiddleInitial', 'Surname',\n",
       "       'Gender', 'Location', 'PrefChannel', 'AMEX', 'Visa',\n",
       "       'Bundle_Motor_Type', 'Health_Type_Level1', 'Travel_Type_Backpacker',\n",
       "       'Travel_Type_Business', 'Travel_Type_Premium', 'Travel_Type_Senior',\n",
       "       'Travel_Type_Standard'],\n",
       "      dtype='object')"
      ]
     },
     "execution_count": 79,
     "metadata": {},
     "output_type": "execute_result"
    }
   ],
   "source": [
    "X_drop.columns"
   ]
  },
  {
   "cell_type": "code",
   "execution_count": 80,
   "metadata": {},
   "outputs": [],
   "source": [
    "Y_new = trainingData['PrefChannel']"
   ]
  },
  {
   "cell_type": "code",
   "execution_count": 81,
   "metadata": {},
   "outputs": [],
   "source": [
    "X_trainN, X_testN, Y_trainN, Y_testN = train_test_split(X_new,Y_new,test_size = 0.3)"
   ]
  },
  {
   "cell_type": "code",
   "execution_count": 82,
   "metadata": {},
   "outputs": [
    {
     "data": {
      "text/plain": [
       "0.5876120619396903"
      ]
     },
     "execution_count": 82,
     "metadata": {},
     "output_type": "execute_result"
    }
   ],
   "source": [
    "#LOGISTIC REGRESSION \n",
    "LR1 = LogisticRegression() \n",
    "LR1.fit(X_trainN, Y_trainN) \n",
    "Y_predLR1 = LR1.predict(X_testN) \n",
    "accuracy_score(Y_predLR1,Y_testN)"
   ]
  },
  {
   "cell_type": "code",
   "execution_count": 83,
   "metadata": {},
   "outputs": [
    {
     "data": {
      "text/plain": [
       "0.6682966585167074"
      ]
     },
     "execution_count": 83,
     "metadata": {},
     "output_type": "execute_result"
    }
   ],
   "source": [
    "DTE1 = DecisionTreeClassifier(criterion = \"entropy\", random_state = 100,max_depth=3, min_samples_leaf=5) \n",
    "DTE1.fit(X_trainN,Y_trainN) \n",
    "y_predDF = DTE1.predict(X_testN) \n",
    "accuracy_score(Y_testN,y_predDF)"
   ]
  },
  {
   "cell_type": "code",
   "execution_count": 84,
   "metadata": {},
   "outputs": [
    {
     "data": {
      "text/plain": [
       "0.6682966585167074"
      ]
     },
     "execution_count": 84,
     "metadata": {},
     "output_type": "execute_result"
    }
   ],
   "source": [
    "DTE1 = DecisionTreeClassifier(criterion = \"gini\", random_state = 100,max_depth=3, min_samples_leaf=5) \n",
    "DTE1.fit(X_trainN,Y_trainN) \n",
    "y_predDF = DTE1.predict(X_testN) \n",
    "accuracy_score(Y_testN,y_predDF)"
   ]
  },
  {
   "cell_type": "code",
   "execution_count": 85,
   "metadata": {},
   "outputs": [
    {
     "data": {
      "text/plain": [
       "0.5745721271393643"
      ]
     },
     "execution_count": 85,
     "metadata": {},
     "output_type": "execute_result"
    }
   ],
   "source": [
    "#RANDOM FOREST \n",
    "Rf1= RandomForestClassifier(n_estimators= 10, criterion=\"entropy\") \n",
    "Rf1.fit(X_trainN, Y_trainN) \n",
    "y_pred_RF= Rf1.predict(X_testN) \n",
    "accuracy_score(Y_testN, y_pred_RF)"
   ]
  },
  {
   "cell_type": "code",
   "execution_count": 86,
   "metadata": {},
   "outputs": [
    {
     "data": {
      "text/plain": [
       "0.563162184189079"
      ]
     },
     "execution_count": 86,
     "metadata": {},
     "output_type": "execute_result"
    }
   ],
   "source": [
    "#RANDOM FOREST \n",
    "Rf1= RandomForestClassifier(n_estimators= 10, criterion=\"gini\") \n",
    "Rf1.fit(X_trainN, Y_trainN) \n",
    "y_pred_RF= Rf1.predict(X_testN) \n",
    "accuracy_score(Y_testN, y_pred_RF)"
   ]
  },
  {
   "cell_type": "code",
   "execution_count": 87,
   "metadata": {},
   "outputs": [],
   "source": [
    "# #SVM \n",
    "# SVM1 = SVC(kernel = 'linear') \n",
    "# SVM1.fit(X_trainN,Y_trainN) \n",
    "# y_predSVM = SVM1.predict(X_testN) \n",
    "# accuracy_score(Y_testN,y_predSVM)"
   ]
  },
  {
   "cell_type": "code",
   "execution_count": 88,
   "metadata": {},
   "outputs": [
    {
     "data": {
      "text/plain": [
       "0.5289323553382234"
      ]
     },
     "execution_count": 88,
     "metadata": {},
     "output_type": "execute_result"
    }
   ],
   "source": [
    "#NAIVE BAYES\n",
    "NB1 = GaussianNB()\n",
    "NB1.fit(X_trainN,Y_trainN)\n",
    "y_pred_NB = NB1.predict(X_testN)\n",
    "accuracy_score(Y_testN, y_pred_NB)"
   ]
  },
  {
   "cell_type": "code",
   "execution_count": 89,
   "metadata": {},
   "outputs": [
    {
     "data": {
      "text/plain": [
       "0.5729421352893236"
      ]
     },
     "execution_count": 89,
     "metadata": {},
     "output_type": "execute_result"
    }
   ],
   "source": [
    "#KNN\n",
    "KNNmodel1 = KNeighborsClassifier(n_neighbors=11)\n",
    "KNNmodel1.fit(X_trainN, Y_trainN)\n",
    "Y_predKNN = KNNmodel1.predict(X_testN)\n",
    "accuracy_score(Y_testN,Y_predKNN)"
   ]
  },
  {
   "cell_type": "code",
   "execution_count": 90,
   "metadata": {},
   "outputs": [
    {
     "data": {
      "text/plain": [
       "array([[-1.30758997, -2.12768114, -1.32494417, ..., -1.13918954,\n",
       "        -0.66999003, -0.41982506],\n",
       "       [ 0.29898032,  0.46999524, -0.44697113, ...,  0.87781705,\n",
       "         1.49255952, -0.41982506],\n",
       "       [ 0.36324313,  0.46999524, -0.14621838, ...,  0.87781705,\n",
       "         1.49255952, -0.41982506],\n",
       "       ...,\n",
       "       [ 0.68455718,  0.46999524,  0.18163231, ...,  0.87781705,\n",
       "         1.49255952, -0.41982506],\n",
       "       [ 0.29898032,  0.46999524, -0.29632035, ...,  0.87781705,\n",
       "        -0.66999003, -0.41982506],\n",
       "       [-1.37185278,  0.46999524, -0.98488226, ..., -1.13918954,\n",
       "        -0.66999003, -0.41982506]])"
      ]
     },
     "execution_count": 90,
     "metadata": {},
     "output_type": "execute_result"
    }
   ],
   "source": [
    "scaler.fit(X_trainN)\n",
    "\n",
    "X_trainN = scaler.transform(X_trainN)\n",
    "X_testN = scaler.transform(X_testN)\n",
    "X_trainN"
   ]
  },
  {
   "cell_type": "code",
   "execution_count": 91,
   "metadata": {},
   "outputs": [
    {
     "data": {
      "text/plain": [
       "0.6813365933170334"
      ]
     },
     "execution_count": 91,
     "metadata": {},
     "output_type": "execute_result"
    }
   ],
   "source": [
    "#LOGISTIC REGRESSION\n",
    "LR2 = LogisticRegression()\n",
    "LR2.fit(X_trainN, Y_trainN)\n",
    "Y_predLR1 = LR2.predict(X_testN)\n",
    "accuracy_score(Y_predLR1,Y_testN)"
   ]
  },
  {
   "cell_type": "code",
   "execution_count": 92,
   "metadata": {},
   "outputs": [
    {
     "data": {
      "text/plain": [
       "0.6682966585167074"
      ]
     },
     "execution_count": 92,
     "metadata": {},
     "output_type": "execute_result"
    }
   ],
   "source": [
    "DTE2 = DecisionTreeClassifier(criterion = \"entropy\", random_state = 100,max_depth=3, min_samples_leaf=5)\n",
    "DTE2.fit(X_trainN,Y_trainN)\n",
    "y_predDF = DTE2.predict(X_testN)\n",
    "accuracy_score(Y_testN,y_predDF)"
   ]
  },
  {
   "cell_type": "code",
   "execution_count": 93,
   "metadata": {},
   "outputs": [
    {
     "data": {
      "text/plain": [
       "0.6682966585167074"
      ]
     },
     "execution_count": 93,
     "metadata": {},
     "output_type": "execute_result"
    }
   ],
   "source": [
    "DTE2 = DecisionTreeClassifier(criterion = \"gini\", random_state = 100,max_depth=3, min_samples_leaf=5)\n",
    "DTE2.fit(X_trainN,Y_trainN)\n",
    "y_predDF = DTE2.predict(X_testN)\n",
    "accuracy_score(Y_testN,y_predDF)"
   ]
  },
  {
   "cell_type": "code",
   "execution_count": 94,
   "metadata": {},
   "outputs": [
    {
     "data": {
      "text/plain": [
       "0.5770171149144254"
      ]
     },
     "execution_count": 94,
     "metadata": {},
     "output_type": "execute_result"
    }
   ],
   "source": [
    "#RANDOM FOREST\n",
    "Rf2= RandomForestClassifier(n_estimators= 10, criterion=\"entropy\") \n",
    "Rf2.fit(X_trainN, Y_trainN)\n",
    "y_pred_RF= Rf2.predict(X_testN) \n",
    "accuracy_score(Y_testN, y_pred_RF)"
   ]
  },
  {
   "cell_type": "code",
   "execution_count": 95,
   "metadata": {},
   "outputs": [
    {
     "data": {
      "text/plain": [
       "0.5664221678891606"
      ]
     },
     "execution_count": 95,
     "metadata": {},
     "output_type": "execute_result"
    }
   ],
   "source": [
    "#RANDOM FOREST\n",
    "Rf2= RandomForestClassifier(n_estimators= 10, criterion=\"gini\") \n",
    "Rf2.fit(X_trainN, Y_trainN)\n",
    "y_pred_RF= Rf2.predict(X_testN) \n",
    "accuracy_score(Y_testN, y_pred_RF)"
   ]
  },
  {
   "cell_type": "code",
   "execution_count": 96,
   "metadata": {},
   "outputs": [],
   "source": [
    "# #SVM\n",
    "# SVM2 = SVC(kernel = 'linear')\n",
    "# SVM2.fit(X_trainN,Y_trainN)\n",
    "# y_predSVM = SVM2.predict(X_testN)\n",
    "# accuracy_score(Y_testN,y_predSVM)"
   ]
  },
  {
   "cell_type": "code",
   "execution_count": 97,
   "metadata": {},
   "outputs": [
    {
     "data": {
      "text/plain": [
       "0.5101874490627547"
      ]
     },
     "execution_count": 97,
     "metadata": {},
     "output_type": "execute_result"
    }
   ],
   "source": [
    "#NAIVE BAYES\n",
    "NB2 = GaussianNB()\n",
    "NB2.fit(X_trainN,Y_trainN)\n",
    "y_pred_NB = NB2.predict(X_testN)\n",
    "accuracy_score(Y_testN, y_pred_NB)"
   ]
  },
  {
   "cell_type": "code",
   "execution_count": 98,
   "metadata": {},
   "outputs": [
    {
     "data": {
      "text/plain": [
       "0.6495517522412388"
      ]
     },
     "execution_count": 98,
     "metadata": {},
     "output_type": "execute_result"
    }
   ],
   "source": [
    "#KNN\n",
    "KNNmodel1 = KNeighborsClassifier(n_neighbors=11)\n",
    "KNNmodel1.fit(X_trainN, Y_trainN)\n",
    "Y_predKNN = KNNmodel1.predict(X_testN)\n",
    "accuracy_score(Y_testN,Y_predKNN)"
   ]
  },
  {
   "cell_type": "code",
   "execution_count": 99,
   "metadata": {},
   "outputs": [
    {
     "data": {
      "text/plain": [
       "(19.0, 68.0)"
      ]
     },
     "execution_count": 99,
     "metadata": {},
     "output_type": "execute_result"
    }
   ],
   "source": [
    "Q1 = np.percentile(trainingData['Age'], 10, \n",
    "                   interpolation = 'midpoint') \n",
    "\n",
    "Q3 = np.percentile(trainingData['Age'], 95, \n",
    "                   interpolation = 'midpoint') \n",
    "Q1,Q3"
   ]
  },
  {
   "cell_type": "code",
   "execution_count": 100,
   "metadata": {},
   "outputs": [
    {
     "name": "stderr",
     "output_type": "stream",
     "text": [
      "C:\\Users\\ADMIN\\anaconda3\\lib\\site-packages\\seaborn\\_decorators.py:36: FutureWarning: Pass the following variable as a keyword arg: x. From version 0.12, the only valid positional argument will be `data`, and passing other arguments without an explicit keyword will result in an error or misinterpretation.\n",
      "  warnings.warn(\n"
     ]
    },
    {
     "data": {
      "text/plain": [
       "<AxesSubplot:xlabel='MotorValue'>"
      ]
     },
     "execution_count": 100,
     "metadata": {},
     "output_type": "execute_result"
    },
    {
     "data": {
      "image/png": "[encoded data removed]",
      "text/plain": [
       "<Figure size 432x288 with 1 Axes>"
      ]
     },
     "metadata": {},
     "output_type": "display_data"
    }
   ],
   "source": [
    "sns.boxplot(trainingData['MotorValue'])"
   ]
  },
  {
   "cell_type": "code",
   "execution_count": 101,
   "metadata": {},
   "outputs": [],
   "source": [
    "trainingData.drop(trainingData[trainingData['Age'] <= 15].index, inplace = True)\n",
    "trainingData.drop(trainingData[trainingData['Age'] >= 70].index, inplace = True)"
   ]
  },
  {
   "cell_type": "code",
   "execution_count": 102,
   "metadata": {},
   "outputs": [
    {
     "data": {
      "text/plain": [
       "(0.0, 37799.5)"
      ]
     },
     "execution_count": 102,
     "metadata": {},
     "output_type": "execute_result"
    }
   ],
   "source": [
    "Q1 = np.percentile(trainingData['MotorValue'], 10, \n",
    "                   interpolation = 'midpoint')\n",
    "\n",
    "Q3 = np.percentile(trainingData['MotorValue'], 95, \n",
    "                   interpolation = 'midpoint')\n",
    "Q1,Q3"
   ]
  },
  {
   "cell_type": "code",
   "execution_count": 103,
   "metadata": {},
   "outputs": [],
   "source": [
    "trainingData.drop(trainingData[trainingData['MotorValue'] <= -1].index, inplace = True)\n",
    "trainingData.drop(trainingData[trainingData['MotorValue'] >= 37799.5].index, inplace = True)"
   ]
  },
  {
   "cell_type": "code",
   "execution_count": 104,
   "metadata": {},
   "outputs": [
    {
     "data": {
      "text/plain": [
       "3744"
      ]
     },
     "execution_count": 104,
     "metadata": {},
     "output_type": "execute_result"
    }
   ],
   "source": [
    "trainingData.MotorValue.count()"
   ]
  },
  {
   "cell_type": "code",
   "execution_count": 105,
   "metadata": {},
   "outputs": [
    {
     "name": "stderr",
     "output_type": "stream",
     "text": [
      "C:\\Users\\ADMIN\\anaconda3\\lib\\site-packages\\seaborn\\_decorators.py:36: FutureWarning: Pass the following variable as a keyword arg: x. From version 0.12, the only valid positional argument will be `data`, and passing other arguments without an explicit keyword will result in an error or misinterpretation.\n",
      "  warnings.warn(\n"
     ]
    },
    {
     "data": {
      "text/plain": [
       "<AxesSubplot:xlabel='Age'>"
      ]
     },
     "execution_count": 105,
     "metadata": {},
     "output_type": "execute_result"
    },
    {
     "data": {
      "image/png": "[encoded data removed]",
      "text/plain": [
       "<Figure size 432x288 with 1 Axes>"
      ]
     },
     "metadata": {},
     "output_type": "display_data"
    }
   ],
   "source": [
    "sns.boxplot(trainingData['Age'])"
   ]
  },
  {
   "cell_type": "code",
   "execution_count": 106,
   "metadata": {},
   "outputs": [
    {
     "name": "stderr",
     "output_type": "stream",
     "text": [
      "C:\\Users\\ADMIN\\anaconda3\\lib\\site-packages\\seaborn\\_decorators.py:36: FutureWarning: Pass the following variable as a keyword arg: x. From version 0.12, the only valid positional argument will be `data`, and passing other arguments without an explicit keyword will result in an error or misinterpretation.\n",
      "  warnings.warn(\n"
     ]
    },
    {
     "data": {
      "text/plain": [
       "<AxesSubplot:xlabel='MotorValue'>"
      ]
     },
     "execution_count": 106,
     "metadata": {},
     "output_type": "execute_result"
    },
    {
     "data": {
      "image/png": "[encoded data removed]",
      "text/plain": [
       "<Figure size 432x288 with 1 Axes>"
      ]
     },
     "metadata": {},
     "output_type": "display_data"
    }
   ],
   "source": [
    "sns.boxplot(trainingData['MotorValue'])"
   ]
  },
  {
   "cell_type": "code",
   "execution_count": 107,
   "metadata": {},
   "outputs": [
    {
     "data": {
      "text/html": [
       "<div>\n",
       "<style scoped>\n",
       "    .dataframe tbody tr th:only-of-type {\n",
       "        vertical-align: middle;\n",
       "    }\n",
       "\n",
       "    .dataframe tbody tr th {\n",
       "        vertical-align: top;\n",
       "    }\n",
       "\n",
       "    .dataframe thead th {\n",
       "        text-align: right;\n",
       "    }\n",
       "</style>\n",
       "<table border=\"1\" class=\"dataframe\">\n",
       "  <thead>\n",
       "    <tr style=\"text-align: right;\">\n",
       "      <th></th>\n",
       "      <th>CustomerID</th>\n",
       "      <th>Title</th>\n",
       "      <th>GivenName</th>\n",
       "      <th>MiddleInitial</th>\n",
       "      <th>Surname</th>\n",
       "      <th>Gender</th>\n",
       "      <th>Location</th>\n",
       "      <th>PrefChannel</th>\n",
       "      <th>AMEX</th>\n",
       "      <th>Visa</th>\n",
       "      <th>Bundle_Motor_Type</th>\n",
       "      <th>Health_Type_Level1</th>\n",
       "      <th>Travel_Type_Backpacker</th>\n",
       "      <th>Travel_Type_Business</th>\n",
       "      <th>Travel_Type_Premium</th>\n",
       "      <th>Travel_Type_Senior</th>\n",
       "      <th>Travel_Type_Standard</th>\n",
       "    </tr>\n",
       "  </thead>\n",
       "  <tbody>\n",
       "    <tr>\n",
       "      <th>0</th>\n",
       "      <td>1</td>\n",
       "      <td>Mrs.</td>\n",
       "      <td>Macy</td>\n",
       "      <td>A</td>\n",
       "      <td>Boyle</td>\n",
       "      <td>0</td>\n",
       "      <td>0</td>\n",
       "      <td>3</td>\n",
       "      <td>1</td>\n",
       "      <td>0</td>\n",
       "      <td>0</td>\n",
       "      <td>0</td>\n",
       "      <td>0</td>\n",
       "      <td>0</td>\n",
       "      <td>1</td>\n",
       "      <td>0</td>\n",
       "      <td>0</td>\n",
       "    </tr>\n",
       "    <tr>\n",
       "      <th>1</th>\n",
       "      <td>2</td>\n",
       "      <td>Ms.</td>\n",
       "      <td>Thea</td>\n",
       "      <td>L</td>\n",
       "      <td>McIntosh</td>\n",
       "      <td>0</td>\n",
       "      <td>0</td>\n",
       "      <td>2</td>\n",
       "      <td>1</td>\n",
       "      <td>0</td>\n",
       "      <td>0</td>\n",
       "      <td>1</td>\n",
       "      <td>0</td>\n",
       "      <td>0</td>\n",
       "      <td>0</td>\n",
       "      <td>0</td>\n",
       "      <td>0</td>\n",
       "    </tr>\n",
       "    <tr>\n",
       "      <th>2</th>\n",
       "      <td>4</td>\n",
       "      <td>Ms.</td>\n",
       "      <td>Murron</td>\n",
       "      <td>P</td>\n",
       "      <td>Miller</td>\n",
       "      <td>0</td>\n",
       "      <td>0</td>\n",
       "      <td>3</td>\n",
       "      <td>1</td>\n",
       "      <td>0</td>\n",
       "      <td>1</td>\n",
       "      <td>0</td>\n",
       "      <td>0</td>\n",
       "      <td>0</td>\n",
       "      <td>0</td>\n",
       "      <td>0</td>\n",
       "      <td>0</td>\n",
       "    </tr>\n",
       "    <tr>\n",
       "      <th>3</th>\n",
       "      <td>5</td>\n",
       "      <td>Mr.</td>\n",
       "      <td>Kai</td>\n",
       "      <td>A</td>\n",
       "      <td>Henderson</td>\n",
       "      <td>1</td>\n",
       "      <td>1</td>\n",
       "      <td>2</td>\n",
       "      <td>0</td>\n",
       "      <td>1</td>\n",
       "      <td>0</td>\n",
       "      <td>1</td>\n",
       "      <td>0</td>\n",
       "      <td>1</td>\n",
       "      <td>0</td>\n",
       "      <td>0</td>\n",
       "      <td>0</td>\n",
       "    </tr>\n",
       "    <tr>\n",
       "      <th>4</th>\n",
       "      <td>11</td>\n",
       "      <td>Mrs.</td>\n",
       "      <td>Kayla</td>\n",
       "      <td>A</td>\n",
       "      <td>Brown</td>\n",
       "      <td>0</td>\n",
       "      <td>1</td>\n",
       "      <td>1</td>\n",
       "      <td>0</td>\n",
       "      <td>1</td>\n",
       "      <td>0</td>\n",
       "      <td>0</td>\n",
       "      <td>0</td>\n",
       "      <td>0</td>\n",
       "      <td>0</td>\n",
       "      <td>0</td>\n",
       "      <td>0</td>\n",
       "    </tr>\n",
       "  </tbody>\n",
       "</table>\n",
       "</div>"
      ],
      "text/plain": [
       "   CustomerID Title GivenName MiddleInitial    Surname  Gender  Location  \\\n",
       "0           1  Mrs.      Macy             A      Boyle       0         0   \n",
       "1           2   Ms.      Thea             L   McIntosh       0         0   \n",
       "2           4   Ms.    Murron             P     Miller       0         0   \n",
       "3           5   Mr.       Kai             A  Henderson       1         1   \n",
       "4          11  Mrs.     Kayla             A      Brown       0         1   \n",
       "\n",
       "   PrefChannel  AMEX  Visa  Bundle_Motor_Type  Health_Type_Level1  \\\n",
       "0            3     1     0                  0                   0   \n",
       "1            2     1     0                  0                   1   \n",
       "2            3     1     0                  1                   0   \n",
       "3            2     0     1                  0                   1   \n",
       "4            1     0     1                  0                   0   \n",
       "\n",
       "   Travel_Type_Backpacker  Travel_Type_Business  Travel_Type_Premium  \\\n",
       "0                       0                     0                    1   \n",
       "1                       0                     0                    0   \n",
       "2                       0                     0                    0   \n",
       "3                       0                     1                    0   \n",
       "4                       0                     0                    0   \n",
       "\n",
       "   Travel_Type_Senior  Travel_Type_Standard  \n",
       "0                   0                     0  \n",
       "1                   0                     0  \n",
       "2                   0                     0  \n",
       "3                   0                     0  \n",
       "4                   0                     0  "
      ]
     },
     "execution_count": 107,
     "metadata": {},
     "output_type": "execute_result"
    }
   ],
   "source": [
    "X_drop.head()"
   ]
  },
  {
   "cell_type": "code",
   "execution_count": 108,
   "metadata": {},
   "outputs": [],
   "source": [
    "X_ = trainingData.drop(X_drop, axis = 1)"
   ]
  },
  {
   "cell_type": "code",
   "execution_count": 109,
   "metadata": {},
   "outputs": [],
   "source": [
    "Y_ = trainingData['PrefChannel']"
   ]
  },
  {
   "cell_type": "code",
   "execution_count": 110,
   "metadata": {},
   "outputs": [
    {
     "data": {
      "text/plain": [
       "((2620, 10), (1124, 10), (2620,), (1124,))"
      ]
     },
     "execution_count": 110,
     "metadata": {},
     "output_type": "execute_result"
    }
   ],
   "source": [
    "X_train_, X_test_, Y_train_, Y_test_ = train_test_split(X_,Y_,test_size = 0.3)\n",
    "\n",
    "X_train_.shape, X_test_.shape, Y_train_.shape, Y_test_.shape"
   ]
  },
  {
   "cell_type": "code",
   "execution_count": 111,
   "metadata": {},
   "outputs": [
    {
     "data": {
      "text/plain": [
       "0.5604982206405694"
      ]
     },
     "execution_count": 111,
     "metadata": {},
     "output_type": "execute_result"
    }
   ],
   "source": [
    "#LOGISTIC REGRESSION\n",
    "LR3 = LogisticRegression()\n",
    "LR3.fit(X_train_, Y_train_)\n",
    "Y_predLR2 = LR3.predict(X_test_)\n",
    "accuracy_score(Y_predLR2,Y_test_)"
   ]
  },
  {
   "cell_type": "code",
   "execution_count": 112,
   "metadata": {},
   "outputs": [
    {
     "data": {
      "text/plain": [
       "0.6565836298932385"
      ]
     },
     "execution_count": 112,
     "metadata": {},
     "output_type": "execute_result"
    }
   ],
   "source": [
    "DTE3 = DecisionTreeClassifier(criterion = \"gini\", random_state = 100,max_depth=3, min_samples_leaf=5)\n",
    "DTE3.fit(X_train_,Y_train_)\n",
    "y_predDF = DTE3.predict(X_test_)\n",
    "accuracy_score(Y_test_,y_predDF)"
   ]
  },
  {
   "cell_type": "code",
   "execution_count": 113,
   "metadata": {},
   "outputs": [
    {
     "data": {
      "text/plain": [
       "0.6654804270462633"
      ]
     },
     "execution_count": 113,
     "metadata": {},
     "output_type": "execute_result"
    }
   ],
   "source": [
    "DTE4 = DecisionTreeClassifier(criterion = \"entropy\", random_state = 100,max_depth=3, min_samples_leaf=5)\n",
    "DTE4.fit(X_train_,Y_train_)\n",
    "y_predDF = DTE4.predict(X_test_)\n",
    "accuracy_score(Y_test_,y_predDF)"
   ]
  },
  {
   "cell_type": "code",
   "execution_count": 114,
   "metadata": {},
   "outputs": [
    {
     "data": {
      "text/plain": [
       "0.5640569395017794"
      ]
     },
     "execution_count": 114,
     "metadata": {},
     "output_type": "execute_result"
    }
   ],
   "source": [
    "#RANDOM FOREST\n",
    "Rf3= RandomForestClassifier(n_estimators= 10, criterion=\"entropy\") \n",
    "Rf3.fit(X_train_, Y_train_)\n",
    "y_pred_RF= Rf3.predict(X_test_) \n",
    "accuracy_score(Y_test_, y_pred_RF)"
   ]
  },
  {
   "cell_type": "code",
   "execution_count": 115,
   "metadata": {},
   "outputs": [],
   "source": [
    "# #SVM\n",
    "# SVM3 = SVC(kernel = 'linear')\n",
    "# SVM3.fit(X_train_,Y_train_)\n",
    "# y_predSVM = SVM3.predict(X_test_)\n",
    "# accuracy_score(Y_test_,y_predSVM)"
   ]
  },
  {
   "cell_type": "code",
   "execution_count": 116,
   "metadata": {},
   "outputs": [
    {
     "data": {
      "text/plain": [
       "0.4991103202846975"
      ]
     },
     "execution_count": 116,
     "metadata": {},
     "output_type": "execute_result"
    }
   ],
   "source": [
    "#NAIVE BAYES\n",
    "NB3 = GaussianNB()\n",
    "NB3.fit(X_train_,Y_train_)\n",
    "y_pred_NB = NB3.predict(X_test_)\n",
    "accuracy_score(Y_test_, y_pred_NB)"
   ]
  },
  {
   "cell_type": "code",
   "execution_count": 117,
   "metadata": {},
   "outputs": [
    {
     "data": {
      "text/plain": [
       "0.5818505338078291"
      ]
     },
     "execution_count": 117,
     "metadata": {},
     "output_type": "execute_result"
    }
   ],
   "source": [
    "#KNN\n",
    "KNNmodel2 = KNeighborsClassifier(n_neighbors=11)\n",
    "KNNmodel2.fit(X_train_, Y_train_)\n",
    "Y_predKNN = KNNmodel2.predict(X_test_)\n",
    "accuracy_score(Y_test_,Y_predKNN)"
   ]
  },
  {
   "cell_type": "code",
   "execution_count": 118,
   "metadata": {},
   "outputs": [
    {
     "data": {
      "text/plain": [
       "array([[-1.26130763,  0.4711846 , -1.07046889, ..., -1.09368376,\n",
       "        -0.64870972, -0.41124315],\n",
       "       [ 0.86911991,  0.4711846 , -0.19129213, ...,  0.91434109,\n",
       "         1.54152154, -0.41124315],\n",
       "       [ 0.33651302,  0.4711846 , -0.47306009, ...,  0.91434109,\n",
       "        -0.64870972, -0.41124315],\n",
       "       ...,\n",
       "       [ 0.40308888,  0.4711846 ,  0.99042368, ...,  0.91434109,\n",
       "         1.54152154, -0.41124315],\n",
       "       [ 0.60281646,  0.4711846 ,  1.13326493, ...,  0.91434109,\n",
       "        -0.64870972,  2.43165145],\n",
       "       [-1.46103521,  0.4711846 , -0.23323378, ..., -1.09368376,\n",
       "        -0.64870972, -0.41124315]])"
      ]
     },
     "execution_count": 118,
     "metadata": {},
     "output_type": "execute_result"
    }
   ],
   "source": [
    "scaler.fit(X_train_)\n",
    "\n",
    "X_train_ = scaler.transform(X_train_)\n",
    "X_test_ = scaler.transform(X_test_)\n",
    "X_train_"
   ]
  },
  {
   "cell_type": "code",
   "execution_count": 119,
   "metadata": {},
   "outputs": [
    {
     "data": {
      "text/plain": [
       "0.6663701067615658"
      ]
     },
     "execution_count": 119,
     "metadata": {},
     "output_type": "execute_result"
    }
   ],
   "source": [
    "#LOGISTIC REGRESSION\n",
    "LR4 = LogisticRegression()\n",
    "LR4.fit(X_train_, Y_train_)\n",
    "Y_predLR2 = LR4.predict(X_test_)\n",
    "accuracy_score(Y_predLR2,Y_test_)"
   ]
  },
  {
   "cell_type": "code",
   "execution_count": 120,
   "metadata": {},
   "outputs": [
    {
     "data": {
      "text/plain": [
       "0.6565836298932385"
      ]
     },
     "execution_count": 120,
     "metadata": {},
     "output_type": "execute_result"
    }
   ],
   "source": [
    "#Decision Tree\n",
    "DTE5 = DecisionTreeClassifier(criterion = \"gini\", random_state = 0,max_depth=3, min_samples_leaf=5)\n",
    "DTE5.fit(X_train_,Y_train_)\n",
    "y_predDF = DTE5.predict(X_test_)\n",
    "accuracy_score(Y_test_,y_predDF)"
   ]
  },
  {
   "cell_type": "code",
   "execution_count": 121,
   "metadata": {},
   "outputs": [
    {
     "data": {
      "text/plain": [
       "0.6654804270462633"
      ]
     },
     "execution_count": 121,
     "metadata": {},
     "output_type": "execute_result"
    }
   ],
   "source": [
    "DTE6 = DecisionTreeClassifier(criterion = \"entropy\", random_state = 0,max_depth=3, min_samples_leaf=4)\n",
    "DTE6.fit(X_train_,Y_train_)\n",
    "y_predDF = DTE6.predict(X_test_)\n",
    "accuracy_score(Y_test_,y_predDF)"
   ]
  },
  {
   "cell_type": "code",
   "execution_count": 122,
   "metadata": {},
   "outputs": [
    {
     "data": {
      "text/plain": [
       "0.548932384341637"
      ]
     },
     "execution_count": 122,
     "metadata": {},
     "output_type": "execute_result"
    }
   ],
   "source": [
    "#RANDOM FOREST\n",
    "Rf4= RandomForestClassifier(n_estimators= 10, criterion=\"entropy\") \n",
    "Rf4.fit(X_train_, Y_train_)\n",
    "y_pred_RF= Rf4.predict(X_test_) \n",
    "accuracy_score(Y_test_, y_pred_RF)"
   ]
  },
  {
   "cell_type": "code",
   "execution_count": 123,
   "metadata": {},
   "outputs": [],
   "source": [
    "# #SVM\n",
    "# SVM4 = SVC(kernel = 'linear')\n",
    "# SVM4.fit(X_train_,Y_train_)\n",
    "# y_predSVM = SVM4.predict(X_test_)\n",
    "# accuracy_score(Y_test_,y_predSVM)"
   ]
  },
  {
   "cell_type": "code",
   "execution_count": 124,
   "metadata": {},
   "outputs": [
    {
     "data": {
      "text/plain": [
       "0.4786476868327402"
      ]
     },
     "execution_count": 124,
     "metadata": {},
     "output_type": "execute_result"
    }
   ],
   "source": [
    "#NAIVE BAYES\n",
    "NB4 = GaussianNB()\n",
    "NB4.fit(X_train_,Y_train_)\n",
    "y_pred_NB = NB4.predict(X_test_)\n",
    "accuracy_score(Y_test_, y_pred_NB)"
   ]
  },
  {
   "cell_type": "code",
   "execution_count": 125,
   "metadata": {},
   "outputs": [
    {
     "data": {
      "text/plain": [
       "0.6379003558718861"
      ]
     },
     "execution_count": 125,
     "metadata": {},
     "output_type": "execute_result"
    }
   ],
   "source": [
    "#KNN\n",
    "KNNmodel3 = KNeighborsClassifier(n_neighbors=11)\n",
    "KNNmodel3.fit(X_train_, Y_train_)\n",
    "Y_predKNN = KNNmodel3.predict(X_test_)\n",
    "accuracy_score(Y_test_,Y_predKNN)"
   ]
  },
  {
   "cell_type": "code",
   "execution_count": null,
   "metadata": {},
   "outputs": [],
   "source": []
  },
  {
   "cell_type": "code",
   "execution_count": 126,
   "metadata": {},
   "outputs": [],
   "source": [
    "#CLUSTERING"
   ]
  },
  {
   "cell_type": "code",
   "execution_count": 127,
   "metadata": {},
   "outputs": [
    {
     "name": "stdout",
     "output_type": "stream",
     "text": [
      "<class 'pandas.core.frame.DataFrame'>\n",
      "Int64Index: 3744 entries, 0 to 4089\n",
      "Data columns (total 27 columns):\n",
      " #   Column                  Non-Null Count  Dtype  \n",
      "---  ------                  --------------  -----  \n",
      " 0   CustomerID              3744 non-null   int64  \n",
      " 1   Title                   3744 non-null   object \n",
      " 2   GivenName               3744 non-null   object \n",
      " 3   MiddleInitial           3744 non-null   object \n",
      " 4   Surname                 3744 non-null   object \n",
      " 5   Gender                  3744 non-null   int64  \n",
      " 6   Age                     3744 non-null   int64  \n",
      " 7   Location                3744 non-null   int64  \n",
      " 8   MotorInsurance          3744 non-null   int64  \n",
      " 9   MotorValue              3744 non-null   int32  \n",
      " 10  HealthInsurance         3744 non-null   int64  \n",
      " 11  HealthDependentsAdults  3744 non-null   float64\n",
      " 12  HealthDependentsKids    3744 non-null   float64\n",
      " 13  TravelInsurance         3744 non-null   int64  \n",
      " 14  PrefChannel             3744 non-null   int64  \n",
      " 15  AMEX                    3744 non-null   uint8  \n",
      " 16  Visa                    3744 non-null   uint8  \n",
      " 17  Bundle_Motor_Type       3744 non-null   uint8  \n",
      " 18  Single_Motor_Type       3744 non-null   uint8  \n",
      " 19  Health_Type_Level1      3744 non-null   uint8  \n",
      " 20  Health_Type_Level2      3744 non-null   uint8  \n",
      " 21  Health_Type_Level3      3744 non-null   uint8  \n",
      " 22  Travel_Type_Backpacker  3744 non-null   uint8  \n",
      " 23  Travel_Type_Business    3744 non-null   uint8  \n",
      " 24  Travel_Type_Premium     3744 non-null   uint8  \n",
      " 25  Travel_Type_Senior      3744 non-null   uint8  \n",
      " 26  Travel_Type_Standard    3744 non-null   uint8  \n",
      "dtypes: float64(2), int32(1), int64(8), object(4), uint8(12)\n",
      "memory usage: 497.2+ KB\n"
     ]
    }
   ],
   "source": [
    "trainingData.info()"
   ]
  },
  {
   "cell_type": "code",
   "execution_count": 128,
   "metadata": {},
   "outputs": [],
   "source": [
    "x = trainingData.iloc[:, [6,9]].values #Motor insurance/Motor Value/ Motor Type\n",
    "x\n",
    "y = trainingData.iloc[:, [14]].values"
   ]
  },
  {
   "cell_type": "code",
   "execution_count": 129,
   "metadata": {},
   "outputs": [
    {
     "data": {
      "image/png": "[encoded data removed]",
      "text/plain": [
       "<Figure size 576x576 with 1 Axes>"
      ]
     },
     "metadata": {},
     "output_type": "display_data"
    }
   ],
   "source": [
    "wcss = []\n",
    "\n",
    "for i in range(1, 11):\n",
    "    kmeans = KMeans(n_clusters = i, init = 'k-means++', max_iter = 300, n_init = 10, random_state = 0)\n",
    "    kmeans.fit(x)\n",
    "    wcss.append(kmeans.inertia_)\n",
    "\n",
    "plt.figure(figsize =(8,8))\n",
    "plt.plot(range(1, 11), wcss)\n",
    "plt.title('The elbow method')\n",
    "plt.xlabel('Number of clusters')\n",
    "plt.ylabel('WCSS') #within cluster sum of squares\n",
    "plt.show()"
   ]
  },
  {
   "cell_type": "code",
   "execution_count": 130,
   "metadata": {},
   "outputs": [
    {
     "name": "stdout",
     "output_type": "stream",
     "text": [
      "[48.25950413 46.24911868 31.62476723 40.55662188 36.96392496]\n"
     ]
    },
    {
     "data": {
      "image/png": "[encoded data removed]",
      "text/plain": [
       "<Figure size 1152x288 with 1 Axes>"
      ]
     },
     "metadata": {},
     "output_type": "display_data"
    }
   ],
   "source": [
    "#Applying kmeans to the dataset / Creating the kmeans classifier\n",
    "kmeans = KMeans(n_clusters = 5, init = 'k-means++', max_iter = 300, n_init = 10)\n",
    "y_kmeans = kmeans.fit_predict(x)\n",
    "x\n",
    "df = pd.DataFrame(x, columns = ['Age', 'MotorValue'])\n",
    "df['Cluster'] = pd.DataFrame(y_kmeans)\n",
    "df.head()\n",
    "plt.figure(figsize=(16, 4))\n",
    "plt.scatter(x[y_kmeans == 0, 0], x[y_kmeans == 0, 1], s = 100, c = 'red', label = 'Cluster 1')\n",
    "plt.scatter(x[y_kmeans == 1, 0], x[y_kmeans == 1, 1], s = 100, c = 'blue', label = 'Cluster 2')\n",
    "plt.scatter(x[y_kmeans == 2, 0], x[y_kmeans == 2, 1], s = 100, c = 'green', label = 'Cluster 3')\n",
    "plt.scatter(x[y_kmeans == 3, 0], x[y_kmeans == 3, 1], s = 100, c = 'orange', label = 'Cluster 4')\n",
    "plt.scatter(x[y_kmeans == 4, 0], x[y_kmeans == 4, 1], s = 100, c = 'brown', label = 'Cluster 5')\n",
    "# plt.xlabel('Age')\n",
    "plt.scatter(kmeans.cluster_centers_[:, 0], kmeans.cluster_centers_[:,1], s = 100, c = 'yellow', label = 'Centroids')\n",
    "\n",
    "plt.legend()\n",
    "print(kmeans.cluster_centers_[:,0])"
   ]
  },
  {
   "cell_type": "code",
   "execution_count": 131,
   "metadata": {},
   "outputs": [],
   "source": [
    "writer = ExcelWriter('trainingDatasetcluster1111111.xlsx')\n",
    "df.to_excel(writer, encoding='utf8', index=False)\n",
    "writer.save() "
   ]
  },
  {
   "cell_type": "code",
   "execution_count": null,
   "metadata": {},
   "outputs": [],
   "source": []
  },
  {
   "cell_type": "code",
   "execution_count": null,
   "metadata": {},
   "outputs": [],
   "source": []
  },
  {
   "cell_type": "code",
   "execution_count": null,
   "metadata": {},
   "outputs": [],
   "source": []
  },
  {
   "cell_type": "markdown",
   "metadata": {},
   "source": [
    "# SCORING DATASET"
   ]
  },
  {
   "cell_type": "code",
   "execution_count": 132,
   "metadata": {},
   "outputs": [
    {
     "data": {
      "text/plain": [
       "CustomerID                  0\n",
       "Title                       0\n",
       "GivenName                   0\n",
       "MiddleInitial               0\n",
       "Surname                     0\n",
       "CreditCardType            205\n",
       "Occupation                399\n",
       "Gender                      0\n",
       "Age                         0\n",
       "Location                    0\n",
       "MotorInsurance              0\n",
       "MotorValue                188\n",
       "MotorType                 188\n",
       "HealthInsurance             0\n",
       "HealthType                399\n",
       "HealthDependentsAdults    399\n",
       "HealthDependentsKids      399\n",
       "TravelInsurance             0\n",
       "TravelType                512\n",
       "dtype: int64"
      ]
     },
     "execution_count": 132,
     "metadata": {},
     "output_type": "execute_result"
    }
   ],
   "source": [
    "ScoringData.isnull().sum()"
   ]
  },
  {
   "cell_type": "code",
   "execution_count": 133,
   "metadata": {},
   "outputs": [],
   "source": [
    "#remove occupation\n",
    "ScoringData = ScoringData.drop('Occupation',axis = 1)"
   ]
  },
  {
   "cell_type": "code",
   "execution_count": 134,
   "metadata": {},
   "outputs": [
    {
     "data": {
      "text/html": [
       "<div>\n",
       "<style scoped>\n",
       "    .dataframe tbody tr th:only-of-type {\n",
       "        vertical-align: middle;\n",
       "    }\n",
       "\n",
       "    .dataframe tbody tr th {\n",
       "        vertical-align: top;\n",
       "    }\n",
       "\n",
       "    .dataframe thead th {\n",
       "        text-align: right;\n",
       "    }\n",
       "</style>\n",
       "<table border=\"1\" class=\"dataframe\">\n",
       "  <thead>\n",
       "    <tr style=\"text-align: right;\">\n",
       "      <th></th>\n",
       "      <th>AMEX</th>\n",
       "      <th>Visa</th>\n",
       "    </tr>\n",
       "  </thead>\n",
       "  <tbody>\n",
       "    <tr>\n",
       "      <th>0</th>\n",
       "      <td>1</td>\n",
       "      <td>0</td>\n",
       "    </tr>\n",
       "    <tr>\n",
       "      <th>1</th>\n",
       "      <td>1</td>\n",
       "      <td>0</td>\n",
       "    </tr>\n",
       "    <tr>\n",
       "      <th>2</th>\n",
       "      <td>1</td>\n",
       "      <td>0</td>\n",
       "    </tr>\n",
       "    <tr>\n",
       "      <th>3</th>\n",
       "      <td>1</td>\n",
       "      <td>0</td>\n",
       "    </tr>\n",
       "    <tr>\n",
       "      <th>4</th>\n",
       "      <td>0</td>\n",
       "      <td>0</td>\n",
       "    </tr>\n",
       "    <tr>\n",
       "      <th>...</th>\n",
       "      <td>...</td>\n",
       "      <td>...</td>\n",
       "    </tr>\n",
       "    <tr>\n",
       "      <th>1086</th>\n",
       "      <td>1</td>\n",
       "      <td>0</td>\n",
       "    </tr>\n",
       "    <tr>\n",
       "      <th>1087</th>\n",
       "      <td>0</td>\n",
       "      <td>1</td>\n",
       "    </tr>\n",
       "    <tr>\n",
       "      <th>1088</th>\n",
       "      <td>0</td>\n",
       "      <td>1</td>\n",
       "    </tr>\n",
       "    <tr>\n",
       "      <th>1089</th>\n",
       "      <td>0</td>\n",
       "      <td>1</td>\n",
       "    </tr>\n",
       "    <tr>\n",
       "      <th>1090</th>\n",
       "      <td>0</td>\n",
       "      <td>0</td>\n",
       "    </tr>\n",
       "  </tbody>\n",
       "</table>\n",
       "<p>1091 rows × 2 columns</p>\n",
       "</div>"
      ],
      "text/plain": [
       "      AMEX  Visa\n",
       "0        1     0\n",
       "1        1     0\n",
       "2        1     0\n",
       "3        1     0\n",
       "4        0     0\n",
       "...    ...   ...\n",
       "1086     1     0\n",
       "1087     0     1\n",
       "1088     0     1\n",
       "1089     0     1\n",
       "1090     0     0\n",
       "\n",
       "[1091 rows x 2 columns]"
      ]
     },
     "execution_count": 134,
     "metadata": {},
     "output_type": "execute_result"
    }
   ],
   "source": [
    "#create dummies of credit card\n",
    "dummy_creditCard1 = pd.get_dummies(ScoringData['CreditCardType'])\n",
    "dummy_creditCard1.columns = ['AMEX','Visa']\n",
    "dummy_creditCard1"
   ]
  },
  {
   "cell_type": "code",
   "execution_count": 135,
   "metadata": {},
   "outputs": [
    {
     "data": {
      "text/html": [
       "<div>\n",
       "<style scoped>\n",
       "    .dataframe tbody tr th:only-of-type {\n",
       "        vertical-align: middle;\n",
       "    }\n",
       "\n",
       "    .dataframe tbody tr th {\n",
       "        vertical-align: top;\n",
       "    }\n",
       "\n",
       "    .dataframe thead th {\n",
       "        text-align: right;\n",
       "    }\n",
       "</style>\n",
       "<table border=\"1\" class=\"dataframe\">\n",
       "  <thead>\n",
       "    <tr style=\"text-align: right;\">\n",
       "      <th></th>\n",
       "      <th>CustomerID</th>\n",
       "      <th>Title</th>\n",
       "      <th>GivenName</th>\n",
       "      <th>MiddleInitial</th>\n",
       "      <th>Surname</th>\n",
       "      <th>Gender</th>\n",
       "      <th>Age</th>\n",
       "      <th>Location</th>\n",
       "      <th>MotorInsurance</th>\n",
       "      <th>MotorValue</th>\n",
       "      <th>MotorType</th>\n",
       "      <th>HealthInsurance</th>\n",
       "      <th>HealthType</th>\n",
       "      <th>HealthDependentsAdults</th>\n",
       "      <th>HealthDependentsKids</th>\n",
       "      <th>TravelInsurance</th>\n",
       "      <th>TravelType</th>\n",
       "      <th>AMEX</th>\n",
       "      <th>Visa</th>\n",
       "    </tr>\n",
       "  </thead>\n",
       "  <tbody>\n",
       "    <tr>\n",
       "      <th>0</th>\n",
       "      <td>3</td>\n",
       "      <td>Mr.</td>\n",
       "      <td>Niall</td>\n",
       "      <td>T</td>\n",
       "      <td>Graham</td>\n",
       "      <td>male</td>\n",
       "      <td>52</td>\n",
       "      <td>Urban</td>\n",
       "      <td>Yes</td>\n",
       "      <td>17274.0</td>\n",
       "      <td>Single</td>\n",
       "      <td>No</td>\n",
       "      <td>NaN</td>\n",
       "      <td>NaN</td>\n",
       "      <td>NaN</td>\n",
       "      <td>No</td>\n",
       "      <td>NaN</td>\n",
       "      <td>1</td>\n",
       "      <td>0</td>\n",
       "    </tr>\n",
       "    <tr>\n",
       "      <th>1</th>\n",
       "      <td>6</td>\n",
       "      <td>Mr.</td>\n",
       "      <td>Harry</td>\n",
       "      <td>L</td>\n",
       "      <td>McDonald</td>\n",
       "      <td>male</td>\n",
       "      <td>49</td>\n",
       "      <td>Rural</td>\n",
       "      <td>Yes</td>\n",
       "      <td>11735.0</td>\n",
       "      <td>Single</td>\n",
       "      <td>Yes</td>\n",
       "      <td>Level1</td>\n",
       "      <td>2.0</td>\n",
       "      <td>3.0</td>\n",
       "      <td>Yes</td>\n",
       "      <td>Business</td>\n",
       "      <td>1</td>\n",
       "      <td>0</td>\n",
       "    </tr>\n",
       "    <tr>\n",
       "      <th>2</th>\n",
       "      <td>7</td>\n",
       "      <td>Dr.</td>\n",
       "      <td>Chanelle</td>\n",
       "      <td>L</td>\n",
       "      <td>Hay</td>\n",
       "      <td>female</td>\n",
       "      <td>18</td>\n",
       "      <td>Urban</td>\n",
       "      <td>Yes</td>\n",
       "      <td>4884.0</td>\n",
       "      <td>Bundle</td>\n",
       "      <td>No</td>\n",
       "      <td>NaN</td>\n",
       "      <td>NaN</td>\n",
       "      <td>NaN</td>\n",
       "      <td>Yes</td>\n",
       "      <td>Backpacker</td>\n",
       "      <td>1</td>\n",
       "      <td>0</td>\n",
       "    </tr>\n",
       "    <tr>\n",
       "      <th>3</th>\n",
       "      <td>8</td>\n",
       "      <td>Ms.</td>\n",
       "      <td>Alexandra</td>\n",
       "      <td>J</td>\n",
       "      <td>Ross</td>\n",
       "      <td>female</td>\n",
       "      <td>48</td>\n",
       "      <td>Urban</td>\n",
       "      <td>Yes</td>\n",
       "      <td>13879.0</td>\n",
       "      <td>Single</td>\n",
       "      <td>Yes</td>\n",
       "      <td>Level1</td>\n",
       "      <td>1.0</td>\n",
       "      <td>3.0</td>\n",
       "      <td>No</td>\n",
       "      <td>NaN</td>\n",
       "      <td>1</td>\n",
       "      <td>0</td>\n",
       "    </tr>\n",
       "  </tbody>\n",
       "</table>\n",
       "</div>"
      ],
      "text/plain": [
       "   CustomerID Title  GivenName MiddleInitial   Surname  Gender  Age Location  \\\n",
       "0           3   Mr.      Niall             T    Graham    male   52    Urban   \n",
       "1           6   Mr.      Harry             L  McDonald    male   49    Rural   \n",
       "2           7   Dr.   Chanelle             L       Hay  female   18    Urban   \n",
       "3           8   Ms.  Alexandra             J      Ross  female   48    Urban   \n",
       "\n",
       "  MotorInsurance  MotorValue MotorType HealthInsurance HealthType  \\\n",
       "0            Yes     17274.0    Single              No        NaN   \n",
       "1            Yes     11735.0    Single             Yes     Level1   \n",
       "2            Yes      4884.0    Bundle              No        NaN   \n",
       "3            Yes     13879.0    Single             Yes     Level1   \n",
       "\n",
       "   HealthDependentsAdults  HealthDependentsKids TravelInsurance  TravelType  \\\n",
       "0                     NaN                   NaN              No         NaN   \n",
       "1                     2.0                   3.0             Yes    Business   \n",
       "2                     NaN                   NaN             Yes  Backpacker   \n",
       "3                     1.0                   3.0              No         NaN   \n",
       "\n",
       "   AMEX  Visa  \n",
       "0     1     0  \n",
       "1     1     0  \n",
       "2     1     0  \n",
       "3     1     0  "
      ]
     },
     "execution_count": 135,
     "metadata": {},
     "output_type": "execute_result"
    }
   ],
   "source": [
    "ScoringData.drop(['CreditCardType'],axis = 1, inplace = True)\n",
    "ScoringData =pd.concat([ScoringData,dummy_creditCard1],axis = 1)\n",
    "ScoringData.head(4)"
   ]
  },
  {
   "cell_type": "code",
   "execution_count": 136,
   "metadata": {},
   "outputs": [],
   "source": [
    "ScoringData[\"Gender\"] =ScoringData[\"Gender\"].apply(gender)"
   ]
  },
  {
   "cell_type": "code",
   "execution_count": 137,
   "metadata": {},
   "outputs": [],
   "source": [
    "ScoringData['Gender'] = ScoringData['Gender'].replace(['Male'],1)\n",
    "ScoringData['Gender'] = ScoringData['Gender'].replace(['female'],0)"
   ]
  },
  {
   "cell_type": "code",
   "execution_count": 138,
   "metadata": {},
   "outputs": [
    {
     "data": {
      "text/html": [
       "<div>\n",
       "<style scoped>\n",
       "    .dataframe tbody tr th:only-of-type {\n",
       "        vertical-align: middle;\n",
       "    }\n",
       "\n",
       "    .dataframe tbody tr th {\n",
       "        vertical-align: top;\n",
       "    }\n",
       "\n",
       "    .dataframe thead th {\n",
       "        text-align: right;\n",
       "    }\n",
       "</style>\n",
       "<table border=\"1\" class=\"dataframe\">\n",
       "  <thead>\n",
       "    <tr style=\"text-align: right;\">\n",
       "      <th></th>\n",
       "      <th>CustomerID</th>\n",
       "      <th>Title</th>\n",
       "      <th>GivenName</th>\n",
       "      <th>MiddleInitial</th>\n",
       "      <th>Surname</th>\n",
       "      <th>Gender</th>\n",
       "      <th>Age</th>\n",
       "      <th>Location</th>\n",
       "      <th>MotorInsurance</th>\n",
       "      <th>MotorValue</th>\n",
       "      <th>MotorType</th>\n",
       "      <th>HealthInsurance</th>\n",
       "      <th>HealthType</th>\n",
       "      <th>HealthDependentsAdults</th>\n",
       "      <th>HealthDependentsKids</th>\n",
       "      <th>TravelInsurance</th>\n",
       "      <th>TravelType</th>\n",
       "      <th>AMEX</th>\n",
       "      <th>Visa</th>\n",
       "    </tr>\n",
       "  </thead>\n",
       "  <tbody>\n",
       "    <tr>\n",
       "      <th>0</th>\n",
       "      <td>3</td>\n",
       "      <td>Mr.</td>\n",
       "      <td>Niall</td>\n",
       "      <td>T</td>\n",
       "      <td>Graham</td>\n",
       "      <td>1</td>\n",
       "      <td>52</td>\n",
       "      <td>Urban</td>\n",
       "      <td>Yes</td>\n",
       "      <td>17274.0</td>\n",
       "      <td>Single</td>\n",
       "      <td>No</td>\n",
       "      <td>NaN</td>\n",
       "      <td>NaN</td>\n",
       "      <td>NaN</td>\n",
       "      <td>No</td>\n",
       "      <td>NaN</td>\n",
       "      <td>1</td>\n",
       "      <td>0</td>\n",
       "    </tr>\n",
       "    <tr>\n",
       "      <th>1</th>\n",
       "      <td>6</td>\n",
       "      <td>Mr.</td>\n",
       "      <td>Harry</td>\n",
       "      <td>L</td>\n",
       "      <td>McDonald</td>\n",
       "      <td>1</td>\n",
       "      <td>49</td>\n",
       "      <td>Rural</td>\n",
       "      <td>Yes</td>\n",
       "      <td>11735.0</td>\n",
       "      <td>Single</td>\n",
       "      <td>Yes</td>\n",
       "      <td>Level1</td>\n",
       "      <td>2.0</td>\n",
       "      <td>3.0</td>\n",
       "      <td>Yes</td>\n",
       "      <td>Business</td>\n",
       "      <td>1</td>\n",
       "      <td>0</td>\n",
       "    </tr>\n",
       "    <tr>\n",
       "      <th>2</th>\n",
       "      <td>7</td>\n",
       "      <td>Dr.</td>\n",
       "      <td>Chanelle</td>\n",
       "      <td>L</td>\n",
       "      <td>Hay</td>\n",
       "      <td>0</td>\n",
       "      <td>18</td>\n",
       "      <td>Urban</td>\n",
       "      <td>Yes</td>\n",
       "      <td>4884.0</td>\n",
       "      <td>Bundle</td>\n",
       "      <td>No</td>\n",
       "      <td>NaN</td>\n",
       "      <td>NaN</td>\n",
       "      <td>NaN</td>\n",
       "      <td>Yes</td>\n",
       "      <td>Backpacker</td>\n",
       "      <td>1</td>\n",
       "      <td>0</td>\n",
       "    </tr>\n",
       "    <tr>\n",
       "      <th>3</th>\n",
       "      <td>8</td>\n",
       "      <td>Ms.</td>\n",
       "      <td>Alexandra</td>\n",
       "      <td>J</td>\n",
       "      <td>Ross</td>\n",
       "      <td>0</td>\n",
       "      <td>48</td>\n",
       "      <td>Urban</td>\n",
       "      <td>Yes</td>\n",
       "      <td>13879.0</td>\n",
       "      <td>Single</td>\n",
       "      <td>Yes</td>\n",
       "      <td>Level1</td>\n",
       "      <td>1.0</td>\n",
       "      <td>3.0</td>\n",
       "      <td>No</td>\n",
       "      <td>NaN</td>\n",
       "      <td>1</td>\n",
       "      <td>0</td>\n",
       "    </tr>\n",
       "    <tr>\n",
       "      <th>4</th>\n",
       "      <td>9</td>\n",
       "      <td>Mr.</td>\n",
       "      <td>Bailey</td>\n",
       "      <td>T</td>\n",
       "      <td>Atkinson</td>\n",
       "      <td>1</td>\n",
       "      <td>49</td>\n",
       "      <td>Rural</td>\n",
       "      <td>Yes</td>\n",
       "      <td>17294.0</td>\n",
       "      <td>Single</td>\n",
       "      <td>Yes</td>\n",
       "      <td>Level2</td>\n",
       "      <td>1.0</td>\n",
       "      <td>3.0</td>\n",
       "      <td>Yes</td>\n",
       "      <td>Standard</td>\n",
       "      <td>0</td>\n",
       "      <td>0</td>\n",
       "    </tr>\n",
       "  </tbody>\n",
       "</table>\n",
       "</div>"
      ],
      "text/plain": [
       "   CustomerID Title  GivenName MiddleInitial   Surname  Gender  Age Location  \\\n",
       "0           3   Mr.      Niall             T    Graham       1   52    Urban   \n",
       "1           6   Mr.      Harry             L  McDonald       1   49    Rural   \n",
       "2           7   Dr.   Chanelle             L       Hay       0   18    Urban   \n",
       "3           8   Ms.  Alexandra             J      Ross       0   48    Urban   \n",
       "4           9   Mr.     Bailey             T  Atkinson       1   49    Rural   \n",
       "\n",
       "  MotorInsurance  MotorValue MotorType HealthInsurance HealthType  \\\n",
       "0            Yes     17274.0    Single              No        NaN   \n",
       "1            Yes     11735.0    Single             Yes     Level1   \n",
       "2            Yes      4884.0    Bundle              No        NaN   \n",
       "3            Yes     13879.0    Single             Yes     Level1   \n",
       "4            Yes     17294.0    Single             Yes     Level2   \n",
       "\n",
       "   HealthDependentsAdults  HealthDependentsKids TravelInsurance  TravelType  \\\n",
       "0                     NaN                   NaN              No         NaN   \n",
       "1                     2.0                   3.0             Yes    Business   \n",
       "2                     NaN                   NaN             Yes  Backpacker   \n",
       "3                     1.0                   3.0              No         NaN   \n",
       "4                     1.0                   3.0             Yes    Standard   \n",
       "\n",
       "   AMEX  Visa  \n",
       "0     1     0  \n",
       "1     1     0  \n",
       "2     1     0  \n",
       "3     1     0  \n",
       "4     0     0  "
      ]
     },
     "execution_count": 138,
     "metadata": {},
     "output_type": "execute_result"
    }
   ],
   "source": [
    "ScoringData.head()"
   ]
  },
  {
   "cell_type": "code",
   "execution_count": null,
   "metadata": {},
   "outputs": [],
   "source": []
  },
  {
   "cell_type": "code",
   "execution_count": 139,
   "metadata": {},
   "outputs": [],
   "source": [
    "ScoringData['Location'] = ScoringData['Location'].replace(['Urban'],0)\n",
    "ScoringData['Location'] = ScoringData['Location'].replace(['Rural'],1)"
   ]
  },
  {
   "cell_type": "code",
   "execution_count": 140,
   "metadata": {},
   "outputs": [
    {
     "data": {
      "text/html": [
       "<div>\n",
       "<style scoped>\n",
       "    .dataframe tbody tr th:only-of-type {\n",
       "        vertical-align: middle;\n",
       "    }\n",
       "\n",
       "    .dataframe tbody tr th {\n",
       "        vertical-align: top;\n",
       "    }\n",
       "\n",
       "    .dataframe thead th {\n",
       "        text-align: right;\n",
       "    }\n",
       "</style>\n",
       "<table border=\"1\" class=\"dataframe\">\n",
       "  <thead>\n",
       "    <tr style=\"text-align: right;\">\n",
       "      <th></th>\n",
       "      <th>CustomerID</th>\n",
       "      <th>Title</th>\n",
       "      <th>GivenName</th>\n",
       "      <th>MiddleInitial</th>\n",
       "      <th>Surname</th>\n",
       "      <th>Gender</th>\n",
       "      <th>Age</th>\n",
       "      <th>Location</th>\n",
       "      <th>MotorInsurance</th>\n",
       "      <th>MotorValue</th>\n",
       "      <th>MotorType</th>\n",
       "      <th>HealthInsurance</th>\n",
       "      <th>HealthType</th>\n",
       "      <th>HealthDependentsAdults</th>\n",
       "      <th>HealthDependentsKids</th>\n",
       "      <th>TravelInsurance</th>\n",
       "      <th>TravelType</th>\n",
       "      <th>AMEX</th>\n",
       "      <th>Visa</th>\n",
       "    </tr>\n",
       "  </thead>\n",
       "  <tbody>\n",
       "    <tr>\n",
       "      <th>0</th>\n",
       "      <td>3</td>\n",
       "      <td>Mr.</td>\n",
       "      <td>Niall</td>\n",
       "      <td>T</td>\n",
       "      <td>Graham</td>\n",
       "      <td>1</td>\n",
       "      <td>52</td>\n",
       "      <td>0</td>\n",
       "      <td>Yes</td>\n",
       "      <td>17274.0</td>\n",
       "      <td>Single</td>\n",
       "      <td>No</td>\n",
       "      <td>NaN</td>\n",
       "      <td>NaN</td>\n",
       "      <td>NaN</td>\n",
       "      <td>No</td>\n",
       "      <td>NaN</td>\n",
       "      <td>1</td>\n",
       "      <td>0</td>\n",
       "    </tr>\n",
       "    <tr>\n",
       "      <th>1</th>\n",
       "      <td>6</td>\n",
       "      <td>Mr.</td>\n",
       "      <td>Harry</td>\n",
       "      <td>L</td>\n",
       "      <td>McDonald</td>\n",
       "      <td>1</td>\n",
       "      <td>49</td>\n",
       "      <td>1</td>\n",
       "      <td>Yes</td>\n",
       "      <td>11735.0</td>\n",
       "      <td>Single</td>\n",
       "      <td>Yes</td>\n",
       "      <td>Level1</td>\n",
       "      <td>2.0</td>\n",
       "      <td>3.0</td>\n",
       "      <td>Yes</td>\n",
       "      <td>Business</td>\n",
       "      <td>1</td>\n",
       "      <td>0</td>\n",
       "    </tr>\n",
       "    <tr>\n",
       "      <th>2</th>\n",
       "      <td>7</td>\n",
       "      <td>Dr.</td>\n",
       "      <td>Chanelle</td>\n",
       "      <td>L</td>\n",
       "      <td>Hay</td>\n",
       "      <td>0</td>\n",
       "      <td>18</td>\n",
       "      <td>0</td>\n",
       "      <td>Yes</td>\n",
       "      <td>4884.0</td>\n",
       "      <td>Bundle</td>\n",
       "      <td>No</td>\n",
       "      <td>NaN</td>\n",
       "      <td>NaN</td>\n",
       "      <td>NaN</td>\n",
       "      <td>Yes</td>\n",
       "      <td>Backpacker</td>\n",
       "      <td>1</td>\n",
       "      <td>0</td>\n",
       "    </tr>\n",
       "    <tr>\n",
       "      <th>3</th>\n",
       "      <td>8</td>\n",
       "      <td>Ms.</td>\n",
       "      <td>Alexandra</td>\n",
       "      <td>J</td>\n",
       "      <td>Ross</td>\n",
       "      <td>0</td>\n",
       "      <td>48</td>\n",
       "      <td>0</td>\n",
       "      <td>Yes</td>\n",
       "      <td>13879.0</td>\n",
       "      <td>Single</td>\n",
       "      <td>Yes</td>\n",
       "      <td>Level1</td>\n",
       "      <td>1.0</td>\n",
       "      <td>3.0</td>\n",
       "      <td>No</td>\n",
       "      <td>NaN</td>\n",
       "      <td>1</td>\n",
       "      <td>0</td>\n",
       "    </tr>\n",
       "    <tr>\n",
       "      <th>4</th>\n",
       "      <td>9</td>\n",
       "      <td>Mr.</td>\n",
       "      <td>Bailey</td>\n",
       "      <td>T</td>\n",
       "      <td>Atkinson</td>\n",
       "      <td>1</td>\n",
       "      <td>49</td>\n",
       "      <td>1</td>\n",
       "      <td>Yes</td>\n",
       "      <td>17294.0</td>\n",
       "      <td>Single</td>\n",
       "      <td>Yes</td>\n",
       "      <td>Level2</td>\n",
       "      <td>1.0</td>\n",
       "      <td>3.0</td>\n",
       "      <td>Yes</td>\n",
       "      <td>Standard</td>\n",
       "      <td>0</td>\n",
       "      <td>0</td>\n",
       "    </tr>\n",
       "    <tr>\n",
       "      <th>...</th>\n",
       "      <td>...</td>\n",
       "      <td>...</td>\n",
       "      <td>...</td>\n",
       "      <td>...</td>\n",
       "      <td>...</td>\n",
       "      <td>...</td>\n",
       "      <td>...</td>\n",
       "      <td>...</td>\n",
       "      <td>...</td>\n",
       "      <td>...</td>\n",
       "      <td>...</td>\n",
       "      <td>...</td>\n",
       "      <td>...</td>\n",
       "      <td>...</td>\n",
       "      <td>...</td>\n",
       "      <td>...</td>\n",
       "      <td>...</td>\n",
       "      <td>...</td>\n",
       "      <td>...</td>\n",
       "    </tr>\n",
       "    <tr>\n",
       "      <th>1086</th>\n",
       "      <td>5169</td>\n",
       "      <td>Mrs.</td>\n",
       "      <td>Eleanor</td>\n",
       "      <td>D</td>\n",
       "      <td>Bennett</td>\n",
       "      <td>0</td>\n",
       "      <td>18</td>\n",
       "      <td>1</td>\n",
       "      <td>Yes</td>\n",
       "      <td>30271.0</td>\n",
       "      <td>Bundle</td>\n",
       "      <td>No</td>\n",
       "      <td>NaN</td>\n",
       "      <td>NaN</td>\n",
       "      <td>NaN</td>\n",
       "      <td>Yes</td>\n",
       "      <td>Premium</td>\n",
       "      <td>1</td>\n",
       "      <td>0</td>\n",
       "    </tr>\n",
       "    <tr>\n",
       "      <th>1087</th>\n",
       "      <td>5176</td>\n",
       "      <td>Mrs.</td>\n",
       "      <td>Rebecca</td>\n",
       "      <td>P</td>\n",
       "      <td>Milne</td>\n",
       "      <td>0</td>\n",
       "      <td>51</td>\n",
       "      <td>0</td>\n",
       "      <td>Yes</td>\n",
       "      <td>10999.0</td>\n",
       "      <td>Single</td>\n",
       "      <td>Yes</td>\n",
       "      <td>Level1</td>\n",
       "      <td>0.0</td>\n",
       "      <td>3.0</td>\n",
       "      <td>Yes</td>\n",
       "      <td>Standard</td>\n",
       "      <td>0</td>\n",
       "      <td>1</td>\n",
       "    </tr>\n",
       "    <tr>\n",
       "      <th>1088</th>\n",
       "      <td>5177</td>\n",
       "      <td>Mr.</td>\n",
       "      <td>Billy</td>\n",
       "      <td>C</td>\n",
       "      <td>Riley</td>\n",
       "      <td>1</td>\n",
       "      <td>52</td>\n",
       "      <td>1</td>\n",
       "      <td>Yes</td>\n",
       "      <td>16622.0</td>\n",
       "      <td>Single</td>\n",
       "      <td>Yes</td>\n",
       "      <td>Level2</td>\n",
       "      <td>0.0</td>\n",
       "      <td>2.0</td>\n",
       "      <td>No</td>\n",
       "      <td>NaN</td>\n",
       "      <td>0</td>\n",
       "      <td>1</td>\n",
       "    </tr>\n",
       "    <tr>\n",
       "      <th>1089</th>\n",
       "      <td>5179</td>\n",
       "      <td>Mr.</td>\n",
       "      <td>Russell</td>\n",
       "      <td>C</td>\n",
       "      <td>Shaw</td>\n",
       "      <td>1</td>\n",
       "      <td>47</td>\n",
       "      <td>1</td>\n",
       "      <td>Yes</td>\n",
       "      <td>11277.0</td>\n",
       "      <td>Single</td>\n",
       "      <td>No</td>\n",
       "      <td>NaN</td>\n",
       "      <td>NaN</td>\n",
       "      <td>NaN</td>\n",
       "      <td>No</td>\n",
       "      <td>NaN</td>\n",
       "      <td>0</td>\n",
       "      <td>1</td>\n",
       "    </tr>\n",
       "    <tr>\n",
       "      <th>1090</th>\n",
       "      <td>5189</td>\n",
       "      <td>Mr.</td>\n",
       "      <td>Joseph</td>\n",
       "      <td>J</td>\n",
       "      <td>Taylor</td>\n",
       "      <td>1</td>\n",
       "      <td>50</td>\n",
       "      <td>0</td>\n",
       "      <td>Yes</td>\n",
       "      <td>32673.0</td>\n",
       "      <td>Single</td>\n",
       "      <td>Yes</td>\n",
       "      <td>Level3</td>\n",
       "      <td>2.0</td>\n",
       "      <td>2.0</td>\n",
       "      <td>No</td>\n",
       "      <td>NaN</td>\n",
       "      <td>0</td>\n",
       "      <td>0</td>\n",
       "    </tr>\n",
       "  </tbody>\n",
       "</table>\n",
       "<p>1091 rows × 19 columns</p>\n",
       "</div>"
      ],
      "text/plain": [
       "      CustomerID Title  GivenName MiddleInitial   Surname  Gender  Age  \\\n",
       "0              3   Mr.      Niall             T    Graham       1   52   \n",
       "1              6   Mr.      Harry             L  McDonald       1   49   \n",
       "2              7   Dr.   Chanelle             L       Hay       0   18   \n",
       "3              8   Ms.  Alexandra             J      Ross       0   48   \n",
       "4              9   Mr.     Bailey             T  Atkinson       1   49   \n",
       "...          ...   ...        ...           ...       ...     ...  ...   \n",
       "1086        5169  Mrs.    Eleanor             D   Bennett       0   18   \n",
       "1087        5176  Mrs.    Rebecca             P     Milne       0   51   \n",
       "1088        5177   Mr.      Billy             C     Riley       1   52   \n",
       "1089        5179   Mr.    Russell             C      Shaw       1   47   \n",
       "1090        5189   Mr.     Joseph             J    Taylor       1   50   \n",
       "\n",
       "      Location MotorInsurance  MotorValue MotorType HealthInsurance  \\\n",
       "0            0            Yes     17274.0    Single              No   \n",
       "1            1            Yes     11735.0    Single             Yes   \n",
       "2            0            Yes      4884.0    Bundle              No   \n",
       "3            0            Yes     13879.0    Single             Yes   \n",
       "4            1            Yes     17294.0    Single             Yes   \n",
       "...        ...            ...         ...       ...             ...   \n",
       "1086         1            Yes     30271.0    Bundle              No   \n",
       "1087         0            Yes     10999.0    Single             Yes   \n",
       "1088         1            Yes     16622.0    Single             Yes   \n",
       "1089         1            Yes     11277.0    Single              No   \n",
       "1090         0            Yes     32673.0    Single             Yes   \n",
       "\n",
       "     HealthType  HealthDependentsAdults  HealthDependentsKids TravelInsurance  \\\n",
       "0           NaN                     NaN                   NaN              No   \n",
       "1        Level1                     2.0                   3.0             Yes   \n",
       "2           NaN                     NaN                   NaN             Yes   \n",
       "3        Level1                     1.0                   3.0              No   \n",
       "4        Level2                     1.0                   3.0             Yes   \n",
       "...         ...                     ...                   ...             ...   \n",
       "1086        NaN                     NaN                   NaN             Yes   \n",
       "1087     Level1                     0.0                   3.0             Yes   \n",
       "1088     Level2                     0.0                   2.0              No   \n",
       "1089        NaN                     NaN                   NaN              No   \n",
       "1090     Level3                     2.0                   2.0              No   \n",
       "\n",
       "      TravelType  AMEX  Visa  \n",
       "0            NaN     1     0  \n",
       "1       Business     1     0  \n",
       "2     Backpacker     1     0  \n",
       "3            NaN     1     0  \n",
       "4       Standard     0     0  \n",
       "...          ...   ...   ...  \n",
       "1086     Premium     1     0  \n",
       "1087    Standard     0     1  \n",
       "1088         NaN     0     1  \n",
       "1089         NaN     0     1  \n",
       "1090         NaN     0     0  \n",
       "\n",
       "[1091 rows x 19 columns]"
      ]
     },
     "execution_count": 140,
     "metadata": {},
     "output_type": "execute_result"
    }
   ],
   "source": [
    "ScoringData"
   ]
  },
  {
   "cell_type": "code",
   "execution_count": 141,
   "metadata": {},
   "outputs": [],
   "source": [
    "ScoringData['MotorInsurance'] = ScoringData['MotorInsurance'].apply(yesNo)"
   ]
  },
  {
   "cell_type": "code",
   "execution_count": 142,
   "metadata": {},
   "outputs": [],
   "source": [
    "ScoringData['MotorValue'] = ScoringData['MotorValue'].fillna(0)\n",
    "ScoringData['MotorValue'] = ScoringData['MotorValue'].astype(int)"
   ]
  },
  {
   "cell_type": "code",
   "execution_count": 143,
   "metadata": {},
   "outputs": [
    {
     "data": {
      "text/html": [
       "<div>\n",
       "<style scoped>\n",
       "    .dataframe tbody tr th:only-of-type {\n",
       "        vertical-align: middle;\n",
       "    }\n",
       "\n",
       "    .dataframe tbody tr th {\n",
       "        vertical-align: top;\n",
       "    }\n",
       "\n",
       "    .dataframe thead th {\n",
       "        text-align: right;\n",
       "    }\n",
       "</style>\n",
       "<table border=\"1\" class=\"dataframe\">\n",
       "  <thead>\n",
       "    <tr style=\"text-align: right;\">\n",
       "      <th></th>\n",
       "      <th>Bundle_Motor_Type</th>\n",
       "      <th>Single_Motor_Type</th>\n",
       "    </tr>\n",
       "  </thead>\n",
       "  <tbody>\n",
       "    <tr>\n",
       "      <th>0</th>\n",
       "      <td>0</td>\n",
       "      <td>1</td>\n",
       "    </tr>\n",
       "    <tr>\n",
       "      <th>1</th>\n",
       "      <td>0</td>\n",
       "      <td>1</td>\n",
       "    </tr>\n",
       "    <tr>\n",
       "      <th>2</th>\n",
       "      <td>1</td>\n",
       "      <td>0</td>\n",
       "    </tr>\n",
       "    <tr>\n",
       "      <th>3</th>\n",
       "      <td>0</td>\n",
       "      <td>1</td>\n",
       "    </tr>\n",
       "    <tr>\n",
       "      <th>4</th>\n",
       "      <td>0</td>\n",
       "      <td>1</td>\n",
       "    </tr>\n",
       "    <tr>\n",
       "      <th>...</th>\n",
       "      <td>...</td>\n",
       "      <td>...</td>\n",
       "    </tr>\n",
       "    <tr>\n",
       "      <th>1086</th>\n",
       "      <td>1</td>\n",
       "      <td>0</td>\n",
       "    </tr>\n",
       "    <tr>\n",
       "      <th>1087</th>\n",
       "      <td>0</td>\n",
       "      <td>1</td>\n",
       "    </tr>\n",
       "    <tr>\n",
       "      <th>1088</th>\n",
       "      <td>0</td>\n",
       "      <td>1</td>\n",
       "    </tr>\n",
       "    <tr>\n",
       "      <th>1089</th>\n",
       "      <td>0</td>\n",
       "      <td>1</td>\n",
       "    </tr>\n",
       "    <tr>\n",
       "      <th>1090</th>\n",
       "      <td>0</td>\n",
       "      <td>1</td>\n",
       "    </tr>\n",
       "  </tbody>\n",
       "</table>\n",
       "<p>1091 rows × 2 columns</p>\n",
       "</div>"
      ],
      "text/plain": [
       "      Bundle_Motor_Type  Single_Motor_Type\n",
       "0                     0                  1\n",
       "1                     0                  1\n",
       "2                     1                  0\n",
       "3                     0                  1\n",
       "4                     0                  1\n",
       "...                 ...                ...\n",
       "1086                  1                  0\n",
       "1087                  0                  1\n",
       "1088                  0                  1\n",
       "1089                  0                  1\n",
       "1090                  0                  1\n",
       "\n",
       "[1091 rows x 2 columns]"
      ]
     },
     "execution_count": 143,
     "metadata": {},
     "output_type": "execute_result"
    }
   ],
   "source": [
    "dummy_motorType1 = pd.get_dummies(ScoringData['MotorType'])\n",
    "dummy_motorType1.columns = ['Bundle_Motor_Type','Single_Motor_Type']\n",
    "dummy_motorType1"
   ]
  },
  {
   "cell_type": "code",
   "execution_count": 144,
   "metadata": {},
   "outputs": [],
   "source": [
    "ScoringData.drop(['MotorType'],axis = 1, inplace = True)"
   ]
  },
  {
   "cell_type": "code",
   "execution_count": 145,
   "metadata": {},
   "outputs": [],
   "source": [
    "ScoringData =pd.concat([ScoringData,dummy_motorType1],axis = 1)"
   ]
  },
  {
   "cell_type": "code",
   "execution_count": 146,
   "metadata": {},
   "outputs": [],
   "source": [
    "ScoringData['HealthInsurance'] = ScoringData['HealthInsurance'].apply(yesNo)"
   ]
  },
  {
   "cell_type": "code",
   "execution_count": 147,
   "metadata": {},
   "outputs": [],
   "source": [
    "ScoringData['TravelInsurance'] = ScoringData['TravelInsurance'].apply(yesNo)"
   ]
  },
  {
   "cell_type": "code",
   "execution_count": 148,
   "metadata": {},
   "outputs": [
    {
     "data": {
      "text/html": [
       "<div>\n",
       "<style scoped>\n",
       "    .dataframe tbody tr th:only-of-type {\n",
       "        vertical-align: middle;\n",
       "    }\n",
       "\n",
       "    .dataframe tbody tr th {\n",
       "        vertical-align: top;\n",
       "    }\n",
       "\n",
       "    .dataframe thead th {\n",
       "        text-align: right;\n",
       "    }\n",
       "</style>\n",
       "<table border=\"1\" class=\"dataframe\">\n",
       "  <thead>\n",
       "    <tr style=\"text-align: right;\">\n",
       "      <th></th>\n",
       "      <th>Health_Type_Level1</th>\n",
       "      <th>Health_Type_Level2</th>\n",
       "      <th>Health_Type_Level3</th>\n",
       "    </tr>\n",
       "  </thead>\n",
       "  <tbody>\n",
       "    <tr>\n",
       "      <th>0</th>\n",
       "      <td>0</td>\n",
       "      <td>0</td>\n",
       "      <td>0</td>\n",
       "    </tr>\n",
       "    <tr>\n",
       "      <th>1</th>\n",
       "      <td>1</td>\n",
       "      <td>0</td>\n",
       "      <td>0</td>\n",
       "    </tr>\n",
       "    <tr>\n",
       "      <th>2</th>\n",
       "      <td>0</td>\n",
       "      <td>0</td>\n",
       "      <td>0</td>\n",
       "    </tr>\n",
       "    <tr>\n",
       "      <th>3</th>\n",
       "      <td>1</td>\n",
       "      <td>0</td>\n",
       "      <td>0</td>\n",
       "    </tr>\n",
       "  </tbody>\n",
       "</table>\n",
       "</div>"
      ],
      "text/plain": [
       "   Health_Type_Level1  Health_Type_Level2  Health_Type_Level3\n",
       "0                   0                   0                   0\n",
       "1                   1                   0                   0\n",
       "2                   0                   0                   0\n",
       "3                   1                   0                   0"
      ]
     },
     "execution_count": 148,
     "metadata": {},
     "output_type": "execute_result"
    }
   ],
   "source": [
    "dummy_healthType1 = pd.get_dummies(ScoringData['HealthType'])\n",
    "dummy_healthType1.columns = ['Health_Type_Level1','Health_Type_Level2','Health_Type_Level3']\n",
    "dummy_healthType1.head(4)"
   ]
  },
  {
   "cell_type": "code",
   "execution_count": 149,
   "metadata": {},
   "outputs": [],
   "source": [
    "ScoringData.drop(['HealthType'],axis = 1, inplace = True)"
   ]
  },
  {
   "cell_type": "code",
   "execution_count": 150,
   "metadata": {},
   "outputs": [],
   "source": [
    "ScoringData =pd.concat([ScoringData,dummy_healthType1],axis = 1)"
   ]
  },
  {
   "cell_type": "code",
   "execution_count": 151,
   "metadata": {},
   "outputs": [
    {
     "data": {
      "text/html": [
       "<div>\n",
       "<style scoped>\n",
       "    .dataframe tbody tr th:only-of-type {\n",
       "        vertical-align: middle;\n",
       "    }\n",
       "\n",
       "    .dataframe tbody tr th {\n",
       "        vertical-align: top;\n",
       "    }\n",
       "\n",
       "    .dataframe thead th {\n",
       "        text-align: right;\n",
       "    }\n",
       "</style>\n",
       "<table border=\"1\" class=\"dataframe\">\n",
       "  <thead>\n",
       "    <tr style=\"text-align: right;\">\n",
       "      <th></th>\n",
       "      <th>Travel_Type_Backpacker</th>\n",
       "      <th>Travel_Type_Business</th>\n",
       "      <th>Travel_Type_Premium</th>\n",
       "      <th>Travel_Type_Senior</th>\n",
       "      <th>Travel_Type_Standard</th>\n",
       "    </tr>\n",
       "  </thead>\n",
       "  <tbody>\n",
       "    <tr>\n",
       "      <th>0</th>\n",
       "      <td>0</td>\n",
       "      <td>0</td>\n",
       "      <td>0</td>\n",
       "      <td>0</td>\n",
       "      <td>0</td>\n",
       "    </tr>\n",
       "    <tr>\n",
       "      <th>1</th>\n",
       "      <td>0</td>\n",
       "      <td>1</td>\n",
       "      <td>0</td>\n",
       "      <td>0</td>\n",
       "      <td>0</td>\n",
       "    </tr>\n",
       "    <tr>\n",
       "      <th>2</th>\n",
       "      <td>1</td>\n",
       "      <td>0</td>\n",
       "      <td>0</td>\n",
       "      <td>0</td>\n",
       "      <td>0</td>\n",
       "    </tr>\n",
       "    <tr>\n",
       "      <th>3</th>\n",
       "      <td>0</td>\n",
       "      <td>0</td>\n",
       "      <td>0</td>\n",
       "      <td>0</td>\n",
       "      <td>0</td>\n",
       "    </tr>\n",
       "    <tr>\n",
       "      <th>4</th>\n",
       "      <td>0</td>\n",
       "      <td>0</td>\n",
       "      <td>0</td>\n",
       "      <td>0</td>\n",
       "      <td>1</td>\n",
       "    </tr>\n",
       "    <tr>\n",
       "      <th>...</th>\n",
       "      <td>...</td>\n",
       "      <td>...</td>\n",
       "      <td>...</td>\n",
       "      <td>...</td>\n",
       "      <td>...</td>\n",
       "    </tr>\n",
       "    <tr>\n",
       "      <th>1086</th>\n",
       "      <td>0</td>\n",
       "      <td>0</td>\n",
       "      <td>1</td>\n",
       "      <td>0</td>\n",
       "      <td>0</td>\n",
       "    </tr>\n",
       "    <tr>\n",
       "      <th>1087</th>\n",
       "      <td>0</td>\n",
       "      <td>0</td>\n",
       "      <td>0</td>\n",
       "      <td>0</td>\n",
       "      <td>1</td>\n",
       "    </tr>\n",
       "    <tr>\n",
       "      <th>1088</th>\n",
       "      <td>0</td>\n",
       "      <td>0</td>\n",
       "      <td>0</td>\n",
       "      <td>0</td>\n",
       "      <td>0</td>\n",
       "    </tr>\n",
       "    <tr>\n",
       "      <th>1089</th>\n",
       "      <td>0</td>\n",
       "      <td>0</td>\n",
       "      <td>0</td>\n",
       "      <td>0</td>\n",
       "      <td>0</td>\n",
       "    </tr>\n",
       "    <tr>\n",
       "      <th>1090</th>\n",
       "      <td>0</td>\n",
       "      <td>0</td>\n",
       "      <td>0</td>\n",
       "      <td>0</td>\n",
       "      <td>0</td>\n",
       "    </tr>\n",
       "  </tbody>\n",
       "</table>\n",
       "<p>1091 rows × 5 columns</p>\n",
       "</div>"
      ],
      "text/plain": [
       "      Travel_Type_Backpacker  Travel_Type_Business  Travel_Type_Premium  \\\n",
       "0                          0                     0                    0   \n",
       "1                          0                     1                    0   \n",
       "2                          1                     0                    0   \n",
       "3                          0                     0                    0   \n",
       "4                          0                     0                    0   \n",
       "...                      ...                   ...                  ...   \n",
       "1086                       0                     0                    1   \n",
       "1087                       0                     0                    0   \n",
       "1088                       0                     0                    0   \n",
       "1089                       0                     0                    0   \n",
       "1090                       0                     0                    0   \n",
       "\n",
       "      Travel_Type_Senior  Travel_Type_Standard  \n",
       "0                      0                     0  \n",
       "1                      0                     0  \n",
       "2                      0                     0  \n",
       "3                      0                     0  \n",
       "4                      0                     1  \n",
       "...                  ...                   ...  \n",
       "1086                   0                     0  \n",
       "1087                   0                     1  \n",
       "1088                   0                     0  \n",
       "1089                   0                     0  \n",
       "1090                   0                     0  \n",
       "\n",
       "[1091 rows x 5 columns]"
      ]
     },
     "execution_count": 151,
     "metadata": {},
     "output_type": "execute_result"
    }
   ],
   "source": [
    "dummy_travelType1 = pd.get_dummies(ScoringData['TravelType'])\n",
    "dummy_travelType1.columns = ['Travel_Type_Backpacker','Travel_Type_Business','Travel_Type_Premium','Travel_Type_Senior','Travel_Type_Standard']\n",
    "dummy_travelType1"
   ]
  },
  {
   "cell_type": "code",
   "execution_count": 152,
   "metadata": {},
   "outputs": [],
   "source": [
    "ScoringData.drop(['TravelType'],axis = 1, inplace = True)"
   ]
  },
  {
   "cell_type": "code",
   "execution_count": 153,
   "metadata": {},
   "outputs": [],
   "source": [
    "ScoringData =pd.concat([ScoringData,dummy_travelType1],axis = 1)"
   ]
  },
  {
   "cell_type": "code",
   "execution_count": 154,
   "metadata": {},
   "outputs": [
    {
     "data": {
      "text/plain": [
       "Index(['CustomerID', 'Title', 'GivenName', 'MiddleInitial', 'Surname',\n",
       "       'Gender', 'Age', 'Location', 'MotorInsurance', 'MotorValue',\n",
       "       'HealthInsurance', 'HealthDependentsAdults', 'HealthDependentsKids',\n",
       "       'TravelInsurance', 'AMEX', 'Visa', 'Bundle_Motor_Type',\n",
       "       'Single_Motor_Type', 'Health_Type_Level1', 'Health_Type_Level2',\n",
       "       'Health_Type_Level3', 'Travel_Type_Backpacker', 'Travel_Type_Business',\n",
       "       'Travel_Type_Premium', 'Travel_Type_Senior', 'Travel_Type_Standard'],\n",
       "      dtype='object')"
      ]
     },
     "execution_count": 154,
     "metadata": {},
     "output_type": "execute_result"
    }
   ],
   "source": [
    "ScoringData.columns"
   ]
  },
  {
   "cell_type": "code",
   "execution_count": 155,
   "metadata": {},
   "outputs": [],
   "source": [
    "ScoringData['HealthDependentsAdults'] = ScoringData['HealthDependentsAdults'].fillna(0)"
   ]
  },
  {
   "cell_type": "code",
   "execution_count": 156,
   "metadata": {},
   "outputs": [],
   "source": [
    "ScoringData['HealthDependentsKids'] = ScoringData['HealthDependentsKids'].fillna(0)"
   ]
  },
  {
   "cell_type": "code",
   "execution_count": 157,
   "metadata": {},
   "outputs": [
    {
     "data": {
      "text/plain": [
       "(19.0, 66.0)"
      ]
     },
     "execution_count": 157,
     "metadata": {},
     "output_type": "execute_result"
    }
   ],
   "source": [
    "Q1 = np.percentile(ScoringData['Age'], 10, \n",
    "                   interpolation = 'midpoint')\n",
    "\n",
    "Q3 = np.percentile(ScoringData['Age'], 95, \n",
    "                   interpolation = 'midpoint')\n",
    "Q1,Q3"
   ]
  },
  {
   "cell_type": "code",
   "execution_count": 158,
   "metadata": {},
   "outputs": [
    {
     "data": {
      "text/plain": [
       "CustomerID                1091\n",
       "Title                     1091\n",
       "GivenName                 1091\n",
       "MiddleInitial             1091\n",
       "Surname                   1091\n",
       "Gender                    1091\n",
       "Age                       1091\n",
       "Location                  1091\n",
       "MotorInsurance            1091\n",
       "MotorValue                1091\n",
       "HealthInsurance           1091\n",
       "HealthDependentsAdults    1091\n",
       "HealthDependentsKids      1091\n",
       "TravelInsurance           1091\n",
       "AMEX                      1091\n",
       "Visa                      1091\n",
       "Bundle_Motor_Type         1091\n",
       "Single_Motor_Type         1091\n",
       "Health_Type_Level1        1091\n",
       "Health_Type_Level2        1091\n",
       "Health_Type_Level3        1091\n",
       "Travel_Type_Backpacker    1091\n",
       "Travel_Type_Business      1091\n",
       "Travel_Type_Premium       1091\n",
       "Travel_Type_Senior        1091\n",
       "Travel_Type_Standard      1091\n",
       "dtype: int64"
      ]
     },
     "execution_count": 158,
     "metadata": {},
     "output_type": "execute_result"
    }
   ],
   "source": [
    "ScoringData.count()"
   ]
  },
  {
   "cell_type": "code",
   "execution_count": 159,
   "metadata": {},
   "outputs": [
    {
     "data": {
      "text/plain": [
       "(0.0, 37555.5)"
      ]
     },
     "execution_count": 159,
     "metadata": {},
     "output_type": "execute_result"
    }
   ],
   "source": [
    "Q1 = np.percentile(ScoringData['MotorValue'], 10, \n",
    "                   interpolation = 'midpoint')\n",
    "\n",
    "Q3 = np.percentile(ScoringData['MotorValue'], 95, \n",
    "                   interpolation = 'midpoint')\n",
    "Q1,Q3"
   ]
  },
  {
   "cell_type": "code",
   "execution_count": 160,
   "metadata": {},
   "outputs": [],
   "source": [
    "ScoringData.drop(ScoringData[ScoringData['Age'] <= 15].index, inplace = True)\n",
    "ScoringData.drop(ScoringData[ScoringData['Age'] >= 70].index, inplace = True)\n",
    "\n",
    "ScoringData.drop(ScoringData[ScoringData['MotorValue'] <= -1].index, inplace = True)\n",
    "ScoringData.drop(ScoringData[ScoringData['MotorValue'] >= 37555.5].index, inplace = True)"
   ]
  },
  {
   "cell_type": "code",
   "execution_count": 161,
   "metadata": {},
   "outputs": [
    {
     "data": {
      "text/plain": [
       "CustomerID                1006\n",
       "Title                     1006\n",
       "GivenName                 1006\n",
       "MiddleInitial             1006\n",
       "Surname                   1006\n",
       "Gender                    1006\n",
       "Age                       1006\n",
       "Location                  1006\n",
       "MotorInsurance            1006\n",
       "MotorValue                1006\n",
       "HealthInsurance           1006\n",
       "HealthDependentsAdults    1006\n",
       "HealthDependentsKids      1006\n",
       "TravelInsurance           1006\n",
       "AMEX                      1006\n",
       "Visa                      1006\n",
       "Bundle_Motor_Type         1006\n",
       "Single_Motor_Type         1006\n",
       "Health_Type_Level1        1006\n",
       "Health_Type_Level2        1006\n",
       "Health_Type_Level3        1006\n",
       "Travel_Type_Backpacker    1006\n",
       "Travel_Type_Business      1006\n",
       "Travel_Type_Premium       1006\n",
       "Travel_Type_Senior        1006\n",
       "Travel_Type_Standard      1006\n",
       "dtype: int64"
      ]
     },
     "execution_count": 161,
     "metadata": {},
     "output_type": "execute_result"
    }
   ],
   "source": [
    "ScoringData.count()"
   ]
  },
  {
   "cell_type": "code",
   "execution_count": 162,
   "metadata": {},
   "outputs": [],
   "source": [
    "X_train = trainingData.drop(['CustomerID', 'Title', 'GivenName', 'MiddleInitial', 'Surname',\n",
    "       'Gender', 'Location', 'PrefChannel', 'AMEX', 'Visa',\n",
    "       'Bundle_Motor_Type', 'Health_Type_Level1', 'Travel_Type_Backpacker',\n",
    "       'Travel_Type_Business', 'Travel_Type_Premium', 'Travel_Type_Senior',\n",
    "       'Travel_Type_Standard'],axis = 1)"
   ]
  },
  {
   "cell_type": "code",
   "execution_count": 163,
   "metadata": {},
   "outputs": [],
   "source": [
    "Y_train = trainingData['PrefChannel']"
   ]
  },
  {
   "cell_type": "code",
   "execution_count": 164,
   "metadata": {},
   "outputs": [],
   "source": [
    "X_test = ScoringData.drop(['CustomerID', 'Title', 'GivenName', 'MiddleInitial', 'Surname',\n",
    "       'Gender', 'Location', 'AMEX', 'Visa',\n",
    "       'Bundle_Motor_Type', 'Health_Type_Level1', 'Travel_Type_Backpacker',\n",
    "       'Travel_Type_Business', 'Travel_Type_Premium', 'Travel_Type_Senior',\n",
    "       'Travel_Type_Standard'],axis = 1)"
   ]
  },
  {
   "cell_type": "code",
   "execution_count": 165,
   "metadata": {},
   "outputs": [
    {
     "data": {
      "text/html": [
       "<div>\n",
       "<style scoped>\n",
       "    .dataframe tbody tr th:only-of-type {\n",
       "        vertical-align: middle;\n",
       "    }\n",
       "\n",
       "    .dataframe tbody tr th {\n",
       "        vertical-align: top;\n",
       "    }\n",
       "\n",
       "    .dataframe thead th {\n",
       "        text-align: right;\n",
       "    }\n",
       "</style>\n",
       "<table border=\"1\" class=\"dataframe\">\n",
       "  <thead>\n",
       "    <tr style=\"text-align: right;\">\n",
       "      <th></th>\n",
       "      <th>Age</th>\n",
       "      <th>MotorInsurance</th>\n",
       "      <th>MotorValue</th>\n",
       "      <th>HealthInsurance</th>\n",
       "      <th>HealthDependentsAdults</th>\n",
       "      <th>HealthDependentsKids</th>\n",
       "      <th>TravelInsurance</th>\n",
       "      <th>Single_Motor_Type</th>\n",
       "      <th>Health_Type_Level2</th>\n",
       "      <th>Health_Type_Level3</th>\n",
       "    </tr>\n",
       "  </thead>\n",
       "  <tbody>\n",
       "    <tr>\n",
       "      <th>0</th>\n",
       "      <td>52</td>\n",
       "      <td>1</td>\n",
       "      <td>17274</td>\n",
       "      <td>0</td>\n",
       "      <td>0.0</td>\n",
       "      <td>0.0</td>\n",
       "      <td>0</td>\n",
       "      <td>1</td>\n",
       "      <td>0</td>\n",
       "      <td>0</td>\n",
       "    </tr>\n",
       "    <tr>\n",
       "      <th>1</th>\n",
       "      <td>49</td>\n",
       "      <td>1</td>\n",
       "      <td>11735</td>\n",
       "      <td>1</td>\n",
       "      <td>2.0</td>\n",
       "      <td>3.0</td>\n",
       "      <td>1</td>\n",
       "      <td>1</td>\n",
       "      <td>0</td>\n",
       "      <td>0</td>\n",
       "    </tr>\n",
       "    <tr>\n",
       "      <th>2</th>\n",
       "      <td>18</td>\n",
       "      <td>1</td>\n",
       "      <td>4884</td>\n",
       "      <td>0</td>\n",
       "      <td>0.0</td>\n",
       "      <td>0.0</td>\n",
       "      <td>1</td>\n",
       "      <td>0</td>\n",
       "      <td>0</td>\n",
       "      <td>0</td>\n",
       "    </tr>\n",
       "    <tr>\n",
       "      <th>3</th>\n",
       "      <td>48</td>\n",
       "      <td>1</td>\n",
       "      <td>13879</td>\n",
       "      <td>1</td>\n",
       "      <td>1.0</td>\n",
       "      <td>3.0</td>\n",
       "      <td>0</td>\n",
       "      <td>1</td>\n",
       "      <td>0</td>\n",
       "      <td>0</td>\n",
       "    </tr>\n",
       "    <tr>\n",
       "      <th>4</th>\n",
       "      <td>49</td>\n",
       "      <td>1</td>\n",
       "      <td>17294</td>\n",
       "      <td>1</td>\n",
       "      <td>1.0</td>\n",
       "      <td>3.0</td>\n",
       "      <td>1</td>\n",
       "      <td>1</td>\n",
       "      <td>1</td>\n",
       "      <td>0</td>\n",
       "    </tr>\n",
       "    <tr>\n",
       "      <th>...</th>\n",
       "      <td>...</td>\n",
       "      <td>...</td>\n",
       "      <td>...</td>\n",
       "      <td>...</td>\n",
       "      <td>...</td>\n",
       "      <td>...</td>\n",
       "      <td>...</td>\n",
       "      <td>...</td>\n",
       "      <td>...</td>\n",
       "      <td>...</td>\n",
       "    </tr>\n",
       "    <tr>\n",
       "      <th>1086</th>\n",
       "      <td>18</td>\n",
       "      <td>1</td>\n",
       "      <td>30271</td>\n",
       "      <td>0</td>\n",
       "      <td>0.0</td>\n",
       "      <td>0.0</td>\n",
       "      <td>1</td>\n",
       "      <td>0</td>\n",
       "      <td>0</td>\n",
       "      <td>0</td>\n",
       "    </tr>\n",
       "    <tr>\n",
       "      <th>1087</th>\n",
       "      <td>51</td>\n",
       "      <td>1</td>\n",
       "      <td>10999</td>\n",
       "      <td>1</td>\n",
       "      <td>0.0</td>\n",
       "      <td>3.0</td>\n",
       "      <td>1</td>\n",
       "      <td>1</td>\n",
       "      <td>0</td>\n",
       "      <td>0</td>\n",
       "    </tr>\n",
       "    <tr>\n",
       "      <th>1088</th>\n",
       "      <td>52</td>\n",
       "      <td>1</td>\n",
       "      <td>16622</td>\n",
       "      <td>1</td>\n",
       "      <td>0.0</td>\n",
       "      <td>2.0</td>\n",
       "      <td>0</td>\n",
       "      <td>1</td>\n",
       "      <td>1</td>\n",
       "      <td>0</td>\n",
       "    </tr>\n",
       "    <tr>\n",
       "      <th>1089</th>\n",
       "      <td>47</td>\n",
       "      <td>1</td>\n",
       "      <td>11277</td>\n",
       "      <td>0</td>\n",
       "      <td>0.0</td>\n",
       "      <td>0.0</td>\n",
       "      <td>0</td>\n",
       "      <td>1</td>\n",
       "      <td>0</td>\n",
       "      <td>0</td>\n",
       "    </tr>\n",
       "    <tr>\n",
       "      <th>1090</th>\n",
       "      <td>50</td>\n",
       "      <td>1</td>\n",
       "      <td>32673</td>\n",
       "      <td>1</td>\n",
       "      <td>2.0</td>\n",
       "      <td>2.0</td>\n",
       "      <td>0</td>\n",
       "      <td>1</td>\n",
       "      <td>0</td>\n",
       "      <td>1</td>\n",
       "    </tr>\n",
       "  </tbody>\n",
       "</table>\n",
       "<p>1006 rows × 10 columns</p>\n",
       "</div>"
      ],
      "text/plain": [
       "      Age  MotorInsurance  MotorValue  HealthInsurance  \\\n",
       "0      52               1       17274                0   \n",
       "1      49               1       11735                1   \n",
       "2      18               1        4884                0   \n",
       "3      48               1       13879                1   \n",
       "4      49               1       17294                1   \n",
       "...   ...             ...         ...              ...   \n",
       "1086   18               1       30271                0   \n",
       "1087   51               1       10999                1   \n",
       "1088   52               1       16622                1   \n",
       "1089   47               1       11277                0   \n",
       "1090   50               1       32673                1   \n",
       "\n",
       "      HealthDependentsAdults  HealthDependentsKids  TravelInsurance  \\\n",
       "0                        0.0                   0.0                0   \n",
       "1                        2.0                   3.0                1   \n",
       "2                        0.0                   0.0                1   \n",
       "3                        1.0                   3.0                0   \n",
       "4                        1.0                   3.0                1   \n",
       "...                      ...                   ...              ...   \n",
       "1086                     0.0                   0.0                1   \n",
       "1087                     0.0                   3.0                1   \n",
       "1088                     0.0                   2.0                0   \n",
       "1089                     0.0                   0.0                0   \n",
       "1090                     2.0                   2.0                0   \n",
       "\n",
       "      Single_Motor_Type  Health_Type_Level2  Health_Type_Level3  \n",
       "0                     1                   0                   0  \n",
       "1                     1                   0                   0  \n",
       "2                     0                   0                   0  \n",
       "3                     1                   0                   0  \n",
       "4                     1                   1                   0  \n",
       "...                 ...                 ...                 ...  \n",
       "1086                  0                   0                   0  \n",
       "1087                  1                   0                   0  \n",
       "1088                  1                   1                   0  \n",
       "1089                  1                   0                   0  \n",
       "1090                  1                   0                   1  \n",
       "\n",
       "[1006 rows x 10 columns]"
      ]
     },
     "execution_count": 165,
     "metadata": {},
     "output_type": "execute_result"
    }
   ],
   "source": [
    "X_test"
   ]
  },
  {
   "cell_type": "code",
   "execution_count": null,
   "metadata": {},
   "outputs": [],
   "source": []
  },
  {
   "cell_type": "code",
   "execution_count": 166,
   "metadata": {},
   "outputs": [
    {
     "data": {
      "text/plain": [
       "array([2, 2, 3, ..., 2, 2, 1], dtype=int64)"
      ]
     },
     "execution_count": 166,
     "metadata": {},
     "output_type": "execute_result"
    }
   ],
   "source": [
    "#Decision Tree\n",
    "DTE5 = DecisionTreeClassifier(criterion = \"gini\", random_state = 100,max_depth=3, min_samples_leaf=5)\n",
    "DTE5.fit(X_train,Y_train)\n",
    "y_test = DTE5.predict(X_test)\n",
    "y_test"
   ]
  },
  {
   "cell_type": "code",
   "execution_count": 167,
   "metadata": {},
   "outputs": [],
   "source": [
    "# my_submission = pd.DataFrame({'Id': ScoringData.CustomerID, 'PrefChannel': y_predDF})\n",
    "# my_submission.to_csv('Assignment_Submission_DTEE.csv', index=False)"
   ]
  },
  {
   "cell_type": "code",
   "execution_count": 168,
   "metadata": {},
   "outputs": [],
   "source": [
    "dataframe=pd.DataFrame(y_test, columns=['a']) "
   ]
  },
  {
   "cell_type": "code",
   "execution_count": 169,
   "metadata": {},
   "outputs": [
    {
     "data": {
      "text/html": [
       "<div>\n",
       "<style scoped>\n",
       "    .dataframe tbody tr th:only-of-type {\n",
       "        vertical-align: middle;\n",
       "    }\n",
       "\n",
       "    .dataframe tbody tr th {\n",
       "        vertical-align: top;\n",
       "    }\n",
       "\n",
       "    .dataframe thead th {\n",
       "        text-align: right;\n",
       "    }\n",
       "</style>\n",
       "<table border=\"1\" class=\"dataframe\">\n",
       "  <thead>\n",
       "    <tr style=\"text-align: right;\">\n",
       "      <th></th>\n",
       "      <th>a</th>\n",
       "    </tr>\n",
       "  </thead>\n",
       "  <tbody>\n",
       "    <tr>\n",
       "      <th>0</th>\n",
       "      <td>2</td>\n",
       "    </tr>\n",
       "    <tr>\n",
       "      <th>1</th>\n",
       "      <td>2</td>\n",
       "    </tr>\n",
       "    <tr>\n",
       "      <th>2</th>\n",
       "      <td>3</td>\n",
       "    </tr>\n",
       "    <tr>\n",
       "      <th>3</th>\n",
       "      <td>2</td>\n",
       "    </tr>\n",
       "    <tr>\n",
       "      <th>4</th>\n",
       "      <td>2</td>\n",
       "    </tr>\n",
       "    <tr>\n",
       "      <th>...</th>\n",
       "      <td>...</td>\n",
       "    </tr>\n",
       "    <tr>\n",
       "      <th>1001</th>\n",
       "      <td>1</td>\n",
       "    </tr>\n",
       "    <tr>\n",
       "      <th>1002</th>\n",
       "      <td>2</td>\n",
       "    </tr>\n",
       "    <tr>\n",
       "      <th>1003</th>\n",
       "      <td>2</td>\n",
       "    </tr>\n",
       "    <tr>\n",
       "      <th>1004</th>\n",
       "      <td>2</td>\n",
       "    </tr>\n",
       "    <tr>\n",
       "      <th>1005</th>\n",
       "      <td>1</td>\n",
       "    </tr>\n",
       "  </tbody>\n",
       "</table>\n",
       "<p>1006 rows × 1 columns</p>\n",
       "</div>"
      ],
      "text/plain": [
       "      a\n",
       "0     2\n",
       "1     2\n",
       "2     3\n",
       "3     2\n",
       "4     2\n",
       "...  ..\n",
       "1001  1\n",
       "1002  2\n",
       "1003  2\n",
       "1004  2\n",
       "1005  1\n",
       "\n",
       "[1006 rows x 1 columns]"
      ]
     },
     "execution_count": 169,
     "metadata": {},
     "output_type": "execute_result"
    }
   ],
   "source": [
    "dataframe"
   ]
  },
  {
   "cell_type": "code",
   "execution_count": 170,
   "metadata": {},
   "outputs": [],
   "source": [
    "dataframe['a'] = dataframe['a'].replace([1],'Email')\n",
    "dataframe['a'] = dataframe['a'].replace([2],'Phone')\n",
    "dataframe['a'] = dataframe['a'].replace([3],'SMS')"
   ]
  },
  {
   "cell_type": "code",
   "execution_count": 171,
   "metadata": {},
   "outputs": [
    {
     "data": {
      "text/html": [
       "<div>\n",
       "<style scoped>\n",
       "    .dataframe tbody tr th:only-of-type {\n",
       "        vertical-align: middle;\n",
       "    }\n",
       "\n",
       "    .dataframe tbody tr th {\n",
       "        vertical-align: top;\n",
       "    }\n",
       "\n",
       "    .dataframe thead th {\n",
       "        text-align: right;\n",
       "    }\n",
       "</style>\n",
       "<table border=\"1\" class=\"dataframe\">\n",
       "  <thead>\n",
       "    <tr style=\"text-align: right;\">\n",
       "      <th></th>\n",
       "      <th>a</th>\n",
       "    </tr>\n",
       "  </thead>\n",
       "  <tbody>\n",
       "    <tr>\n",
       "      <th>0</th>\n",
       "      <td>Phone</td>\n",
       "    </tr>\n",
       "    <tr>\n",
       "      <th>1</th>\n",
       "      <td>Phone</td>\n",
       "    </tr>\n",
       "    <tr>\n",
       "      <th>2</th>\n",
       "      <td>SMS</td>\n",
       "    </tr>\n",
       "    <tr>\n",
       "      <th>3</th>\n",
       "      <td>Phone</td>\n",
       "    </tr>\n",
       "    <tr>\n",
       "      <th>4</th>\n",
       "      <td>Phone</td>\n",
       "    </tr>\n",
       "    <tr>\n",
       "      <th>...</th>\n",
       "      <td>...</td>\n",
       "    </tr>\n",
       "    <tr>\n",
       "      <th>1001</th>\n",
       "      <td>Email</td>\n",
       "    </tr>\n",
       "    <tr>\n",
       "      <th>1002</th>\n",
       "      <td>Phone</td>\n",
       "    </tr>\n",
       "    <tr>\n",
       "      <th>1003</th>\n",
       "      <td>Phone</td>\n",
       "    </tr>\n",
       "    <tr>\n",
       "      <th>1004</th>\n",
       "      <td>Phone</td>\n",
       "    </tr>\n",
       "    <tr>\n",
       "      <th>1005</th>\n",
       "      <td>Email</td>\n",
       "    </tr>\n",
       "  </tbody>\n",
       "</table>\n",
       "<p>1006 rows × 1 columns</p>\n",
       "</div>"
      ],
      "text/plain": [
       "          a\n",
       "0     Phone\n",
       "1     Phone\n",
       "2       SMS\n",
       "3     Phone\n",
       "4     Phone\n",
       "...     ...\n",
       "1001  Email\n",
       "1002  Phone\n",
       "1003  Phone\n",
       "1004  Phone\n",
       "1005  Email\n",
       "\n",
       "[1006 rows x 1 columns]"
      ]
     },
     "execution_count": 171,
     "metadata": {},
     "output_type": "execute_result"
    }
   ],
   "source": [
    "dataframe"
   ]
  },
  {
   "cell_type": "code",
   "execution_count": 172,
   "metadata": {},
   "outputs": [],
   "source": [
    "dataframe = dataframe.to_numpy()"
   ]
  },
  {
   "cell_type": "code",
   "execution_count": 173,
   "metadata": {},
   "outputs": [],
   "source": [
    "dataframe = dataframe.ravel()"
   ]
  },
  {
   "cell_type": "code",
   "execution_count": 174,
   "metadata": {},
   "outputs": [
    {
     "data": {
      "text/plain": [
       "array(['Phone', 'Phone', 'SMS', ..., 'Phone', 'Phone', 'Email'],\n",
       "      dtype=object)"
      ]
     },
     "execution_count": 174,
     "metadata": {},
     "output_type": "execute_result"
    }
   ],
   "source": [
    "dataframe"
   ]
  },
  {
   "cell_type": "code",
   "execution_count": 175,
   "metadata": {},
   "outputs": [
    {
     "data": {
      "text/html": [
       "<div>\n",
       "<style scoped>\n",
       "    .dataframe tbody tr th:only-of-type {\n",
       "        vertical-align: middle;\n",
       "    }\n",
       "\n",
       "    .dataframe tbody tr th {\n",
       "        vertical-align: top;\n",
       "    }\n",
       "\n",
       "    .dataframe thead th {\n",
       "        text-align: right;\n",
       "    }\n",
       "</style>\n",
       "<table border=\"1\" class=\"dataframe\">\n",
       "  <thead>\n",
       "    <tr style=\"text-align: right;\">\n",
       "      <th></th>\n",
       "      <th>a</th>\n",
       "    </tr>\n",
       "  </thead>\n",
       "  <tbody>\n",
       "    <tr>\n",
       "      <th>0</th>\n",
       "      <td>2</td>\n",
       "    </tr>\n",
       "    <tr>\n",
       "      <th>1</th>\n",
       "      <td>2</td>\n",
       "    </tr>\n",
       "    <tr>\n",
       "      <th>2</th>\n",
       "      <td>3</td>\n",
       "    </tr>\n",
       "    <tr>\n",
       "      <th>3</th>\n",
       "      <td>2</td>\n",
       "    </tr>\n",
       "    <tr>\n",
       "      <th>4</th>\n",
       "      <td>2</td>\n",
       "    </tr>\n",
       "    <tr>\n",
       "      <th>...</th>\n",
       "      <td>...</td>\n",
       "    </tr>\n",
       "    <tr>\n",
       "      <th>1001</th>\n",
       "      <td>1</td>\n",
       "    </tr>\n",
       "    <tr>\n",
       "      <th>1002</th>\n",
       "      <td>2</td>\n",
       "    </tr>\n",
       "    <tr>\n",
       "      <th>1003</th>\n",
       "      <td>2</td>\n",
       "    </tr>\n",
       "    <tr>\n",
       "      <th>1004</th>\n",
       "      <td>2</td>\n",
       "    </tr>\n",
       "    <tr>\n",
       "      <th>1005</th>\n",
       "      <td>1</td>\n",
       "    </tr>\n",
       "  </tbody>\n",
       "</table>\n",
       "<p>1006 rows × 1 columns</p>\n",
       "</div>"
      ],
      "text/plain": [
       "      a\n",
       "0     2\n",
       "1     2\n",
       "2     3\n",
       "3     2\n",
       "4     2\n",
       "...  ..\n",
       "1001  1\n",
       "1002  2\n",
       "1003  2\n",
       "1004  2\n",
       "1005  1\n",
       "\n",
       "[1006 rows x 1 columns]"
      ]
     },
     "execution_count": 175,
     "metadata": {},
     "output_type": "execute_result"
    }
   ],
   "source": [
    "y_test11=pd.DataFrame(y_test, columns=['a']) \n",
    "y_test11"
   ]
  },
  {
   "cell_type": "code",
   "execution_count": 176,
   "metadata": {},
   "outputs": [],
   "source": [
    "my_submission = pd.DataFrame({'Id': ScoringData.CustomerID, 'PrefChannel': dataframe})\n",
    "my_submission.to_csv('Assignment_Submission_DTEE1.csv', index=False)"
   ]
  },
  {
   "cell_type": "code",
   "execution_count": 177,
   "metadata": {},
   "outputs": [],
   "source": [
    "log_model = LogisticRegression()\n",
    "log_model.fit(X_train,Y_train)\n",
    "Y_test = log_model.predict(X_test)\n",
    "Y_test\n",
    "my_submission = pd.DataFrame({'Id': ScoringData.CustomerID, 'PrefChannel': Y_test})\n",
    "my_submission.to_csv('Assignment_Submission_DTEE.csv', index=False)"
   ]
  },
  {
   "cell_type": "code",
   "execution_count": 178,
   "metadata": {},
   "outputs": [
    {
     "data": {
      "text/html": [
       "<div>\n",
       "<style scoped>\n",
       "    .dataframe tbody tr th:only-of-type {\n",
       "        vertical-align: middle;\n",
       "    }\n",
       "\n",
       "    .dataframe tbody tr th {\n",
       "        vertical-align: top;\n",
       "    }\n",
       "\n",
       "    .dataframe thead th {\n",
       "        text-align: right;\n",
       "    }\n",
       "</style>\n",
       "<table border=\"1\" class=\"dataframe\">\n",
       "  <thead>\n",
       "    <tr style=\"text-align: right;\">\n",
       "      <th></th>\n",
       "      <th>Age</th>\n",
       "      <th>MotorInsurance</th>\n",
       "      <th>MotorValue</th>\n",
       "      <th>HealthInsurance</th>\n",
       "      <th>HealthDependentsAdults</th>\n",
       "      <th>HealthDependentsKids</th>\n",
       "      <th>TravelInsurance</th>\n",
       "      <th>Single_Motor_Type</th>\n",
       "      <th>Health_Type_Level2</th>\n",
       "      <th>Health_Type_Level3</th>\n",
       "    </tr>\n",
       "  </thead>\n",
       "  <tbody>\n",
       "    <tr>\n",
       "      <th>3757</th>\n",
       "      <td>48</td>\n",
       "      <td>1</td>\n",
       "      <td>30854</td>\n",
       "      <td>1</td>\n",
       "      <td>1.0</td>\n",
       "      <td>3.0</td>\n",
       "      <td>1</td>\n",
       "      <td>1</td>\n",
       "      <td>0</td>\n",
       "      <td>1</td>\n",
       "    </tr>\n",
       "    <tr>\n",
       "      <th>1041</th>\n",
       "      <td>46</td>\n",
       "      <td>1</td>\n",
       "      <td>18117</td>\n",
       "      <td>1</td>\n",
       "      <td>1.0</td>\n",
       "      <td>3.0</td>\n",
       "      <td>0</td>\n",
       "      <td>1</td>\n",
       "      <td>1</td>\n",
       "      <td>0</td>\n",
       "    </tr>\n",
       "    <tr>\n",
       "      <th>9</th>\n",
       "      <td>49</td>\n",
       "      <td>1</td>\n",
       "      <td>23666</td>\n",
       "      <td>1</td>\n",
       "      <td>2.0</td>\n",
       "      <td>2.0</td>\n",
       "      <td>0</td>\n",
       "      <td>1</td>\n",
       "      <td>1</td>\n",
       "      <td>0</td>\n",
       "    </tr>\n",
       "    <tr>\n",
       "      <th>2659</th>\n",
       "      <td>20</td>\n",
       "      <td>1</td>\n",
       "      <td>19955</td>\n",
       "      <td>0</td>\n",
       "      <td>0.0</td>\n",
       "      <td>0.0</td>\n",
       "      <td>1</td>\n",
       "      <td>0</td>\n",
       "      <td>0</td>\n",
       "      <td>0</td>\n",
       "    </tr>\n",
       "    <tr>\n",
       "      <th>2084</th>\n",
       "      <td>56</td>\n",
       "      <td>0</td>\n",
       "      <td>0</td>\n",
       "      <td>1</td>\n",
       "      <td>0.0</td>\n",
       "      <td>2.0</td>\n",
       "      <td>0</td>\n",
       "      <td>0</td>\n",
       "      <td>1</td>\n",
       "      <td>0</td>\n",
       "    </tr>\n",
       "    <tr>\n",
       "      <th>...</th>\n",
       "      <td>...</td>\n",
       "      <td>...</td>\n",
       "      <td>...</td>\n",
       "      <td>...</td>\n",
       "      <td>...</td>\n",
       "      <td>...</td>\n",
       "      <td>...</td>\n",
       "      <td>...</td>\n",
       "      <td>...</td>\n",
       "      <td>...</td>\n",
       "    </tr>\n",
       "    <tr>\n",
       "      <th>210</th>\n",
       "      <td>18</td>\n",
       "      <td>1</td>\n",
       "      <td>26990</td>\n",
       "      <td>1</td>\n",
       "      <td>1.0</td>\n",
       "      <td>0.0</td>\n",
       "      <td>0</td>\n",
       "      <td>0</td>\n",
       "      <td>0</td>\n",
       "      <td>0</td>\n",
       "    </tr>\n",
       "    <tr>\n",
       "      <th>425</th>\n",
       "      <td>47</td>\n",
       "      <td>1</td>\n",
       "      <td>12008</td>\n",
       "      <td>1</td>\n",
       "      <td>2.0</td>\n",
       "      <td>2.0</td>\n",
       "      <td>0</td>\n",
       "      <td>1</td>\n",
       "      <td>1</td>\n",
       "      <td>0</td>\n",
       "    </tr>\n",
       "    <tr>\n",
       "      <th>2374</th>\n",
       "      <td>44</td>\n",
       "      <td>1</td>\n",
       "      <td>12767</td>\n",
       "      <td>0</td>\n",
       "      <td>0.0</td>\n",
       "      <td>0.0</td>\n",
       "      <td>0</td>\n",
       "      <td>1</td>\n",
       "      <td>0</td>\n",
       "      <td>0</td>\n",
       "    </tr>\n",
       "    <tr>\n",
       "      <th>2087</th>\n",
       "      <td>45</td>\n",
       "      <td>1</td>\n",
       "      <td>13809</td>\n",
       "      <td>1</td>\n",
       "      <td>1.0</td>\n",
       "      <td>2.0</td>\n",
       "      <td>0</td>\n",
       "      <td>1</td>\n",
       "      <td>1</td>\n",
       "      <td>0</td>\n",
       "    </tr>\n",
       "    <tr>\n",
       "      <th>1960</th>\n",
       "      <td>65</td>\n",
       "      <td>1</td>\n",
       "      <td>31740</td>\n",
       "      <td>1</td>\n",
       "      <td>0.0</td>\n",
       "      <td>0.0</td>\n",
       "      <td>1</td>\n",
       "      <td>1</td>\n",
       "      <td>0</td>\n",
       "      <td>1</td>\n",
       "    </tr>\n",
       "  </tbody>\n",
       "</table>\n",
       "<p>749 rows × 10 columns</p>\n",
       "</div>"
      ],
      "text/plain": [
       "      Age  MotorInsurance  MotorValue  HealthInsurance  \\\n",
       "3757   48               1       30854                1   \n",
       "1041   46               1       18117                1   \n",
       "9      49               1       23666                1   \n",
       "2659   20               1       19955                0   \n",
       "2084   56               0           0                1   \n",
       "...   ...             ...         ...              ...   \n",
       "210    18               1       26990                1   \n",
       "425    47               1       12008                1   \n",
       "2374   44               1       12767                0   \n",
       "2087   45               1       13809                1   \n",
       "1960   65               1       31740                1   \n",
       "\n",
       "      HealthDependentsAdults  HealthDependentsKids  TravelInsurance  \\\n",
       "3757                     1.0                   3.0                1   \n",
       "1041                     1.0                   3.0                0   \n",
       "9                        2.0                   2.0                0   \n",
       "2659                     0.0                   0.0                1   \n",
       "2084                     0.0                   2.0                0   \n",
       "...                      ...                   ...              ...   \n",
       "210                      1.0                   0.0                0   \n",
       "425                      2.0                   2.0                0   \n",
       "2374                     0.0                   0.0                0   \n",
       "2087                     1.0                   2.0                0   \n",
       "1960                     0.0                   0.0                1   \n",
       "\n",
       "      Single_Motor_Type  Health_Type_Level2  Health_Type_Level3  \n",
       "3757                  1                   0                   1  \n",
       "1041                  1                   1                   0  \n",
       "9                     1                   1                   0  \n",
       "2659                  0                   0                   0  \n",
       "2084                  0                   1                   0  \n",
       "...                 ...                 ...                 ...  \n",
       "210                   0                   0                   0  \n",
       "425                   1                   1                   0  \n",
       "2374                  1                   0                   0  \n",
       "2087                  1                   1                   0  \n",
       "1960                  1                   0                   1  \n",
       "\n",
       "[749 rows x 10 columns]"
      ]
     },
     "execution_count": 178,
     "metadata": {},
     "output_type": "execute_result"
    }
   ],
   "source": [
    "X_train_mod, X_test_mod, Y_train_mod, Y_test_mod = train_test_split(X_train, Y_train, test_size=0.20)\n",
    "X_test_mod"
   ]
  },
  {
   "cell_type": "code",
   "execution_count": 179,
   "metadata": {},
   "outputs": [
    {
     "data": {
      "text/plain": [
       "array([[-1.25545254,  0.47798112, -1.06603537, ..., -1.08179936,\n",
       "        -0.65335284, -0.40274572],\n",
       "       [ 0.68369831,  0.47798112,  1.01602108, ...,  0.92438583,\n",
       "        -0.65335284, -0.40274572],\n",
       "       [-0.92111619,  0.47798112,  0.48886295, ..., -1.08179936,\n",
       "        -0.65335284, -0.40274572],\n",
       "       ...,\n",
       "       [ 0.21562741,  0.47798112, -0.00497593, ...,  0.92438583,\n",
       "        -0.65335284, -0.40274572],\n",
       "       [ 0.28249468, -2.09213282, -1.43413375, ..., -1.08179936,\n",
       "        -0.65335284, -0.40274572],\n",
       "       [ 0.54996377,  0.47798112,  1.41101285, ...,  0.92438583,\n",
       "         1.53056654, -0.40274572]])"
      ]
     },
     "execution_count": 179,
     "metadata": {},
     "output_type": "execute_result"
    }
   ],
   "source": [
    "scaler = StandardScaler()\n",
    "scaler.fit(X_train_mod)\n",
    "\n",
    "X_train_mod = scaler.transform(X_train_mod)\n",
    "X_test_mod = scaler.transform(X_test_mod)\n",
    "X_train_mod"
   ]
  },
  {
   "cell_type": "code",
   "execution_count": 180,
   "metadata": {},
   "outputs": [],
   "source": [
    "DT = DecisionTreeClassifier(criterion = \"gini\", random_state = 100,max_depth=3, min_samples_leaf=5)"
   ]
  },
  {
   "cell_type": "code",
   "execution_count": 181,
   "metadata": {},
   "outputs": [
    {
     "data": {
      "text/plain": [
       "DecisionTreeClassifier(max_depth=3, min_samples_leaf=5, random_state=100)"
      ]
     },
     "execution_count": 181,
     "metadata": {},
     "output_type": "execute_result"
    }
   ],
   "source": [
    "DT.fit(X_train_mod, Y_train_mod)"
   ]
  },
  {
   "cell_type": "code",
   "execution_count": 182,
   "metadata": {},
   "outputs": [],
   "source": [
    "Y_pred = DT.predict(X_test_mod)"
   ]
  },
  {
   "cell_type": "code",
   "execution_count": 183,
   "metadata": {},
   "outputs": [],
   "source": [
    "Predicted = DT.predict(X_test)"
   ]
  },
  {
   "cell_type": "code",
   "execution_count": 184,
   "metadata": {},
   "outputs": [
    {
     "name": "stdout",
     "output_type": "stream",
     "text": [
      "Your submission was successfully saved!\n"
     ]
    }
   ],
   "source": [
    "output = pd.DataFrame({'Customer Id': ScoringData.CustomerID, 'PrefChannel': Predicted})\n",
    "output.to_csv('my_submissiondtree_.csv', index=False)\n",
    "print(\"Your submission was successfully saved!\")"
   ]
  },
  {
   "cell_type": "code",
   "execution_count": 185,
   "metadata": {},
   "outputs": [],
   "source": [
    "#CLUSTERING"
   ]
  },
  {
   "cell_type": "code",
   "execution_count": 186,
   "metadata": {},
   "outputs": [
    {
     "name": "stdout",
     "output_type": "stream",
     "text": [
      "<class 'pandas.core.frame.DataFrame'>\n",
      "Int64Index: 1006 entries, 0 to 1090\n",
      "Data columns (total 26 columns):\n",
      " #   Column                  Non-Null Count  Dtype  \n",
      "---  ------                  --------------  -----  \n",
      " 0   CustomerID              1006 non-null   int64  \n",
      " 1   Title                   1006 non-null   object \n",
      " 2   GivenName               1006 non-null   object \n",
      " 3   MiddleInitial           1006 non-null   object \n",
      " 4   Surname                 1006 non-null   object \n",
      " 5   Gender                  1006 non-null   int64  \n",
      " 6   Age                     1006 non-null   int64  \n",
      " 7   Location                1006 non-null   int64  \n",
      " 8   MotorInsurance          1006 non-null   int64  \n",
      " 9   MotorValue              1006 non-null   int32  \n",
      " 10  HealthInsurance         1006 non-null   int64  \n",
      " 11  HealthDependentsAdults  1006 non-null   float64\n",
      " 12  HealthDependentsKids    1006 non-null   float64\n",
      " 13  TravelInsurance         1006 non-null   int64  \n",
      " 14  AMEX                    1006 non-null   uint8  \n",
      " 15  Visa                    1006 non-null   uint8  \n",
      " 16  Bundle_Motor_Type       1006 non-null   uint8  \n",
      " 17  Single_Motor_Type       1006 non-null   uint8  \n",
      " 18  Health_Type_Level1      1006 non-null   uint8  \n",
      " 19  Health_Type_Level2      1006 non-null   uint8  \n",
      " 20  Health_Type_Level3      1006 non-null   uint8  \n",
      " 21  Travel_Type_Backpacker  1006 non-null   uint8  \n",
      " 22  Travel_Type_Business    1006 non-null   uint8  \n",
      " 23  Travel_Type_Premium     1006 non-null   uint8  \n",
      " 24  Travel_Type_Senior      1006 non-null   uint8  \n",
      " 25  Travel_Type_Standard    1006 non-null   uint8  \n",
      "dtypes: float64(2), int32(1), int64(7), object(4), uint8(12)\n",
      "memory usage: 125.8+ KB\n"
     ]
    }
   ],
   "source": [
    "ScoringData.info()"
   ]
  },
  {
   "cell_type": "code",
   "execution_count": 187,
   "metadata": {},
   "outputs": [
    {
     "data": {
      "text/plain": [
       "array([[   52, 17274],\n",
       "       [   49, 11735],\n",
       "       [   18,  4884],\n",
       "       ...,\n",
       "       [   52, 16622],\n",
       "       [   47, 11277],\n",
       "       [   50, 32673]], dtype=int64)"
      ]
     },
     "execution_count": 187,
     "metadata": {},
     "output_type": "execute_result"
    }
   ],
   "source": [
    "x_ = ScoringData.iloc[:, [6,9]].values #Motor insurance/Motor Value/ Motor Type\n",
    "x_"
   ]
  },
  {
   "cell_type": "code",
   "execution_count": 188,
   "metadata": {},
   "outputs": [
    {
     "data": {
      "image/png": "[encoded data removed]",
      "text/plain": [
       "<Figure size 576x576 with 1 Axes>"
      ]
     },
     "metadata": {},
     "output_type": "display_data"
    }
   ],
   "source": [
    "wcss = []\n",
    "\n",
    "for i in range(1, 11):\n",
    "    kmeans = KMeans(n_clusters = i, init = 'k-means++', max_iter = 300, n_init = 10, random_state = 0)\n",
    "    kmeans.fit(x_)\n",
    "    wcss.append(kmeans.inertia_)\n",
    "\n",
    "plt.figure(figsize =(8,8))\n",
    "plt.plot(range(1, 11), wcss)\n",
    "plt.title('The elbow method')\n",
    "plt.xlabel('Number of clusters')\n",
    "plt.ylabel('WCSS') #within cluster sum of squares\n",
    "plt.show()\n"
   ]
  },
  {
   "cell_type": "code",
   "execution_count": 189,
   "metadata": {},
   "outputs": [
    {
     "name": "stdout",
     "output_type": "stream",
     "text": [
      "[37.9        31.94117647 48.76041667 47.22966507 39.03267974]\n"
     ]
    },
    {
     "data": {
      "image/png": "[encoded data removed]",
      "text/plain": [
       "<Figure size 1152x288 with 1 Axes>"
      ]
     },
     "metadata": {},
     "output_type": "display_data"
    }
   ],
   "source": [
    "#Applying kmeans to the dataset / Creating the kmeans classifier\n",
    "kmeans = KMeans(n_clusters = 5, init = 'k-means++', max_iter = 300, n_init = 10)\n",
    "y_kmeans_ = kmeans.fit_predict(x_)\n",
    "x_\n",
    "df1 = pd.DataFrame(x_, columns = ['Age', 'MotorValue'])\n",
    "df1['Cluster'] = pd.DataFrame(y_kmeans_)\n",
    "\n",
    "plt.figure(figsize=(16, 4))\n",
    "plt.scatter(x_[y_kmeans_ == 0, 0], x_[y_kmeans_ == 0, 1], s = 100, c = 'red', label = 'Cluster 1')\n",
    "plt.scatter(x_[y_kmeans_ == 1, 0], x_[y_kmeans_ == 1, 1], s = 100, c = 'blue', label = 'Cluster 2')\n",
    "plt.scatter(x_[y_kmeans_ == 2, 0], x_[y_kmeans_ == 2, 1], s = 100, c = 'green', label = 'Cluster 3')\n",
    "plt.scatter(x_[y_kmeans_ == 3, 0], x_[y_kmeans_ == 3, 1], s = 100, c = 'orange', label = 'Cluster 4')\n",
    "plt.scatter(x_[y_kmeans_ == 4, 0], x_[y_kmeans_ == 4, 1], s = 100, c = 'brown', label = 'Cluster 5')\n",
    "plt.xlabel('Age')\n",
    "plt.ylabel('MotorValue')\n",
    "plt.scatter(kmeans.cluster_centers_[:, 0], kmeans.cluster_centers_[:,1], s = 100, c = 'yellow', label = 'Centroids')\n",
    "\n",
    "plt.legend()\n",
    "print(kmeans.cluster_centers_[:,0])\n"
   ]
  },
  {
   "cell_type": "code",
   "execution_count": 190,
   "metadata": {},
   "outputs": [],
   "source": [
    "writer = ExcelWriter('FINALscoringDatasetClustertry1.xlsx')\n",
    "df1.to_excel(writer, encoding='utf8', index=False)\n",
    "writer.save()"
   ]
  },
  {
   "cell_type": "code",
   "execution_count": 191,
   "metadata": {},
   "outputs": [],
   "source": [
    "writer = ExcelWriter('FINALscoringDataset11.xlsx')\n",
    "ScoringData.to_excel(writer, encoding='utf8', index=False)\n",
    "writer.save()"
   ]
  },
  {
   "cell_type": "code",
   "execution_count": null,
   "metadata": {},
   "outputs": [],
   "source": []
  }
 ],
 "metadata": {
  "kernelspec": {
   "display_name": "Python 3",
   "language": "python",
   "name": "python3"
  },
  "language_info": {
   "codemirror_mode": {
    "name": "ipython",
    "version": 3
   },
   "file_extension": ".py",
   "mimetype": "text/x-python",
   "name": "python",
   "nbconvert_exporter": "python",
   "pygments_lexer": "ipython3",
   "version": "3.8.5"
  }
 },
 "nbformat": 4,
 "nbformat_minor": 4
}
